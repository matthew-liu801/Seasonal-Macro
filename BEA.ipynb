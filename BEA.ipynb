{
 "cells": [
  {
   "cell_type": "code",
   "execution_count": 5,
   "metadata": {},
   "outputs": [],
   "source": [
    "import os \n",
    "\n",
    "os.getcwd()\n",
    "\n",
    "os.chdir('/Users/matth/Dropbox/Seasonal Macro')"
   ]
  },
  {
   "cell_type": "code",
   "execution_count": 34,
   "metadata": {},
   "outputs": [],
   "source": [
    "from calendar import month\n",
    "import pandas as pd\n",
    "import numpy as np\n",
    "import matplotlib.pyplot as plt\n",
    "import statsmodels.formula.api as sm \n",
    "import os\n",
    "from datetime import datetime\n",
    "from pyspark.sql.functions import date_format\n",
    "from pandas import ExcelWriter\n",
    "import re as re\n"
   ]
  },
  {
   "cell_type": "code",
   "execution_count": 7,
   "metadata": {},
   "outputs": [],
   "source": [
    "pd.set_option('display.max_rows', 100)\n",
    "pd.set_option('display.max_columns', 100)"
   ]
  },
  {
   "cell_type": "markdown",
   "metadata": {},
   "source": [
    "## BM/BEA Data"
   ]
  },
  {
   "cell_type": "code",
   "execution_count": 8,
   "metadata": {},
   "outputs": [],
   "source": [
    "#Map Months to Quarters\n",
    "\n",
    "\"\"\"\n",
    "DateTime objects are reported as mm-dd-yyyy. All the BEA/BM data is reported at a quarterly level, measured in the first month of each quarter.\n",
    "This function takes in a month (NUM) and returns the quarter it corresponds to.\n",
    "\"\"\"\n",
    "\n",
    "def month_to_quarter(num):\n",
    "    if num == 1:\n",
    "        return num\n",
    "    elif num == 4:\n",
    "        return 2\n",
    "    elif num == 7:\n",
    "        return 3\n",
    "    elif num == 10:\n",
    "        return 4\n",
    "\n",
    "\n",
    "#Lagged % Change Calculation, Quarterly\n",
    "\"\"\"\n",
    "This function takes in a series (corresponding to some index, such as \"durable goods\") and computes a % change from time period to time period.\n",
    "\"\"\"\n",
    "\n",
    "def perc_change_quart(series, index):\n",
    "    lst=[]\n",
    "    for j in range(len(series)):\n",
    "        if j==0 or isinstance(series.loc[index[j]], str) or isinstance(series.loc[index[j-1]],str):\n",
    "            lst.append(np.nan)\n",
    "        else:\n",
    "            if series.loc[index[j-1]] == 0:\n",
    "                lst.append(np.nan)\n",
    "            else:\n",
    "                lst.append((series.loc[index[j]]-series.loc[index[j-1]])/series.loc[index[j-1]])\n",
    "    return lst \n",
    "\n",
    "#Unique Column Names; from https://stackoverflow.com/questions/19071622/automatically-rename-columns-to-ensure-they-are-unique\n",
    "\n",
    "\"\"\"\n",
    "Some of the dataframes report multiple indices with the same name under different categories.\n",
    "For instance, 'goods' and 'services' are reported a total of 3x (domestic, import, export) but all have the same name in the dataframe.\n",
    "This function renames them as [col_name]_[number] where number is one of {1,2,3, ...}\n",
    "\"\"\"\n",
    "\n",
    "def unique_cols(df_columns):\n",
    "    seen = set()\n",
    "    for item in df_columns:\n",
    "        fudge = 1\n",
    "        newitem = item\n",
    "        while newitem in seen:\n",
    "            fudge += 1\n",
    "            newitem = \"{}_{}\".format(item, fudge)\n",
    "        yield newitem\n",
    "        seen.add(newitem)"
   ]
  },
  {
   "cell_type": "markdown",
   "metadata": {},
   "source": [
    "Cleaning BEA and BM Dataframes"
   ]
  },
  {
   "cell_type": "code",
   "execution_count": 9,
   "metadata": {},
   "outputs": [],
   "source": [
    "#Defining Data\n",
    "\n",
    "\"\"\"\n",
    "We use BEA data from 8 different tables. We analyze the BEA data by creating a LIST of DATAFRAMES, where each element of the list corresponds to one of the tables in the master sheet.\n",
    "\n",
    "Each DATAFRAME reports years as columns and indices as rows. We take the transpose so each row is a time period and each column is an index.\n",
    "\n",
    "Data is read in from 'bea_master_sheet.xlsx'.\n",
    "\n",
    "Barsky Miron data is read in from 'data_final.dta'.\n",
    "\"\"\"\n",
    "\n",
    "sheet_names = ['Table 8.1.3', 'Table 8.1.4', 'Table 8.1.5', 'Table 8.1.6', 'Table 8.1.11', 'Table 8.2', 'Table 8.3', 'Table 8.4'] \n",
    "\n",
    "bea_data = []\n",
    "\n",
    "bea_years = []\n",
    "\n",
    "for i in range(len(sheet_names)):\n",
    "    bea_data.append(pd.read_excel('Data/barsky_miron_updated/BEA NIPA/bea_master_sheet.xlsx', sheet_name=sheet_names[i], na_values='---', parse_dates=True, usecols=lambda x: x!= ('List', 'xq', '')))\n",
    "    bea_data[i] = bea_data[i].transpose()\n",
    "    bea_years.append(list(range(int(bea_data[i].index[2]), 2022)))\n",
    "    \n",
    "bm_data = pd.read_stata('Data/barsky_miron_updated/data_final.dta')\n"
   ]
  },
  {
   "cell_type": "code",
   "execution_count": 10,
   "metadata": {},
   "outputs": [],
   "source": [
    "#Column Names, BEA\n",
    "\n",
    "for i in range(len(sheet_names)): #range(len(sheet_names)) because each nested list = 1 sheet\n",
    "    bea_data[i].index=range(len(bea_data[i].index))\n",
    "    bea_data[i].columns = [j for j in bea_data[i].iloc[1]]\n",
    "    bea_data[i].drop(index=[0,1], axis=0, inplace=True)\n",
    "    bea_data[i].index=range(len(bea_data[i].index))\n",
    "    if 'Residuals' in bea_data[i].columns:\n",
    "        bea_data[i].drop('Residuals')\n"
   ]
  },
  {
   "cell_type": "code",
   "execution_count": 11,
   "metadata": {},
   "outputs": [],
   "source": [
    "#Reindexing BEA Dataframe to DateTime Objects\n",
    "\n",
    "bea_indexnames=[]\n",
    "for i in range(len(sheet_names)):\n",
    "    bea_indexnames.append([])\n",
    "\n",
    "for i in range(len(sheet_names)):\n",
    "    j=1\n",
    "    while j<=len(bea_data[i].index):\n",
    "        if j == len(bea_data[i].index):\n",
    "            bea_indexnames[i].append('10/01/2021') #All BEA data ends with Q4 of 2021\n",
    "        elif j%4 == 0:\n",
    "            bea_indexnames[i].append(f'10/01/{bea_years[i][j//4]-1}')\n",
    "        else:\n",
    "            bea_indexnames[i].append(f'0{3*(j%4)-2}/01/{bea_years[i][j//4]}')\n",
    "        j+=1\n",
    "\n",
    "for i in range(len(sheet_names)):\n",
    "    bea_data[i].index = bea_indexnames[i]\n",
    "    bea_data[i].index = pd.to_numeric(bea_data[i].index, errors='ignore')\n",
    "    bea_data[i].index = pd.to_datetime(bea_data[i].index, format='%m/%d/%Y')\n",
    "    bea_data[i].pop(bea_data[i].columns[0])\n"
   ]
  },
  {
   "cell_type": "code",
   "execution_count": 12,
   "metadata": {},
   "outputs": [],
   "source": [
    "#Reindexing BM Dataframe to DateTime Objects\n",
    "\n",
    "bm_indexnames=[]\n",
    "for i in range(len(bm_data.columns)):\n",
    "    bm_indexnames.append([])\n",
    "\n",
    "for i in range(len(bm_data.columns)):\n",
    "    j=1\n",
    "    while j<=len(bm_data.index):\n",
    "        if j == len(bm_data.index):\n",
    "            bm_indexnames[i].append('04/01/2019') #All BM data ends with Q2 of 2019\n",
    "        elif j%4 == 0:\n",
    "            bm_indexnames[i].append(f\"10/01/{bm_data['year'][j]-1}\")\n",
    "        else:\n",
    "            bm_indexnames[i].append(f\"0{3*(j%4)-2}/01/{bm_data['year'][j]}\")\n",
    "        j+=1\n",
    "\n",
    "for i in range(len(bm_data.columns)):\n",
    "    bm_data.index = bm_indexnames[i]\n",
    "    bm_data.index = pd.to_numeric(bm_data.index, errors='ignore')\n",
    "    bm_data.index = pd.to_datetime(bm_data.index, format='%m/%d/%Y')\n"
   ]
  },
  {
   "cell_type": "code",
   "execution_count": 13,
   "metadata": {},
   "outputs": [],
   "source": [
    "#Removing whitespace from BEA/BM column names\n",
    "\n",
    "#Some names were read in like '                 Services'. This code block just turns that name into 'Services'. \n",
    "\n",
    "for i in range(len(sheet_names)):\n",
    "    bea_data[i].columns=[j.strip() for j in bea_data[i].columns if isinstance(j,str)]\n",
    "    \n",
    "bm_data.columns = [i.strip() for i in bm_data.columns if isinstance(i,str)]"
   ]
  },
  {
   "cell_type": "code",
   "execution_count": 14,
   "metadata": {},
   "outputs": [],
   "source": [
    "#BEA data contains three columns named goods/services. Need to rename them:\n",
    "for k in range(len(sheet_names)):\n",
    "    bea_data[k].columns = unique_cols(list(bea_data[k].columns))"
   ]
  },
  {
   "cell_type": "code",
   "execution_count": 15,
   "metadata": {},
   "outputs": [],
   "source": [
    "#Dropping Unnecessary BM Columns\n",
    "\n",
    "#BM dataset has some unnecessary/poorly named variables. We are interested in comparing the BM data where we know the BEA data can match each category.\n",
    "\n",
    "bm_droplists = ['var19', 'var20', 'var22', 'var23']+list(bm_data.columns[28:]) #Info on wages/employment starts from 28th column\n",
    "\n",
    "bm_data = bm_data.drop(columns=bm_droplists)\n"
   ]
  },
  {
   "cell_type": "markdown",
   "metadata": {},
   "source": [
    "Quarterly % Changes, BM"
   ]
  },
  {
   "cell_type": "code",
   "execution_count": 16,
   "metadata": {},
   "outputs": [],
   "source": [
    "#This creates quarterly % change variables for each index in the BM dataset\n",
    "\n",
    "quarter_indices_bm = bm_data.index \n",
    "quarter_names_bm=list(quarter_indices_bm)\n",
    "\n",
    "quarterly_per_change_names_bm=[f'Quarterly % Change, {i}' for i in bm_data.columns[2:24]] #omit year/month + quarter dummies\n",
    "\n",
    "for i in range(0,22):\n",
    "    bm_data[quarterly_per_change_names_bm[i]]=perc_change_quart(bm_data[bm_data.columns[i+2]], list(quarter_indices_bm))\n",
    "\n"
   ]
  },
  {
   "cell_type": "markdown",
   "metadata": {},
   "source": [
    "Quarterly % Changes, BEA"
   ]
  },
  {
   "cell_type": "code",
   "execution_count": 17,
   "metadata": {},
   "outputs": [],
   "source": [
    "#This creates quarterly % change variables for each table in the BEA data. \n",
    "#This is very similar to the computations for the BM data, except we do it for each dataframe in our list of dataframes.\n",
    "\n",
    "\n",
    "quarterly_per_change_names_bea=[]\n",
    "quarter_indices_bea = []\n",
    "quarter_names_bea=[]\n",
    "\n",
    "for i in range(len(sheet_names)):\n",
    "    quarterly_per_change_names_bea.append([])\n",
    "    quarter_indices_bea.append([])\n",
    "    quarter_names_bea.append([])\n",
    "\n",
    "for i in range(len(sheet_names)):\n",
    "    quarterly_per_change_names_bea[i]=[f'Quarterly % Change, {i}' for i in bea_data[i].columns] \n",
    "    quarter_indices_bea[i]=bea_data[i].index\n",
    "    quarter_names_bea[i]=list(quarter_indices_bea[i])\n",
    "\n",
    "for i in range(len(sheet_names)):\n",
    "    for j in range(len(bea_data[i].columns)):\n",
    "        quarterly_name=quarterly_per_change_names_bea[i][j]\n",
    "        column_name=bea_data[i].columns[j]\n",
    "        bea_data[i][quarterly_name]=perc_change_quart(bea_data[i][column_name], list(bea_data[i].index))"
   ]
  },
  {
   "cell_type": "code",
   "execution_count": 18,
   "metadata": {},
   "outputs": [],
   "source": [
    "#Defining Quarter + Year + Quarter Dummy Variables for BM/BEA \n",
    "\n",
    "#BEA Quarter + Year\n",
    "for i in range(len(sheet_names)):\n",
    "    bea_data[i]['Year'] = pd.DatetimeIndex(bea_data[i].index).year\n",
    "    bea_data[i]['Quarter'] = pd.DatetimeIndex(bea_data[i].index).month.map(month_to_quarter)\n",
    "\n",
    "#BM Quarter + Year were already defined in the original dataset\n",
    "\n",
    "#BEA Defining Quarterly Dummies \n",
    "\n",
    "quarter_dummies_bea=[]\n",
    "\n",
    "for i in range(len(sheet_names)):\n",
    "    quarter_dummies_bea.append([])\n",
    "    quarter_dummies_bea[i] = pd.get_dummies(bea_data[i]['Quarter'])\n",
    "    bea_data[i]=bea_data[i].join(quarter_dummies_bea[i])\n",
    "\n",
    "#BM Defining Quarterly Dummies\n",
    "\n",
    "quarter_dummies_bm = pd.get_dummies(bm_data['quarter'])\n",
    "bm_data=bm_data.join(quarter_dummies_bm)\n"
   ]
  },
  {
   "cell_type": "markdown",
   "metadata": {},
   "source": [
    "## Regressions"
   ]
  },
  {
   "cell_type": "markdown",
   "metadata": {},
   "source": [
    "BM, Quarterly"
   ]
  },
  {
   "cell_type": "code",
   "execution_count": 19,
   "metadata": {},
   "outputs": [],
   "source": [
    "#Quarterly % Change, 5 lags (BM)\n",
    "\n",
    "bm_summary_quarterly_5lags = [] #this is a list of regression table outputs\n",
    "bm_data_quarterly_5lags = [] #this is a list of point estimates, standard errors, and t-values. This is used to make plots\n",
    "\n",
    "for i in range(22):\n",
    "    temp_df = bm_data.copy()\n",
    "    indices=np.where(bm_data[quarterly_per_change_names_bm[i]].notnull())[0] #This makes sure we don't run into any nan issues when running the regression\n",
    "    index_names_temp = [k for k in quarter_names_bm if quarter_names_bm.index(k) in indices] #This makes sure the monthly dummies match up with the corresponding % change\n",
    "    temp_df['y'] = bm_data[quarterly_per_change_names_bm[i]].dropna()\n",
    "    temp_df['x_1'] = bm_data[1].loc[index_names_temp]\n",
    "    temp_df['x_2'] = bm_data[2].loc[index_names_temp]\n",
    "    temp_df['x_3'] = bm_data[3].loc[index_names_temp]\n",
    "    temp_df['x_4'] = bm_data[4].loc[index_names_temp]\n",
    "    ols = sm.ols(formula = 'y~x_1+x_2+x_3+x_4-1', data=temp_df).fit(cov_type='HAC',cov_kwds={'maxlags':5})\n",
    "    bm_summary_quarterly_5lags.append(ols.summary(yname = temp_df[quarterly_per_change_names_bm], xname = ['Q1', 'Q2', 'Q3', 'Q4']))\n",
    "    df = pd.DataFrame\n",
    "    df = pd.concat((ols.params.rename('coefficient'), ols.bse.rename('se'), ols.tvalues.rename('t')), axis=1)\n",
    "    bm_data_quarterly_5lags.append(df)"
   ]
  },
  {
   "cell_type": "code",
   "execution_count": 20,
   "metadata": {},
   "outputs": [],
   "source": [
    "#Quarterly % Change, 10 lags (BM)\n",
    "\n",
    "bm_summary_quarterly_10lags = []\n",
    "bm_data_quarterly_10lags = []\n",
    "\n",
    "for i in range(22):\n",
    "    temp_df = bm_data.copy()\n",
    "    indices=np.where(bm_data[quarterly_per_change_names_bm[i]].notnull())[0]\n",
    "    index_names_temp = [k for k in quarter_names_bm if quarter_names_bm.index(k) in indices]\n",
    "    temp_df['y'] = bm_data[quarterly_per_change_names_bm[i]].dropna()\n",
    "    temp_df['x_1'] = bm_data[1].loc[index_names_temp]\n",
    "    temp_df['x_2'] = bm_data[2].loc[index_names_temp]\n",
    "    temp_df['x_3'] = bm_data[3].loc[index_names_temp]\n",
    "    temp_df['x_4'] = bm_data[4].loc[index_names_temp]\n",
    "    ols = sm.ols(formula = 'y~x_1+x_2+x_3+x_4-1', data=temp_df).fit(cov_type='HAC',cov_kwds={'maxlags':10})\n",
    "    bm_summary_quarterly_10lags.append(ols.summary(yname = temp_df[quarterly_per_change_names_bm], xname = ['Q1', 'Q2', 'Q3', 'Q4']))\n",
    "    df = pd.DataFrame\n",
    "    df = pd.concat((ols.params.rename('coefficient'), ols.bse.rename('se'), ols.tvalues.rename('t')), axis=1)\n",
    "    bm_data_quarterly_10lags.append(df)"
   ]
  },
  {
   "cell_type": "markdown",
   "metadata": {},
   "source": [
    "BEA, Quarterly"
   ]
  },
  {
   "cell_type": "code",
   "execution_count": 21,
   "metadata": {},
   "outputs": [
    {
     "name": "stderr",
     "output_type": "stream",
     "text": [
      "/Library/Frameworks/Python.framework/Versions/3.9/lib/python3.9/site-packages/scipy/stats/_stats_py.py:1477: UserWarning: kurtosistest only valid for n>=20 ... continuing anyway, n=11\n",
      "  warnings.warn(\"kurtosistest only valid for n>=20 ... continuing \"\n"
     ]
    }
   ],
   "source": [
    "#Quarterly % Change, 5 lags (BEA)\n",
    "\n",
    "bea_summary_quarterly_5lags = []\n",
    "bea_data_quarterly_5lags = []\n",
    "\n",
    "for i in range(len(sheet_names)):\n",
    "    bea_summary_quarterly_5lags.append({})\n",
    "    bea_data_quarterly_5lags.append({})\n",
    "\n",
    "for i in range(len(sheet_names)): \n",
    "    for j in range(len(quarterly_per_change_names_bea[i])):\n",
    "        try:\n",
    "            temp_df=pd.DataFrame()\n",
    "            quarterly_name = quarterly_per_change_names_bea[i][j]\n",
    "            indices=(np.where(bea_data[i][quarterly_name].notnull())[0]).tolist() \n",
    "            temp_df['y'] = bea_data[i][quarterly_name].dropna()\n",
    "            temp_df['x_1'] = bea_data[i][1].iloc[indices] \n",
    "            temp_df['x_2'] = bea_data[i][2].iloc[indices]\n",
    "            temp_df['x_3'] = bea_data[i][3].iloc[indices]\n",
    "            temp_df['x_4'] = bea_data[i][4].iloc[indices]\n",
    "            ols = sm.ols(formula = 'y~x_1+x_2+x_3+x_4-1', data=temp_df).fit(cov_type='HAC',cov_kwds={'maxlags':5})\n",
    "            bea_summary_quarterly_5lags[i][quarterly_name]=ols.summary(yname = quarterly_name, xname = ['Q1', 'Q2', 'Q3', 'Q4'])\n",
    "            df = pd.DataFrame\n",
    "            df = pd.concat((ols.params.rename('coefficient'), ols.bse.rename('se'), ols.tvalues.rename('t')), axis=1)\n",
    "            bea_data_quarterly_5lags[i][quarterly_name]=df\n",
    "        except ValueError:\n",
    "            continue"
   ]
  },
  {
   "cell_type": "code",
   "execution_count": 22,
   "metadata": {},
   "outputs": [
    {
     "name": "stderr",
     "output_type": "stream",
     "text": [
      "/Library/Frameworks/Python.framework/Versions/3.9/lib/python3.9/site-packages/scipy/stats/_stats_py.py:1477: UserWarning: kurtosistest only valid for n>=20 ... continuing anyway, n=11\n",
      "  warnings.warn(\"kurtosistest only valid for n>=20 ... continuing \"\n"
     ]
    }
   ],
   "source": [
    "#Quarterly % Change, 10 lags (BEA)\n",
    "\n",
    "bea_summary_quarterly_10lags = []\n",
    "bea_data_quarterly_10lags = []\n",
    "\n",
    "for i in range(len(sheet_names)):\n",
    "    bea_summary_quarterly_10lags.append({})\n",
    "    bea_data_quarterly_10lags.append({})\n",
    "\n",
    "for i in range(len(sheet_names)): \n",
    "    for j in range(len(quarterly_per_change_names_bea[i])):\n",
    "        try:\n",
    "            temp_df=pd.DataFrame()\n",
    "            quarterly_name = quarterly_per_change_names_bea[i][j]\n",
    "            indices=(np.where(bea_data[i][quarterly_name].notnull())[0]).tolist() \n",
    "            temp_df['y'] = bea_data[i][quarterly_name].dropna()\n",
    "            temp_df['x_1'] = bea_data[i][1].iloc[indices] \n",
    "            temp_df['x_2'] = bea_data[i][2].iloc[indices]\n",
    "            temp_df['x_3'] = bea_data[i][3].iloc[indices]\n",
    "            temp_df['x_4'] = bea_data[i][4].iloc[indices]\n",
    "            ols = sm.ols(formula = 'y~x_1+x_2+x_3+x_4-1', data=temp_df).fit(cov_type='HAC',cov_kwds={'maxlags':10})\n",
    "            bea_summary_quarterly_10lags[i][quarterly_name]=ols.summary(yname = quarterly_name, xname = ['Q1', 'Q2', 'Q3', 'Q4'])\n",
    "            df = pd.DataFrame\n",
    "            df = pd.concat((ols.params.rename('coefficient'), ols.bse.rename('se'), ols.tvalues.rename('t')), axis=1)\n",
    "            bea_data_quarterly_10lags[i][quarterly_name]=df\n",
    "        except ValueError:\n",
    "            continue"
   ]
  },
  {
   "cell_type": "markdown",
   "metadata": {},
   "source": [
    "# Regressions, Corrected Years"
   ]
  },
  {
   "cell_type": "code",
   "execution_count": 23,
   "metadata": {},
   "outputs": [],
   "source": [
    "#Setting up Years\n",
    "\n",
    "\"\"\"\n",
    "BEA and BM data use different years. Only want to report years with both BEA and BM\n",
    "BM data begins from 1947, ends mid 2019. \n",
    "BEA data either starts in 1947, 2002, or 2003, ends in 2021.\n",
    "\n",
    "Here, I regress from years 1947-mid 2019, 2002-mid 2019, or 2003-mid 2019 based on the BEA index.\n",
    "\"\"\"\n",
    "\n",
    "#Years from 1947-2019 are just the bm_data\n",
    "yrs_1947_2019 = [k for k in bm_data.index]\n",
    "yrs_2002_2019 = [i for i in bea_data[0].index if i in bm_data.index] #bea_data[0] starts from 2002\n",
    "yrs_2003_2019 = [j for j in bea_data[4].index if j in bm_data.index] #bea_data[4] starts from 2003"
   ]
  },
  {
   "cell_type": "markdown",
   "metadata": {},
   "source": [
    "BM, Quarterly"
   ]
  },
  {
   "cell_type": "code",
   "execution_count": 24,
   "metadata": {},
   "outputs": [],
   "source": [
    "#Quarterly % Change, 5 lags (BM), 1947\n",
    "\n",
    "#This regression is the same as was run above in the non-corrected section.\n",
    "\n",
    "bm_summary_quarterly_5lags_1947 = []\n",
    "bm_data_quarterly_5lags_1947 = []\n",
    "\n",
    "for i in range(22): #first 22 columns are the columns that we have BEA data on\n",
    "    temp_df = bm_data.copy()\n",
    "    indices=np.where(bm_data[quarterly_per_change_names_bm[i]].notnull())[0]\n",
    "    index_names_temp = [k for k in quarter_names_bm if quarter_names_bm.index(k) in indices]\n",
    "    temp_df['y'] = bm_data[quarterly_per_change_names_bm[i]].dropna()\n",
    "    temp_df['x_1'] = bm_data[1].loc[index_names_temp]\n",
    "    temp_df['x_2'] = bm_data[2].loc[index_names_temp]\n",
    "    temp_df['x_3'] = bm_data[3].loc[index_names_temp]\n",
    "    temp_df['x_4'] = bm_data[4].loc[index_names_temp]\n",
    "    ols = sm.ols(formula = 'y~x_1+x_2+x_3+x_4-1', data=temp_df).fit(cov_type='HAC',cov_kwds={'maxlags':5})\n",
    "    bm_summary_quarterly_5lags_1947.append(ols.summary(yname = temp_df[quarterly_per_change_names_bm], xname = ['Q1', 'Q2', 'Q3', 'Q4']))\n",
    "    df = pd.DataFrame\n",
    "    df = pd.concat((ols.params.rename('coefficient'), ols.bse.rename('se'), ols.tvalues.rename('t')), axis=1)\n",
    "    bm_data_quarterly_5lags_1947.append(df)\n"
   ]
  },
  {
   "cell_type": "code",
   "execution_count": 25,
   "metadata": {},
   "outputs": [],
   "source": [
    "#Quarterly % Change, 5 lags (BM), 2002\n",
    "\n",
    "bm_summary_quarterly_5lags_2002 = []\n",
    "bm_data_quarterly_5lags_2002 = []\n",
    "\n",
    "for i in range(22): #first 22 columns are the columns that we have BEA data on\n",
    "    temp_df = bm_data.loc[yrs_2002_2019].copy()\n",
    "    indices=np.where(bm_data.loc[yrs_2002_2019][quarterly_per_change_names_bm[i]].notnull())[0]\n",
    "    index_names_temp = [k for k in yrs_2002_2019 if yrs_2002_2019.index(k) in indices]\n",
    "    temp_df['y'] = bm_data.loc[yrs_2002_2019][quarterly_per_change_names_bm[i]].dropna()\n",
    "    temp_df['x_1'] = bm_data.loc[yrs_2002_2019][1].loc[index_names_temp]\n",
    "    temp_df['x_2'] = bm_data.loc[yrs_2002_2019][2].loc[index_names_temp]\n",
    "    temp_df['x_3'] = bm_data.loc[yrs_2002_2019][3].loc[index_names_temp]\n",
    "    temp_df['x_4'] = bm_data.loc[yrs_2002_2019][4].loc[index_names_temp]\n",
    "    ols = sm.ols(formula = 'y~x_1+x_2+x_3+x_4-1', data=temp_df).fit(cov_type='HAC',cov_kwds={'maxlags':5})\n",
    "    bm_summary_quarterly_5lags_2002.append(ols.summary(yname = temp_df[quarterly_per_change_names_bm], xname = ['Q1', 'Q2', 'Q3', 'Q4']))\n",
    "    df = pd.DataFrame\n",
    "    df = pd.concat((ols.params.rename('coefficient'), ols.bse.rename('se'), ols.tvalues.rename('t')), axis=1)\n",
    "    bm_data_quarterly_5lags_2002.append(df)\n",
    "\n"
   ]
  },
  {
   "cell_type": "code",
   "execution_count": 26,
   "metadata": {},
   "outputs": [],
   "source": [
    "#Quarterly % Change, 5 lags (BM), 2003\n",
    "\n",
    "bm_summary_quarterly_5lags_2003 = []\n",
    "bm_data_quarterly_5lags_2003 = []\n",
    "\n",
    "for i in range(22): #first 22 columns are the columns that we have BEA data on\n",
    "    temp_df = bm_data.loc[yrs_2003_2019].copy()\n",
    "    indices=np.where(bm_data.loc[yrs_2003_2019][quarterly_per_change_names_bm[i]].notnull())[0]\n",
    "    index_names_temp = [k for k in yrs_2003_2019 if yrs_2003_2019.index(k) in indices]\n",
    "    temp_df['y'] = bm_data.loc[yrs_2003_2019][quarterly_per_change_names_bm[i]].dropna()\n",
    "    temp_df['x_1'] = bm_data.loc[yrs_2003_2019][1].loc[index_names_temp]\n",
    "    temp_df['x_2'] = bm_data.loc[yrs_2003_2019][2].loc[index_names_temp]\n",
    "    temp_df['x_3'] = bm_data.loc[yrs_2003_2019][3].loc[index_names_temp]\n",
    "    temp_df['x_4'] = bm_data.loc[yrs_2003_2019][4].loc[index_names_temp]\n",
    "    ols = sm.ols(formula = 'y~x_1+x_2+x_3+x_4-1', data=temp_df).fit(cov_type='HAC',cov_kwds={'maxlags':5})\n",
    "    bm_summary_quarterly_5lags_2003.append(ols.summary(yname = temp_df[quarterly_per_change_names_bm], xname = ['Q1', 'Q2', 'Q3', 'Q4']))\n",
    "    df = pd.DataFrame\n",
    "    df = pd.concat((ols.params.rename('coefficient'), ols.bse.rename('se'), ols.tvalues.rename('t')), axis=1)\n",
    "    bm_data_quarterly_5lags_2003.append(df)\n",
    "\n"
   ]
  },
  {
   "cell_type": "code",
   "execution_count": 27,
   "metadata": {},
   "outputs": [],
   "source": [
    "#Quarterly % Change, 10 lags (BM), 1947\n",
    "\n",
    "#This regression is the same as was run above in the non-corrected section.\n",
    "\n",
    "bm_summary_quarterly_10lags_1947 = []\n",
    "bm_data_quarterly_10lags_1947 = []\n",
    "\n",
    "for i in range(22): #first 22 columns are the columns that we have BEA data on\n",
    "    temp_df = bm_data.copy()\n",
    "    indices=np.where(bm_data[quarterly_per_change_names_bm[i]].notnull())[0]\n",
    "    index_names_temp = [k for k in quarter_names_bm if quarter_names_bm.index(k) in indices]\n",
    "    temp_df['y'] = bm_data[quarterly_per_change_names_bm[i]].dropna()\n",
    "    temp_df['x_1'] = bm_data[1].loc[index_names_temp]\n",
    "    temp_df['x_2'] = bm_data[2].loc[index_names_temp]\n",
    "    temp_df['x_3'] = bm_data[3].loc[index_names_temp]\n",
    "    temp_df['x_4'] = bm_data[4].loc[index_names_temp]\n",
    "    ols = sm.ols(formula = 'y~x_1+x_2+x_3+x_4-1', data=temp_df).fit(cov_type='HAC',cov_kwds={'maxlags':10})\n",
    "    bm_summary_quarterly_10lags_1947.append(ols.summary(yname = temp_df[quarterly_per_change_names_bm], xname = ['Q1', 'Q2', 'Q3', 'Q4']))\n",
    "    df = pd.DataFrame\n",
    "    df = pd.concat((ols.params.rename('coefficient'), ols.bse.rename('se'), ols.tvalues.rename('t')), axis=1)\n",
    "    bm_data_quarterly_10lags_1947.append(df)\n"
   ]
  },
  {
   "cell_type": "code",
   "execution_count": 28,
   "metadata": {},
   "outputs": [],
   "source": [
    "#Quarterly % Change, 10 lags (BM), 2002\n",
    "\n",
    "bm_summary_quarterly_10lags_2002 = []\n",
    "bm_data_quarterly_10lags_2002 = []\n",
    "\n",
    "for i in range(22): #first 22 columns are the columns that we have BEA data on\n",
    "    temp_df = bm_data.loc[yrs_2002_2019].copy()\n",
    "    indices=np.where(bm_data.loc[yrs_2002_2019][quarterly_per_change_names_bm[i]].notnull())[0]\n",
    "    index_names_temp = [k for k in yrs_2002_2019 if yrs_2002_2019.index(k) in indices]\n",
    "    temp_df['y'] = bm_data.loc[yrs_2002_2019][quarterly_per_change_names_bm[i]].dropna()\n",
    "    temp_df['x_1'] = bm_data.loc[yrs_2002_2019][1].loc[index_names_temp]\n",
    "    temp_df['x_2'] = bm_data.loc[yrs_2002_2019][2].loc[index_names_temp]\n",
    "    temp_df['x_3'] = bm_data.loc[yrs_2002_2019][3].loc[index_names_temp]\n",
    "    temp_df['x_4'] = bm_data.loc[yrs_2002_2019][4].loc[index_names_temp]\n",
    "    ols = sm.ols(formula = 'y~x_1+x_2+x_3+x_4-1', data=temp_df).fit(cov_type='HAC',cov_kwds={'maxlags':10})\n",
    "    bm_summary_quarterly_10lags_2002.append(ols.summary(yname = temp_df[quarterly_per_change_names_bm], xname = ['Q1', 'Q2', 'Q3', 'Q4']))\n",
    "    df = pd.DataFrame\n",
    "    df = pd.concat((ols.params.rename('coefficient'), ols.bse.rename('se'), ols.tvalues.rename('t')), axis=1)\n",
    "    bm_data_quarterly_10lags_2002.append(df)\n",
    "\n"
   ]
  },
  {
   "cell_type": "code",
   "execution_count": 29,
   "metadata": {},
   "outputs": [],
   "source": [
    "#Quarterly % Change, 10 lags (BM), 2003\n",
    "\n",
    "bm_summary_quarterly_10lags_2003 = []\n",
    "bm_data_quarterly_10lags_2003 = []\n",
    "\n",
    "for i in range(22): #first 22 columns are the columns that we have BEA data on\n",
    "    temp_df = bm_data.loc[yrs_2003_2019].copy()\n",
    "    indices=np.where(bm_data.loc[yrs_2003_2019][quarterly_per_change_names_bm[i]].notnull())[0]\n",
    "    index_names_temp = [k for k in yrs_2003_2019 if yrs_2003_2019.index(k) in indices]\n",
    "    temp_df['y'] = bm_data.loc[yrs_2003_2019][quarterly_per_change_names_bm[i]].dropna()\n",
    "    temp_df['x_1'] = bm_data.loc[yrs_2003_2019][1].loc[index_names_temp]\n",
    "    temp_df['x_2'] = bm_data.loc[yrs_2003_2019][2].loc[index_names_temp]\n",
    "    temp_df['x_3'] = bm_data.loc[yrs_2003_2019][3].loc[index_names_temp]\n",
    "    temp_df['x_4'] = bm_data.loc[yrs_2003_2019][4].loc[index_names_temp]\n",
    "    ols = sm.ols(formula = 'y~x_1+x_2+x_3+x_4-1', data=temp_df).fit(cov_type='HAC',cov_kwds={'maxlags':10})\n",
    "    bm_summary_quarterly_10lags_2003.append(ols.summary(yname = temp_df[quarterly_per_change_names_bm], xname = ['Q1', 'Q2', 'Q3', 'Q4']))\n",
    "    df = pd.DataFrame\n",
    "    df = pd.concat((ols.params.rename('coefficient'), ols.bse.rename('se'), ols.tvalues.rename('t')), axis=1)\n",
    "    bm_data_quarterly_10lags_2003.append(df)\n",
    "\n"
   ]
  },
  {
   "cell_type": "markdown",
   "metadata": {},
   "source": [
    "BEA, Quarterly"
   ]
  },
  {
   "cell_type": "code",
   "execution_count": 30,
   "metadata": {},
   "outputs": [],
   "source": [
    "#Defining BEA dataframe to be restricted to end mid 2019\n",
    "\n",
    "bea_data_corrected=[]\n",
    "\n",
    "for i in bea_data:\n",
    "    if i.index[0] == pd.Timestamp('2002-01-01 00:00:00'):\n",
    "        bea_data_corrected.append(i.loc[yrs_2002_2019])\n",
    "    elif i.index[0] == pd.Timestamp('2003-01-01 00:00:00'):\n",
    "        bea_data_corrected.append(i.loc[yrs_2003_2019])\n",
    "    elif i.index[0] == pd.Timestamp('1947-01-01 00:00:00'):\n",
    "        bea_data_corrected.append(i.loc[yrs_1947_2019])\n"
   ]
  },
  {
   "cell_type": "code",
   "execution_count": 31,
   "metadata": {},
   "outputs": [
    {
     "name": "stderr",
     "output_type": "stream",
     "text": [
      "/Library/Frameworks/Python.framework/Versions/3.9/lib/python3.9/site-packages/statsmodels/stats/stattools.py:74: ValueWarning: omni_normtest is not valid with less than 8 observations; 4 samples were given.\n",
      "  warn(\"omni_normtest is not valid with less than 8 observations; %i \"\n",
      "/Library/Frameworks/Python.framework/Versions/3.9/lib/python3.9/site-packages/statsmodels/regression/linear_model.py:1918: RuntimeWarning: divide by zero encountered in double_scalars\n",
      "  return np.sqrt(eigvals[0]/eigvals[-1])\n",
      "/Library/Frameworks/Python.framework/Versions/3.9/lib/python3.9/site-packages/statsmodels/regression/linear_model.py:1736: RuntimeWarning: divide by zero encountered in double_scalars\n",
      "  return 1 - self.ssr/self.centered_tss\n"
     ]
    }
   ],
   "source": [
    "#Quarterly % Change, 5 lags (BEA), Corrected\n",
    "\n",
    "bea_summary_quarterly_5lags_corrected = []\n",
    "bea_data_quarterly_5lags_corrected = []\n",
    "\n",
    "for i in range(len(sheet_names)):\n",
    "    bea_summary_quarterly_5lags_corrected.append({})\n",
    "    bea_data_quarterly_5lags_corrected.append({})\n",
    "\n",
    "for i in range(len(sheet_names)): \n",
    "    for j in range(len(quarterly_per_change_names_bea[i])):\n",
    "        try:\n",
    "            temp_df=pd.DataFrame()\n",
    "            quarterly_name = quarterly_per_change_names_bea[i][j]\n",
    "            indices=(np.where(bea_data_corrected[i][quarterly_name].notnull())[0]).tolist() \n",
    "            temp_df['y'] = bea_data_corrected[i][quarterly_name].dropna()\n",
    "            temp_df['x_1'] = bea_data_corrected[i][1].iloc[indices] \n",
    "            temp_df['x_2'] = bea_data_corrected[i][2].iloc[indices]\n",
    "            temp_df['x_3'] = bea_data_corrected[i][3].iloc[indices]\n",
    "            temp_df['x_4'] = bea_data_corrected[i][4].iloc[indices]\n",
    "            ols = sm.ols(formula = 'y~x_1+x_2+x_3+x_4-1', data=temp_df).fit(cov_type='HAC',cov_kwds={'maxlags':5})\n",
    "            bea_summary_quarterly_5lags_corrected[i][quarterly_name]=ols.summary(yname = quarterly_name, xname = ['Q1', 'Q2', 'Q3', 'Q4'])\n",
    "            df = pd.DataFrame\n",
    "            df = pd.concat((ols.params.rename('coefficient'), ols.bse.rename('se'), ols.tvalues.rename('t')), axis=1)\n",
    "            bea_data_quarterly_5lags_corrected[i][quarterly_name]=df\n",
    "        except ValueError:\n",
    "            continue"
   ]
  },
  {
   "cell_type": "code",
   "execution_count": 32,
   "metadata": {},
   "outputs": [
    {
     "name": "stderr",
     "output_type": "stream",
     "text": [
      "/Library/Frameworks/Python.framework/Versions/3.9/lib/python3.9/site-packages/statsmodels/stats/stattools.py:74: ValueWarning: omni_normtest is not valid with less than 8 observations; 4 samples were given.\n",
      "  warn(\"omni_normtest is not valid with less than 8 observations; %i \"\n",
      "/Library/Frameworks/Python.framework/Versions/3.9/lib/python3.9/site-packages/statsmodels/regression/linear_model.py:1918: RuntimeWarning: divide by zero encountered in double_scalars\n",
      "  return np.sqrt(eigvals[0]/eigvals[-1])\n",
      "/Library/Frameworks/Python.framework/Versions/3.9/lib/python3.9/site-packages/statsmodels/regression/linear_model.py:1736: RuntimeWarning: divide by zero encountered in double_scalars\n",
      "  return 1 - self.ssr/self.centered_tss\n"
     ]
    }
   ],
   "source": [
    "#Quarterly % Change, 10 lags (BEA), Corrected\n",
    "\n",
    "bea_summary_quarterly_10lags_corrected = []\n",
    "bea_data_quarterly_10lags_corrected = []\n",
    "\n",
    "for i in range(len(sheet_names)):\n",
    "    bea_summary_quarterly_10lags_corrected.append({})\n",
    "    bea_data_quarterly_10lags_corrected.append({})\n",
    "\n",
    "for i in range(len(sheet_names)): \n",
    "    for j in range(len(quarterly_per_change_names_bea[i])):\n",
    "        try:\n",
    "            temp_df=pd.DataFrame()\n",
    "            quarterly_name = quarterly_per_change_names_bea[i][j]\n",
    "            indices=(np.where(bea_data_corrected[i][quarterly_name].notnull())[0]).tolist() \n",
    "            temp_df['y'] = bea_data_corrected[i][quarterly_name].dropna()\n",
    "            temp_df['x_1'] = bea_data_corrected[i][1].iloc[indices] \n",
    "            temp_df['x_2'] = bea_data_corrected[i][2].iloc[indices]\n",
    "            temp_df['x_3'] = bea_data_corrected[i][3].iloc[indices]\n",
    "            temp_df['x_4'] = bea_data_corrected[i][4].iloc[indices]\n",
    "            ols = sm.ols(formula = 'y~x_1+x_2+x_3+x_4-1', data=temp_df).fit(cov_type='HAC',cov_kwds={'maxlags':10})\n",
    "            bea_summary_quarterly_10lags_corrected[i][quarterly_name]=ols.summary(yname = quarterly_name, xname = ['Q1', 'Q2', 'Q3', 'Q4'])\n",
    "            df = pd.DataFrame\n",
    "            df = pd.concat((ols.params.rename('coefficient'), ols.bse.rename('se'), ols.tvalues.rename('t')), axis=1)\n",
    "            bea_data_quarterly_10lags_corrected[i][quarterly_name]=df\n",
    "        except ValueError:\n",
    "            continue"
   ]
  },
  {
   "cell_type": "markdown",
   "metadata": {},
   "source": [
    "# Plots"
   ]
  },
  {
   "cell_type": "markdown",
   "metadata": {},
   "source": [
    "BEA (5, 10 lags)"
   ]
  },
  {
   "cell_type": "code",
   "execution_count": 39,
   "metadata": {},
   "outputs": [],
   "source": [
    "#Dictionary for Folder Names for BEA\n",
    "\n",
    "bea_folders={0: 'Table 8.1.3', 1: 'Table 8.1.4', 2: 'Table 8.1.5', 3: 'Table 8.1.6', 4: 'Table 8.1.11', 5: 'Table 8.2', 6: 'Table 8.3', 7: 'Table 8.4'}"
   ]
  },
  {
   "cell_type": "code",
   "execution_count": 40,
   "metadata": {},
   "outputs": [
    {
     "data": {
      "text/plain": [
       "<Figure size 432x288 with 0 Axes>"
      ]
     },
     "metadata": {},
     "output_type": "display_data"
    }
   ],
   "source": [
    "#Visualizations: BEA, 5 lags\n",
    "\n",
    "quarter_list = ['Q1', 'Q2', 'Q3', 'Q4']\n",
    "\n",
    "for i in range(len(sheet_names)):\n",
    "    for j in bea_data_quarterly_5lags[i].keys():\n",
    "        plot = plt.errorbar(x=quarter_list, y=bea_data_quarterly_5lags[i][j]['coefficient'], yerr = bea_data_quarterly_5lags[i][j]['se'])\n",
    "        plt.savefig(f'Data Visualizations/BEA, BM/BEA, 5 lags/{bea_folders[i]}/{j[20:]}_quarterly_5lags.png', bbox_inches='tight') #string slicing is just to get rid of the \"Quarterly % Change,\" section of the name\n",
    "        plt.clf()"
   ]
  },
  {
   "cell_type": "code",
   "execution_count": 41,
   "metadata": {},
   "outputs": [
    {
     "data": {
      "text/plain": [
       "<Figure size 432x288 with 0 Axes>"
      ]
     },
     "metadata": {},
     "output_type": "display_data"
    }
   ],
   "source": [
    "#Visualizations: BEA, 10 lags\n",
    "\n",
    "quarter_list = ['Q1', 'Q2', 'Q3', 'Q4']\n",
    "\n",
    "for i in range(len(sheet_names)):\n",
    "    for j in bea_data_quarterly_10lags[i].keys():\n",
    "        plot = plt.errorbar(x=quarter_list, y=bea_data_quarterly_10lags[i][j]['coefficient'], yerr = bea_data_quarterly_10lags[i][j]['se'])\n",
    "        plt.savefig(f'Data Visualizations/BEA, BM/BEA, 10 lags/{bea_folders[i]}/{j[20:]}_quarterly_10lags.png', bbox_inches='tight')\n",
    "        plt.clf()"
   ]
  },
  {
   "cell_type": "markdown",
   "metadata": {},
   "source": [
    "BM (5,10 lags)"
   ]
  },
  {
   "cell_type": "code",
   "execution_count": 46,
   "metadata": {},
   "outputs": [
    {
     "data": {
      "text/plain": [
       "<Figure size 432x288 with 0 Axes>"
      ]
     },
     "metadata": {},
     "output_type": "display_data"
    }
   ],
   "source": [
    "#Visualizations: BM, 5 lags \n",
    "\n",
    "quarter_list = ['Q1', 'Q2', 'Q3', 'Q4']\n",
    "\n",
    "for i in range(22):\n",
    "    plot = plt.errorbar(x=quarter_list, y=bm_data_quarterly_5lags[i]['coefficient'], yerr = bm_data_quarterly_5lags[i]['se'])\n",
    "    plt.savefig(f'Data Visualizations/BEA, BM/BM, 5 lags/{bm_data.columns[i+2]}_quarterly_5lags.png', bbox_inches='tight')\n",
    "    plt.clf()"
   ]
  },
  {
   "cell_type": "code",
   "execution_count": null,
   "metadata": {},
   "outputs": [],
   "source": [
    "#Visualizations, BM, 10 lags\n",
    "\n",
    "quarter_list = ['Q1', 'Q2', 'Q3', 'Q4']\n",
    "\n",
    "for i in range(22):\n",
    "    plot = plt.errorbar(x=quarter_list, y=bm_data_quarterly_10lags[i]['coefficient'], yerr = bm_data_quarterly_10lags[i]['se'])\n",
    "    plt.savefig(f'Data Visualizations/BEA, BM/BM, 10 lags/{bm_data.columns[i+2]}_quarterly_10lags.png', bbox_inches='tight')\n",
    "    plt.clf()"
   ]
  },
  {
   "cell_type": "markdown",
   "metadata": {},
   "source": [
    "BEA + BM (5,10 lags)"
   ]
  },
  {
   "cell_type": "code",
   "execution_count": 65,
   "metadata": {},
   "outputs": [
    {
     "data": {
      "text/plain": [
       "<Figure size 432x288 with 0 Axes>"
      ]
     },
     "metadata": {},
     "output_type": "display_data"
    }
   ],
   "source": [
    "#Visualizations, BEA + BM (5 lags)\n",
    "\n",
    "#List of Names to Compare\n",
    "\n",
    "quarter_list=['Q1', 'Q2', 'Q3', 'Q4']\n",
    "compare_names=[i for i in quarterly_per_change_names_bea[0][0:25] if i not in ['Quarterly % Change, Goods_2', 'Quarterly % Change, Goods_3', 'Quarterly % Change, Services_2', 'Quarterly % Change, Services_3', 'Quarterly % Change, Change in private inventories', 'Quarterly % Change, Net exports of goods and services']] #compare the 1st 26 observations, minus the import/export breakdown of goods + services. Only report aggregate goods/services\n",
    "folder_names = {0: 'Table 8.1.3', 1: 'Table 8.1.4', 2: 'Table 8.1.5', 3: 'Table 8.1.6', 4: 'Table 8.1.11'}\n",
    "\n",
    "for i in range(5): #Want Tables 8.1.3, 8.1.4, 8.1.5, 8.1.6, 8.1.11\n",
    "    for j,k in zip(compare_names, range(22)): \n",
    "        y1, y2 = bea_data_quarterly_5lags[i][j]['coefficient'], bm_data_quarterly_5lags[k]['coefficient']\n",
    "        yerr1, yerr2 = bea_data_quarterly_5lags[i][j]['se'], bm_data_quarterly_5lags[k]['se']\n",
    "        er1 = plt.errorbar(quarter_list, y1, yerr1, label='BEA')\n",
    "        er2 = plt.errorbar(quarter_list, y2, yerr2, label='BM')\n",
    "        plt.legend(loc='best')\n",
    "        plt.savefig(f'Data Visualizations/BEA, BM/BEA + BM, 5 lags/{folder_names[i]}/{j[20:]}_quarterly_5lags.png', bbox_inches='tight') \n",
    "        plt.clf()"
   ]
  },
  {
   "cell_type": "code",
   "execution_count": null,
   "metadata": {},
   "outputs": [],
   "source": [
    "#Visualizations, BEA + BM (10 lags)\n",
    "\n",
    "#List of Names to Compare\n",
    "\n",
    "quarter_list=['Q1', 'Q2', 'Q3', 'Q4']\n",
    "compare_names=[i for i in quarterly_per_change_names_bea[0][0:25] if i not in ['Quarterly % Change, Goods_2', 'Quarterly % Change, Goods_3', 'Quarterly % Change, Services_2', 'Quarterly % Change, Services_3', 'Quarterly % Change, Change in private inventories', 'Quarterly % Change, Net exports of goods and services']] #compare the 1st 26 observations, minus the import/export breakdown of goods + services. Only report aggregate goods/services\n",
    "folder_names = {0: 'Table 8.1.3', 1: 'Table 8.1.4', 2: 'Table 8.1.5', 3: 'Table 8.1.6', 4: 'Table 8.1.11'}\n",
    "\n",
    "for i in range(5): #Want Tables 8.1.3, 8.1.4, 8.1.5, 8.1.6, 8.1.11\n",
    "    for j,k in zip(compare_names, range(22)): #use compare_names[0] since for some reason it's a nested list\n",
    "        y1, y2 = bea_data_quarterly_10lags[i][j]['coefficient'], bm_data_quarterly_10lags[k]['coefficient']\n",
    "        yerr1, yerr2 = bea_data_quarterly_10lags[i][j]['se'], bm_data_quarterly_10lags[k]['se']\n",
    "        er1 = plt.errorbar(quarter_list, y1, yerr1, label='BEA')\n",
    "        er2 = plt.errorbar(quarter_list, y2, yerr2, label='BM')\n",
    "        plt.legend(loc='best')\n",
    "        plt.savefig(f'Data Visualizations/BEA, BM/BEA + BM, 10 lags/{folder_names[i]}/{j[20:]}_quarterly_10lags.png', bbox_inches='tight') \n",
    "        plt.clf()"
   ]
  },
  {
   "cell_type": "markdown",
   "metadata": {},
   "source": [
    "# Plots, Corrected"
   ]
  },
  {
   "cell_type": "markdown",
   "metadata": {},
   "source": [
    "BEA (5, 10 lags)"
   ]
  },
  {
   "cell_type": "code",
   "execution_count": 43,
   "metadata": {},
   "outputs": [
    {
     "data": {
      "text/plain": [
       "<Figure size 432x288 with 0 Axes>"
      ]
     },
     "metadata": {},
     "output_type": "display_data"
    }
   ],
   "source": [
    "#Visualizations: BEA, 5 lags, Corrected\n",
    "\n",
    "quarter_list = ['Q1', 'Q2', 'Q3', 'Q4']\n",
    "\n",
    "for i in range(len(sheet_names)):\n",
    "    for j in bea_data_quarterly_5lags[i].keys():\n",
    "        plot = plt.errorbar(x=quarter_list, y=bea_data_quarterly_5lags_corrected[i][j]['coefficient'], yerr = bea_data_quarterly_5lags[i][j]['se'])\n",
    "        plt.savefig(f'Data Visualizations/Corrected BEA, BM/BEA, 5 lags/{bea_folders[i]}/{j[20:]}_quarterly_5lags.png', bbox_inches='tight') #string slicing is just to get rid of the \"Quarterly % Change,\" section of the name\n",
    "        plt.clf()"
   ]
  },
  {
   "cell_type": "code",
   "execution_count": 44,
   "metadata": {},
   "outputs": [
    {
     "data": {
      "text/plain": [
       "<Figure size 432x288 with 0 Axes>"
      ]
     },
     "metadata": {},
     "output_type": "display_data"
    }
   ],
   "source": [
    "#Visualizations: BEA, 10 lags, Corrected\n",
    "\n",
    "quarter_list = ['Q1', 'Q2', 'Q3', 'Q4']\n",
    "\n",
    "for i in range(len(sheet_names)):\n",
    "    for j in bea_data_quarterly_10lags[i].keys():\n",
    "        plot = plt.errorbar(x=quarter_list, y=bea_data_quarterly_10lags_corrected[i][j]['coefficient'], yerr = bea_data_quarterly_10lags[i][j]['se'])\n",
    "        plt.savefig(f'Data Visualizations/Corrected BEA, BM/BEA, 10 lags/{bea_folders[i]}/{j[20:]}_quarterly_5lags.png', bbox_inches='tight') #string slicing is just to get rid of the \"Quarterly % Change,\" section of the name\n",
    "        plt.clf()"
   ]
  },
  {
   "cell_type": "markdown",
   "metadata": {},
   "source": [
    "BM (5, 10 lags)"
   ]
  },
  {
   "cell_type": "code",
   "execution_count": 67,
   "metadata": {},
   "outputs": [
    {
     "data": {
      "text/plain": [
       "<Figure size 432x288 with 0 Axes>"
      ]
     },
     "metadata": {},
     "output_type": "display_data"
    }
   ],
   "source": [
    "#Visualizations: BM, 5 lags, 1947-2019\n",
    "\n",
    "quarter_list = ['Q1', 'Q2', 'Q3', 'Q4']\n",
    "\n",
    "for i in range(22):\n",
    "    plot = plt.errorbar(x=quarter_list, y=bm_data_quarterly_5lags_1947[i]['coefficient'], yerr = bm_data_quarterly_5lags_1947[i]['se'])\n",
    "    plt.savefig(f'Data Visualizations/Corrected BEA, BM/BM, 5 lags, 1947/{bm_data.columns[i+2]}_quarterly_5lags.png', bbox_inches='tight') #i+2 since the first 2 columns are year+quarter variables\n",
    "    plt.clf()"
   ]
  },
  {
   "cell_type": "code",
   "execution_count": 69,
   "metadata": {},
   "outputs": [
    {
     "data": {
      "text/plain": [
       "<Figure size 432x288 with 0 Axes>"
      ]
     },
     "metadata": {},
     "output_type": "display_data"
    }
   ],
   "source": [
    "#Visualizations: BM, 10 lags, 1947-2019\n",
    "\n",
    "quarter_list = ['Q1', 'Q2', 'Q3', 'Q4']\n",
    "\n",
    "for i in range(22):\n",
    "    plot = plt.errorbar(x=quarter_list, y=bm_data_quarterly_10lags_1947[i]['coefficient'], yerr = bm_data_quarterly_10lags_1947[i]['se'])\n",
    "    plt.savefig(f'Data Visualizations/Corrected BEA, BM/BM, 10 lags, 1947/{bm_data.columns[i+2]}_quarterly_10lags.png', bbox_inches='tight') #i+2 since the first 2 columns are year+quarter variables\n",
    "    plt.clf()"
   ]
  },
  {
   "cell_type": "code",
   "execution_count": 51,
   "metadata": {},
   "outputs": [
    {
     "data": {
      "text/plain": [
       "<Figure size 432x288 with 0 Axes>"
      ]
     },
     "metadata": {},
     "output_type": "display_data"
    }
   ],
   "source": [
    "#Visualizations: BM, 5 lags, 2002-2019\n",
    "\n",
    "quarter_list = ['Q1', 'Q2', 'Q3', 'Q4']\n",
    "\n",
    "for i in range(22):\n",
    "    plot = plt.errorbar(x=quarter_list, y=bm_data_quarterly_5lags_2002[i]['coefficient'], yerr = bm_data_quarterly_5lags_2002[i]['se'])\n",
    "    plt.savefig(f'Data Visualizations/Corrected BEA, BM/BM, 5 lags, 2002/{bm_data.columns[i+2]}_quarterly_5lags.png', bbox_inches='tight') #i+2 since the first 2 columns are year+quarter variables\n",
    "    plt.clf()"
   ]
  },
  {
   "cell_type": "code",
   "execution_count": 52,
   "metadata": {},
   "outputs": [
    {
     "data": {
      "text/plain": [
       "<Figure size 432x288 with 0 Axes>"
      ]
     },
     "metadata": {},
     "output_type": "display_data"
    }
   ],
   "source": [
    "#Visualizations: BM, 10 lags, 2002-2019\n",
    "\n",
    "quarter_list = ['Q1', 'Q2', 'Q3', 'Q4']\n",
    "\n",
    "for i in range(22):\n",
    "    plot = plt.errorbar(x=quarter_list, y=bm_data_quarterly_10lags_2002[i]['coefficient'], yerr = bm_data_quarterly_10lags_2002[i]['se'])\n",
    "    plt.savefig(f'Data Visualizations/Corrected BEA, BM/BM, 10 lags, 2002/{bm_data.columns[i+2]}_quarterly_10lags.png', bbox_inches='tight') #i+2 since the first 2 columns are year+quarter variables\n",
    "    plt.clf()"
   ]
  },
  {
   "cell_type": "code",
   "execution_count": 53,
   "metadata": {},
   "outputs": [
    {
     "data": {
      "text/plain": [
       "<Figure size 432x288 with 0 Axes>"
      ]
     },
     "metadata": {},
     "output_type": "display_data"
    }
   ],
   "source": [
    "#Visualizations: BM, 5 lags, 2003-2019\n",
    "\n",
    "quarter_list = ['Q1', 'Q2', 'Q3', 'Q4']\n",
    "\n",
    "for i in range(22):\n",
    "    plot = plt.errorbar(x=quarter_list, y=bm_data_quarterly_5lags_2003[i]['coefficient'], yerr = bm_data_quarterly_5lags_2003[i]['se'])\n",
    "    plt.savefig(f'Data Visualizations/Corrected BEA, BM/BM, 5 lags, 2003/{bm_data.columns[i+2]}_quarterly_5lags.png', bbox_inches='tight') #i+2 since the first 2 columns are year+quarter variables\n",
    "    plt.clf()"
   ]
  },
  {
   "cell_type": "code",
   "execution_count": 66,
   "metadata": {},
   "outputs": [
    {
     "data": {
      "text/plain": [
       "<Figure size 432x288 with 0 Axes>"
      ]
     },
     "metadata": {},
     "output_type": "display_data"
    }
   ],
   "source": [
    "#Visualizations: BM, 10 lags, 2003-2019\n",
    "\n",
    "quarter_list = ['Q1', 'Q2', 'Q3', 'Q4']\n",
    "\n",
    "for i in range(22):\n",
    "    plot = plt.errorbar(x=quarter_list, y=bm_data_quarterly_10lags_2003[i]['coefficient'], yerr = bm_data_quarterly_10lags_2003[i]['se'])\n",
    "    plt.savefig(f'Data Visualizations/Corrected BEA, BM/BM, 10 lags, 2003/{bm_data.columns[i+2]}_quarterly_10lags.png', bbox_inches='tight') #i+2 since the first 2 columns are year+quarter variables\n",
    "    plt.clf()"
   ]
  },
  {
   "cell_type": "markdown",
   "metadata": {},
   "source": [
    "BEA + BM (5, 10 lags)"
   ]
  },
  {
   "cell_type": "code",
   "execution_count": 70,
   "metadata": {},
   "outputs": [
    {
     "data": {
      "text/plain": [
       "<Figure size 432x288 with 0 Axes>"
      ]
     },
     "metadata": {},
     "output_type": "display_data"
    }
   ],
   "source": [
    "#Visualizations, BEA + BM (5 lags)\n",
    "\n",
    "#List of Names to Compare\n",
    "\n",
    "quarter_list=['Q1', 'Q2', 'Q3', 'Q4']\n",
    "compare_names=[i for i in quarterly_per_change_names_bea[0][0:25] if i not in ['Quarterly % Change, Goods_2', 'Quarterly % Change, Goods_3', 'Quarterly % Change, Services_2', 'Quarterly % Change, Services_3', 'Quarterly % Change, Change in private inventories', 'Quarterly % Change, Net exports of goods and services']] #compare the 1st 26 observations, minus the import/export breakdown of goods + services. Only report aggregate goods/services\n",
    "folder_names = {0: 'Table 8.1.3', 1: 'Table 8.1.4', 2: 'Table 8.1.5', 3: 'Table 8.1.6', 4: 'Table 8.1.11'}\n",
    "\n",
    "for i in range(5): #Want Tables 8.1.3, 8.1.4, 8.1.5, 8.1.6, 8.1.11\n",
    "    for j,k in zip(compare_names, range(22)): #use compare_names[0] since for some reason it's a nested list\n",
    "        #set up if cases to compare. basically should just compare different bm_data_quarterly_5lags based on the first year of bea data\n",
    "        #each entry of bea_data_quarterly_5lags is a dictionary with key given by quarterly % change name, value given by regression table\n",
    "        #look at the first 5 entries of bea_data_quarterly_5lags. each corresponds to one of the tables. so compare the 1st index of each table 8.1.3, .., 8.1.11\n",
    "        if sheet_names[i] in ['Table 8.1.3', 'Table 8.1.4', 'Table 8.1.6']: #First observation is 2002 for these tables\n",
    "            y1, y2 = bea_data_quarterly_5lags_corrected[i][j]['coefficient'], bm_data_quarterly_5lags_2002[k]['coefficient']\n",
    "            yerr1, yerr2 = bea_data_quarterly_5lags_corrected[i][j]['se'], bm_data_quarterly_5lags_2002[k]['se']\n",
    "        elif sheet_names[i] == 'Table 8.1.5': #First observation is 1947\n",
    "            y1, y2 = bea_data_quarterly_5lags_corrected[i][j]['coefficient'], bm_data_quarterly_5lags_1947[k]['coefficient']\n",
    "            yerr1, yerr2 = bea_data_quarterly_5lags_corrected[i][j]['se'], bm_data_quarterly_5lags_1947[k]['se']\n",
    "        else: #Table 8.1.11; first observation is 2003\n",
    "            y1, y2 = bea_data_quarterly_5lags_corrected[i][j]['coefficient'], bm_data_quarterly_5lags_2003[k]['coefficient']\n",
    "            yerr1, yerr2 = bea_data_quarterly_5lags_corrected[i][j]['se'], bm_data_quarterly_5lags_2003[k]['se']\n",
    "        er1 = plt.errorbar(quarter_list, y1, yerr1, label='BEA')\n",
    "        er2 = plt.errorbar(quarter_list, y2, yerr2, label='BM')\n",
    "        plt.legend(loc='best')\n",
    "        plt.savefig(f'Data Visualizations/Corrected BEA, BM/BEA + BM, 5 lags/{folder_names[i]}/{j[20:]}_quarterly_5lags.png', bbox_inches='tight') \n",
    "        plt.clf()"
   ]
  },
  {
   "cell_type": "code",
   "execution_count": 71,
   "metadata": {},
   "outputs": [
    {
     "data": {
      "text/plain": [
       "<Figure size 432x288 with 0 Axes>"
      ]
     },
     "metadata": {},
     "output_type": "display_data"
    }
   ],
   "source": [
    "#Visualizations, BEA + BM (10 lags)\n",
    "\n",
    "#List of Names to Compare\n",
    "\n",
    "quarter_list=['Q1', 'Q2', 'Q3', 'Q4']\n",
    "compare_names=[i for i in quarterly_per_change_names_bea[0][0:25] if i not in ['Quarterly % Change, Goods_2', 'Quarterly % Change, Goods_3', 'Quarterly % Change, Services_2', 'Quarterly % Change, Services_3', 'Quarterly % Change, Change in private inventories', 'Quarterly % Change, Net exports of goods and services']] #compare the 1st 26 observations, minus the import/export breakdown of goods + services. Only report aggregate goods/services\n",
    "folder_names = {0: 'Table 8.1.3', 1: 'Table 8.1.4', 2: 'Table 8.1.5', 3: 'Table 8.1.6', 4: 'Table 8.1.11'}\n",
    "\n",
    "for i in range(5): #Want Tables 8.1.3, 8.1.4, 8.1.5, 8.1.6, 8.1.11\n",
    "    for j,k in zip(compare_names, range(22)): #use compare_names[0] since for some reason it's a nested list\n",
    "        #set up if cases to compare. basically should just compare different bm_data_quarterly_5lags based on the first year of bea data\n",
    "        #each entry of bea_data_quarterly_5lags is a dictionary with key given by quarterly % change name, value given by regression table\n",
    "        #look at the first 5 entries of bea_data_quarterly_5lags. each corresponds to one of the tables. so compare the 1st index of each table 8.1.3, .., 8.1.11\n",
    "        if sheet_names[i] in ['Table 8.1.3', 'Table 8.1.4', 'Table 8.1.6']: #2002\n",
    "            y1, y2 = bea_data_quarterly_10lags_corrected[i][j]['coefficient'], bm_data_quarterly_10lags_2002[k]['coefficient']\n",
    "            yerr1, yerr2 = bea_data_quarterly_10lags_corrected[i][j]['se'], bm_data_quarterly_10lags_2002[k]['se']\n",
    "        elif sheet_names[i] == 'Table 8.1.5': #1947\n",
    "            y1, y2 = bea_data_quarterly_10lags_corrected[i][j]['coefficient'], bm_data_quarterly_10lags_1947[k]['coefficient']\n",
    "            yerr1, yerr2 = bea_data_quarterly_10lags_corrected[i][j]['se'], bm_data_quarterly_10lags_1947[k]['se']\n",
    "        else: #Table 8.1.11; 2003\n",
    "            y1, y2 = bea_data_quarterly_10lags_corrected[i][j]['coefficient'], bm_data_quarterly_10lags_2003[k]['coefficient']\n",
    "            yerr1, yerr2 = bea_data_quarterly_10lags_corrected[i][j]['se'], bm_data_quarterly_10lags_2003[k]['se']\n",
    "        er1 = plt.errorbar(quarter_list, y1, yerr1, label='BEA')\n",
    "        er2 = plt.errorbar(quarter_list, y2, yerr2, label='BM')\n",
    "        plt.legend(loc='best')\n",
    "        plt.savefig(f'Data Visualizations/Corrected BEA, BM/BEA + BM, 10 lags/{folder_names[i]}/{j[20:]}_quarterly_10lags.png', bbox_inches='tight') \n",
    "        plt.clf()"
   ]
  }
 ],
 "metadata": {
  "interpreter": {
   "hash": "aee8b7b246df8f9039afb4144a1f6fd8d2ca17a180786b69acc140d282b71a49"
  },
  "kernelspec": {
   "display_name": "Python 3.9.6 64-bit",
   "language": "python",
   "name": "python3"
  },
  "language_info": {
   "codemirror_mode": {
    "name": "ipython",
    "version": 3
   },
   "file_extension": ".py",
   "mimetype": "text/x-python",
   "name": "python",
   "nbconvert_exporter": "python",
   "pygments_lexer": "ipython3",
   "version": "3.9.6"
  },
  "orig_nbformat": 4
 },
 "nbformat": 4,
 "nbformat_minor": 2
}

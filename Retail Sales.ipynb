{
 "cells": [
  {
   "cell_type": "markdown",
   "metadata": {},
   "source": [
    "## Imports"
   ]
  },
  {
   "cell_type": "code",
   "execution_count": null,
   "metadata": {},
   "outputs": [],
   "source": [
    "import os \n",
    "\n",
    "os.getcwd()\n",
    "\n",
    "os.chdir('/Users/matth/Dropbox/Seasonal Macro')"
   ]
  },
  {
   "cell_type": "code",
   "execution_count": null,
   "metadata": {},
   "outputs": [],
   "source": [
    "from calendar import month\n",
    "import pandas as pd\n",
    "import numpy as np\n",
    "import matplotlib as plt\n",
    "import matplotlib.pyplot\n",
    "import statsmodels.formula.api as sm \n",
    "import os\n",
    "from datetime import datetime\n",
    "from pyspark.sql.functions import date_format\n",
    "from pandas import ExcelWriter\n",
    "import re as re\n"
   ]
  },
  {
   "cell_type": "code",
   "execution_count": null,
   "metadata": {},
   "outputs": [],
   "source": [
    "pd.set_option('display.max_rows', 1000)\n",
    "pd.set_option('display.max_columns', 1000)"
   ]
  },
  {
   "cell_type": "markdown",
   "metadata": {},
   "source": [
    "## Helper Functions"
   ]
  },
  {
   "cell_type": "code",
   "execution_count": null,
   "metadata": {},
   "outputs": [],
   "source": [
    "#Map Month Names to Numbers\n",
    "def month_to_num(str):\n",
    "    if str == 'Jan':\n",
    "        return 1\n",
    "    elif str == 'Feb':\n",
    "        return 2\n",
    "    elif str == 'Mar':\n",
    "        return 3\n",
    "    elif str == 'Apr':\n",
    "        return 4\n",
    "    elif str == 'May':\n",
    "        return 5\n",
    "    elif str == 'Jun':\n",
    "        return 6\n",
    "    elif str == 'Jul':\n",
    "        return 7\n",
    "    elif str == 'Aug':\n",
    "        return 8\n",
    "    elif str == 'Sep':\n",
    "        return 9\n",
    "    elif str == 'Oct':\n",
    "        return 10\n",
    "    elif str == 'Nov':\n",
    "        return 11\n",
    "    else:\n",
    "        return 12\n",
    "\n",
    "#Lagged % Change Calculation, Monthly/Quarterly\n",
    "def perc_change_mon(series, index):\n",
    "    lst=[]\n",
    "    for j in range(len(series)):\n",
    "        if j==0 or isinstance(series.at[index[j]], str) or isinstance(series.at[index[j-1]],str):\n",
    "            lst.append(np.nan)\n",
    "        else:\n",
    "            lst.append((series.at[index[j]]-series.at[index[j-1]])/series.at[index[j-1]])\n",
    "    return lst \n",
    "\n",
    "#Lagged % Change Calculation, 3 months\n",
    "def perc_change_3mon(series, index):\n",
    "    lst=[]\n",
    "    for j in range(len(series)):\n",
    "        if j in [0,1] or isinstance(series.at[index[j]], str) or isinstance(series.at[index[j-2]],str):\n",
    "            lst.append(np.nan)\n",
    "        else:\n",
    "            lst.append((series.at[index[j]]-series.at[index[j-2]])/series.at[index[j-2]])\n",
    "    return lst \n",
    "\n",
    "\n",
    "#Monthly Expenditure Share Calculation\n",
    "def monthly_expenditure_share(series, year, index):\n",
    "    lst=[]\n",
    "    df = pd.DataFrame()\n",
    "    df['Year'] = year\n",
    "    df['Sales'] = series\n",
    "    df['Annual Sales'] = df.groupby('Year').transform(lambda x: x.sum())\n",
    "    for j in range(len(index)):\n",
    "        lst.append(df['Sales'].at[index[j]]/df['Annual Sales'].at[index[j]] if df['Annual Sales'].at[index[j]] != 0 else np.nan)\n",
    "    return lst"
   ]
  },
  {
   "cell_type": "markdown",
   "metadata": {},
   "source": [
    "## Cleaning\n",
    "\n",
    "\n",
    "Dataframes are two categories: seasonally adjusted vs not seasonally adjusted. Each category is broken up into granular data (individual NAICS codes) vs total data (first 7 rows), which is reported at the monthly and annual level\n",
    "\n",
    "Dataframes are named as retail_[monthly/annual]\\_[granular/total]_[adjusted/nonadjusted]\n"
   ]
  },
  {
   "cell_type": "markdown",
   "metadata": {},
   "source": [
    "### NAICS Codes"
   ]
  },
  {
   "cell_type": "code",
   "execution_count": null,
   "metadata": {},
   "outputs": [],
   "source": [
    "#Checking NAICS codes\n",
    "\n",
    "#Data is read in from 'mrtssales92-present.xls'.\n",
    "\n",
    "#We were worried that each year in the retail sales dataset may report on different NAICS codes.\n",
    "#This just checks to make sure that the NAICS codes are consistent across time.\n",
    "#Problem years were 2000-2001, 2016-2017, 2020-2021. These were manually checked; the error came from extra notes at the bottom of some of these years.\n",
    "\n",
    "naics_codes = []\n",
    "problem_years = []\n",
    "\n",
    "for i in range(1992, 2022):\n",
    "    df=pd.read_excel('Data/retail_sales/mrtssales92-present.xls', sheet_name = f'{i}', usecols='A', skiprows=10, skipfooter=45) #includes some NA's to make sure not cutting off any values \n",
    "    df.columns= ['NAICS Code']\n",
    "    naics_codes.append(df)\n",
    "\n",
    "for i in range(len(naics_codes)-1):\n",
    "    if not naics_codes[i].equals(naics_codes[i+1]):\n",
    "        problem_years.append([i+1992, i+1993])\n"
   ]
  },
  {
   "cell_type": "markdown",
   "metadata": {},
   "source": [
    "### Nonadjusted"
   ]
  },
  {
   "cell_type": "markdown",
   "metadata": {},
   "source": [
    "Granular, Monthly"
   ]
  },
  {
   "cell_type": "code",
   "execution_count": 70,
   "metadata": {},
   "outputs": [],
   "source": [
    "#Defining Dataframe\n",
    "retail_monthly_granular_nonadjusted=pd.read_excel('Data/retail_sales/mrtssales92-present.xls', sheet_name='2010', usecols=\"B\", skiprows = [i for i in range(1,13)]+[j for j in range(71,200)])\n",
    "retail_monthly_granular_nonadjusted.columns=['Kind of Business']"
   ]
  },
  {
   "cell_type": "code",
   "execution_count": 71,
   "metadata": {},
   "outputs": [],
   "source": [
    "#Populating Dataframe\n",
    "\n",
    "#Note: rows are 0-indexed. Stopping at row 12 actually stops at row 13\n",
    "\n",
    "for i in range(1992, 2022):\n",
    "    retail_df_monthly = pd.read_excel('Data/retail_sales/mrtssales92-present.xls', sheet_name=f'{i}', usecols=\"C:N\", skiprows = [i for i in range(1,13)]+[j for j in range(71,200)])\n",
    "    retail_df_monthly.columns=[f'01-01-{i}', f'01-02-{i}', f'01-03-{i}', f'01-04-{i}', f'01-05-{i}', f'01-06-{i}', f'01-07-{i}', f'01-08-{i}', f'01-09-{i}', f'01-10-{i}', f'01-11-{i}', f'01-12-{i}']\n",
    "    retail_df_monthly.columns=pd.to_numeric(retail_df_monthly.columns, errors='ignore')\n",
    "    retail_df_monthly.columns=pd.to_datetime(retail_df_monthly.columns, format='%d-%m-%Y')\n",
    "    retail_monthly_granular_nonadjusted=pd.concat([retail_monthly_granular_nonadjusted, retail_df_monthly], axis=1)"
   ]
  },
  {
   "cell_type": "code",
   "execution_count": 72,
   "metadata": {},
   "outputs": [],
   "source": [
    "#Setting (S) and (NA) values to NaN \n",
    "\n",
    "#Granular, Monthly\n",
    "retail_monthly_granular_nonadjusted = retail_monthly_granular_nonadjusted.applymap(lambda x: np.nan if (x=='(S)' or x=='(NA)') else x)\n"
   ]
  },
  {
   "cell_type": "code",
   "execution_count": 73,
   "metadata": {},
   "outputs": [],
   "source": [
    "#Transpose\n",
    "\n",
    "retail_monthly_granular_nonadjusted=retail_monthly_granular_nonadjusted.transpose()"
   ]
  },
  {
   "cell_type": "code",
   "execution_count": 74,
   "metadata": {},
   "outputs": [],
   "source": [
    "#Changing Column Names/Index\n",
    "\n",
    "#Monthly, Nonadjusted\n",
    "retail_monthly_granular_nonadjusted.columns=[i for i in retail_monthly_granular_nonadjusted.iloc[0]]\n",
    "retail_monthly_granular_nonadjusted.drop(index=retail_monthly_granular_nonadjusted.index[0], axis=0, inplace=True)\n"
   ]
  },
  {
   "cell_type": "code",
   "execution_count": 76,
   "metadata": {},
   "outputs": [],
   "source": [
    "#Creating Month + Year Columns\n",
    "\n",
    "retail_monthly_granular_nonadjusted['Year'] = pd.DatetimeIndex(retail_monthly_granular_nonadjusted.index).year\n",
    "retail_monthly_granular_nonadjusted['Month'] = pd.DatetimeIndex(retail_monthly_granular_nonadjusted.index).month "
   ]
  },
  {
   "cell_type": "code",
   "execution_count": 77,
   "metadata": {},
   "outputs": [
    {
     "name": "stderr",
     "output_type": "stream",
     "text": [
      "/var/folders/tw/pjkwgn1n1750q10spmv865w40000gn/T/ipykernel_23639/2564881736.py:17: PerformanceWarning: DataFrame is highly fragmented.  This is usually the result of calling `frame.insert` many times, which has poor performance.  Consider joining all columns at once using pd.concat(axis=1) instead. To get a de-fragmented frame, use `newframe = frame.copy()`\n",
      "  retail_monthly_granular_nonadjusted[monthly_per_change_names[i]]=perc_change_mon(retail_monthly_granular_nonadjusted[column_names[i]], index_names)\n",
      "/var/folders/tw/pjkwgn1n1750q10spmv865w40000gn/T/ipykernel_23639/2564881736.py:17: PerformanceWarning: DataFrame is highly fragmented.  This is usually the result of calling `frame.insert` many times, which has poor performance.  Consider joining all columns at once using pd.concat(axis=1) instead. To get a de-fragmented frame, use `newframe = frame.copy()`\n",
      "  retail_monthly_granular_nonadjusted[monthly_per_change_names[i]]=perc_change_mon(retail_monthly_granular_nonadjusted[column_names[i]], index_names)\n",
      "/var/folders/tw/pjkwgn1n1750q10spmv865w40000gn/T/ipykernel_23639/2564881736.py:17: PerformanceWarning: DataFrame is highly fragmented.  This is usually the result of calling `frame.insert` many times, which has poor performance.  Consider joining all columns at once using pd.concat(axis=1) instead. To get a de-fragmented frame, use `newframe = frame.copy()`\n",
      "  retail_monthly_granular_nonadjusted[monthly_per_change_names[i]]=perc_change_mon(retail_monthly_granular_nonadjusted[column_names[i]], index_names)\n",
      "/var/folders/tw/pjkwgn1n1750q10spmv865w40000gn/T/ipykernel_23639/2564881736.py:17: PerformanceWarning: DataFrame is highly fragmented.  This is usually the result of calling `frame.insert` many times, which has poor performance.  Consider joining all columns at once using pd.concat(axis=1) instead. To get a de-fragmented frame, use `newframe = frame.copy()`\n",
      "  retail_monthly_granular_nonadjusted[monthly_per_change_names[i]]=perc_change_mon(retail_monthly_granular_nonadjusted[column_names[i]], index_names)\n",
      "/var/folders/tw/pjkwgn1n1750q10spmv865w40000gn/T/ipykernel_23639/2564881736.py:17: PerformanceWarning: DataFrame is highly fragmented.  This is usually the result of calling `frame.insert` many times, which has poor performance.  Consider joining all columns at once using pd.concat(axis=1) instead. To get a de-fragmented frame, use `newframe = frame.copy()`\n",
      "  retail_monthly_granular_nonadjusted[monthly_per_change_names[i]]=perc_change_mon(retail_monthly_granular_nonadjusted[column_names[i]], index_names)\n",
      "/var/folders/tw/pjkwgn1n1750q10spmv865w40000gn/T/ipykernel_23639/2564881736.py:17: PerformanceWarning: DataFrame is highly fragmented.  This is usually the result of calling `frame.insert` many times, which has poor performance.  Consider joining all columns at once using pd.concat(axis=1) instead. To get a de-fragmented frame, use `newframe = frame.copy()`\n",
      "  retail_monthly_granular_nonadjusted[monthly_per_change_names[i]]=perc_change_mon(retail_monthly_granular_nonadjusted[column_names[i]], index_names)\n",
      "/var/folders/tw/pjkwgn1n1750q10spmv865w40000gn/T/ipykernel_23639/2564881736.py:17: PerformanceWarning: DataFrame is highly fragmented.  This is usually the result of calling `frame.insert` many times, which has poor performance.  Consider joining all columns at once using pd.concat(axis=1) instead. To get a de-fragmented frame, use `newframe = frame.copy()`\n",
      "  retail_monthly_granular_nonadjusted[monthly_per_change_names[i]]=perc_change_mon(retail_monthly_granular_nonadjusted[column_names[i]], index_names)\n",
      "/var/folders/tw/pjkwgn1n1750q10spmv865w40000gn/T/ipykernel_23639/2564881736.py:17: PerformanceWarning: DataFrame is highly fragmented.  This is usually the result of calling `frame.insert` many times, which has poor performance.  Consider joining all columns at once using pd.concat(axis=1) instead. To get a de-fragmented frame, use `newframe = frame.copy()`\n",
      "  retail_monthly_granular_nonadjusted[monthly_per_change_names[i]]=perc_change_mon(retail_monthly_granular_nonadjusted[column_names[i]], index_names)\n",
      "/var/folders/tw/pjkwgn1n1750q10spmv865w40000gn/T/ipykernel_23639/2564881736.py:17: PerformanceWarning: DataFrame is highly fragmented.  This is usually the result of calling `frame.insert` many times, which has poor performance.  Consider joining all columns at once using pd.concat(axis=1) instead. To get a de-fragmented frame, use `newframe = frame.copy()`\n",
      "  retail_monthly_granular_nonadjusted[monthly_per_change_names[i]]=perc_change_mon(retail_monthly_granular_nonadjusted[column_names[i]], index_names)\n",
      "/var/folders/tw/pjkwgn1n1750q10spmv865w40000gn/T/ipykernel_23639/2564881736.py:17: PerformanceWarning: DataFrame is highly fragmented.  This is usually the result of calling `frame.insert` many times, which has poor performance.  Consider joining all columns at once using pd.concat(axis=1) instead. To get a de-fragmented frame, use `newframe = frame.copy()`\n",
      "  retail_monthly_granular_nonadjusted[monthly_per_change_names[i]]=perc_change_mon(retail_monthly_granular_nonadjusted[column_names[i]], index_names)\n",
      "/var/folders/tw/pjkwgn1n1750q10spmv865w40000gn/T/ipykernel_23639/2564881736.py:17: PerformanceWarning: DataFrame is highly fragmented.  This is usually the result of calling `frame.insert` many times, which has poor performance.  Consider joining all columns at once using pd.concat(axis=1) instead. To get a de-fragmented frame, use `newframe = frame.copy()`\n",
      "  retail_monthly_granular_nonadjusted[monthly_per_change_names[i]]=perc_change_mon(retail_monthly_granular_nonadjusted[column_names[i]], index_names)\n",
      "/var/folders/tw/pjkwgn1n1750q10spmv865w40000gn/T/ipykernel_23639/2564881736.py:17: PerformanceWarning: DataFrame is highly fragmented.  This is usually the result of calling `frame.insert` many times, which has poor performance.  Consider joining all columns at once using pd.concat(axis=1) instead. To get a de-fragmented frame, use `newframe = frame.copy()`\n",
      "  retail_monthly_granular_nonadjusted[monthly_per_change_names[i]]=perc_change_mon(retail_monthly_granular_nonadjusted[column_names[i]], index_names)\n",
      "/var/folders/tw/pjkwgn1n1750q10spmv865w40000gn/T/ipykernel_23639/2564881736.py:17: PerformanceWarning: DataFrame is highly fragmented.  This is usually the result of calling `frame.insert` many times, which has poor performance.  Consider joining all columns at once using pd.concat(axis=1) instead. To get a de-fragmented frame, use `newframe = frame.copy()`\n",
      "  retail_monthly_granular_nonadjusted[monthly_per_change_names[i]]=perc_change_mon(retail_monthly_granular_nonadjusted[column_names[i]], index_names)\n",
      "/var/folders/tw/pjkwgn1n1750q10spmv865w40000gn/T/ipykernel_23639/2564881736.py:17: PerformanceWarning: DataFrame is highly fragmented.  This is usually the result of calling `frame.insert` many times, which has poor performance.  Consider joining all columns at once using pd.concat(axis=1) instead. To get a de-fragmented frame, use `newframe = frame.copy()`\n",
      "  retail_monthly_granular_nonadjusted[monthly_per_change_names[i]]=perc_change_mon(retail_monthly_granular_nonadjusted[column_names[i]], index_names)\n",
      "/var/folders/tw/pjkwgn1n1750q10spmv865w40000gn/T/ipykernel_23639/2564881736.py:17: PerformanceWarning: DataFrame is highly fragmented.  This is usually the result of calling `frame.insert` many times, which has poor performance.  Consider joining all columns at once using pd.concat(axis=1) instead. To get a de-fragmented frame, use `newframe = frame.copy()`\n",
      "  retail_monthly_granular_nonadjusted[monthly_per_change_names[i]]=perc_change_mon(retail_monthly_granular_nonadjusted[column_names[i]], index_names)\n",
      "/var/folders/tw/pjkwgn1n1750q10spmv865w40000gn/T/ipykernel_23639/2564881736.py:17: PerformanceWarning: DataFrame is highly fragmented.  This is usually the result of calling `frame.insert` many times, which has poor performance.  Consider joining all columns at once using pd.concat(axis=1) instead. To get a de-fragmented frame, use `newframe = frame.copy()`\n",
      "  retail_monthly_granular_nonadjusted[monthly_per_change_names[i]]=perc_change_mon(retail_monthly_granular_nonadjusted[column_names[i]], index_names)\n",
      "/var/folders/tw/pjkwgn1n1750q10spmv865w40000gn/T/ipykernel_23639/2564881736.py:17: PerformanceWarning: DataFrame is highly fragmented.  This is usually the result of calling `frame.insert` many times, which has poor performance.  Consider joining all columns at once using pd.concat(axis=1) instead. To get a de-fragmented frame, use `newframe = frame.copy()`\n",
      "  retail_monthly_granular_nonadjusted[monthly_per_change_names[i]]=perc_change_mon(retail_monthly_granular_nonadjusted[column_names[i]], index_names)\n",
      "/var/folders/tw/pjkwgn1n1750q10spmv865w40000gn/T/ipykernel_23639/2564881736.py:17: PerformanceWarning: DataFrame is highly fragmented.  This is usually the result of calling `frame.insert` many times, which has poor performance.  Consider joining all columns at once using pd.concat(axis=1) instead. To get a de-fragmented frame, use `newframe = frame.copy()`\n",
      "  retail_monthly_granular_nonadjusted[monthly_per_change_names[i]]=perc_change_mon(retail_monthly_granular_nonadjusted[column_names[i]], index_names)\n",
      "/var/folders/tw/pjkwgn1n1750q10spmv865w40000gn/T/ipykernel_23639/2564881736.py:17: PerformanceWarning: DataFrame is highly fragmented.  This is usually the result of calling `frame.insert` many times, which has poor performance.  Consider joining all columns at once using pd.concat(axis=1) instead. To get a de-fragmented frame, use `newframe = frame.copy()`\n",
      "  retail_monthly_granular_nonadjusted[monthly_per_change_names[i]]=perc_change_mon(retail_monthly_granular_nonadjusted[column_names[i]], index_names)\n"
     ]
    }
   ],
   "source": [
    "#Creating Monthly % Change Variables \n",
    "\n",
    "column_names=list(retail_monthly_granular_nonadjusted)\n",
    "index_names=list(retail_monthly_granular_nonadjusted.index)\n",
    "\n",
    "#3 Month % Change\n",
    "threemonth_per_change_names=[f'3 Month % Change, {i}' for i in retail_monthly_granular_nonadjusted.columns[0:58]]\n",
    "\n",
    "for i in range(58):\n",
    "    retail_monthly_granular_nonadjusted[threemonth_per_change_names[i]]=perc_change_3mon(retail_monthly_granular_nonadjusted[column_names[i]], index_names)\n",
    "\n",
    "\n",
    "#Monthly % Change\n",
    "monthly_per_change_names=[f'Monthly % Change, {i}' for i in retail_monthly_granular_nonadjusted.columns[0:58]]\n",
    "\n",
    "for i in range(58):\n",
    "    retail_monthly_granular_nonadjusted[monthly_per_change_names[i]]=perc_change_mon(retail_monthly_granular_nonadjusted[column_names[i]], index_names)"
   ]
  },
  {
   "cell_type": "code",
   "execution_count": 78,
   "metadata": {},
   "outputs": [
    {
     "name": "stderr",
     "output_type": "stream",
     "text": [
      "/var/folders/tw/pjkwgn1n1750q10spmv865w40000gn/T/ipykernel_23639/2194485772.py:6: PerformanceWarning: DataFrame is highly fragmented.  This is usually the result of calling `frame.insert` many times, which has poor performance.  Consider joining all columns at once using pd.concat(axis=1) instead. To get a de-fragmented frame, use `newframe = frame.copy()`\n",
      "  retail_monthly_granular_nonadjusted[monthly_share_names[i]] = monthly_expenditure_share(retail_monthly_granular_nonadjusted[column_names[i]], retail_monthly_granular_nonadjusted['Year'], index_names)\n",
      "/var/folders/tw/pjkwgn1n1750q10spmv865w40000gn/T/ipykernel_23639/2194485772.py:6: PerformanceWarning: DataFrame is highly fragmented.  This is usually the result of calling `frame.insert` many times, which has poor performance.  Consider joining all columns at once using pd.concat(axis=1) instead. To get a de-fragmented frame, use `newframe = frame.copy()`\n",
      "  retail_monthly_granular_nonadjusted[monthly_share_names[i]] = monthly_expenditure_share(retail_monthly_granular_nonadjusted[column_names[i]], retail_monthly_granular_nonadjusted['Year'], index_names)\n",
      "/var/folders/tw/pjkwgn1n1750q10spmv865w40000gn/T/ipykernel_23639/2194485772.py:6: PerformanceWarning: DataFrame is highly fragmented.  This is usually the result of calling `frame.insert` many times, which has poor performance.  Consider joining all columns at once using pd.concat(axis=1) instead. To get a de-fragmented frame, use `newframe = frame.copy()`\n",
      "  retail_monthly_granular_nonadjusted[monthly_share_names[i]] = monthly_expenditure_share(retail_monthly_granular_nonadjusted[column_names[i]], retail_monthly_granular_nonadjusted['Year'], index_names)\n",
      "/var/folders/tw/pjkwgn1n1750q10spmv865w40000gn/T/ipykernel_23639/2194485772.py:6: PerformanceWarning: DataFrame is highly fragmented.  This is usually the result of calling `frame.insert` many times, which has poor performance.  Consider joining all columns at once using pd.concat(axis=1) instead. To get a de-fragmented frame, use `newframe = frame.copy()`\n",
      "  retail_monthly_granular_nonadjusted[monthly_share_names[i]] = monthly_expenditure_share(retail_monthly_granular_nonadjusted[column_names[i]], retail_monthly_granular_nonadjusted['Year'], index_names)\n",
      "/var/folders/tw/pjkwgn1n1750q10spmv865w40000gn/T/ipykernel_23639/2194485772.py:6: PerformanceWarning: DataFrame is highly fragmented.  This is usually the result of calling `frame.insert` many times, which has poor performance.  Consider joining all columns at once using pd.concat(axis=1) instead. To get a de-fragmented frame, use `newframe = frame.copy()`\n",
      "  retail_monthly_granular_nonadjusted[monthly_share_names[i]] = monthly_expenditure_share(retail_monthly_granular_nonadjusted[column_names[i]], retail_monthly_granular_nonadjusted['Year'], index_names)\n",
      "/var/folders/tw/pjkwgn1n1750q10spmv865w40000gn/T/ipykernel_23639/2194485772.py:6: PerformanceWarning: DataFrame is highly fragmented.  This is usually the result of calling `frame.insert` many times, which has poor performance.  Consider joining all columns at once using pd.concat(axis=1) instead. To get a de-fragmented frame, use `newframe = frame.copy()`\n",
      "  retail_monthly_granular_nonadjusted[monthly_share_names[i]] = monthly_expenditure_share(retail_monthly_granular_nonadjusted[column_names[i]], retail_monthly_granular_nonadjusted['Year'], index_names)\n",
      "/var/folders/tw/pjkwgn1n1750q10spmv865w40000gn/T/ipykernel_23639/2194485772.py:6: PerformanceWarning: DataFrame is highly fragmented.  This is usually the result of calling `frame.insert` many times, which has poor performance.  Consider joining all columns at once using pd.concat(axis=1) instead. To get a de-fragmented frame, use `newframe = frame.copy()`\n",
      "  retail_monthly_granular_nonadjusted[monthly_share_names[i]] = monthly_expenditure_share(retail_monthly_granular_nonadjusted[column_names[i]], retail_monthly_granular_nonadjusted['Year'], index_names)\n",
      "/var/folders/tw/pjkwgn1n1750q10spmv865w40000gn/T/ipykernel_23639/2194485772.py:6: PerformanceWarning: DataFrame is highly fragmented.  This is usually the result of calling `frame.insert` many times, which has poor performance.  Consider joining all columns at once using pd.concat(axis=1) instead. To get a de-fragmented frame, use `newframe = frame.copy()`\n",
      "  retail_monthly_granular_nonadjusted[monthly_share_names[i]] = monthly_expenditure_share(retail_monthly_granular_nonadjusted[column_names[i]], retail_monthly_granular_nonadjusted['Year'], index_names)\n",
      "/var/folders/tw/pjkwgn1n1750q10spmv865w40000gn/T/ipykernel_23639/2194485772.py:6: PerformanceWarning: DataFrame is highly fragmented.  This is usually the result of calling `frame.insert` many times, which has poor performance.  Consider joining all columns at once using pd.concat(axis=1) instead. To get a de-fragmented frame, use `newframe = frame.copy()`\n",
      "  retail_monthly_granular_nonadjusted[monthly_share_names[i]] = monthly_expenditure_share(retail_monthly_granular_nonadjusted[column_names[i]], retail_monthly_granular_nonadjusted['Year'], index_names)\n",
      "/var/folders/tw/pjkwgn1n1750q10spmv865w40000gn/T/ipykernel_23639/2194485772.py:6: PerformanceWarning: DataFrame is highly fragmented.  This is usually the result of calling `frame.insert` many times, which has poor performance.  Consider joining all columns at once using pd.concat(axis=1) instead. To get a de-fragmented frame, use `newframe = frame.copy()`\n",
      "  retail_monthly_granular_nonadjusted[monthly_share_names[i]] = monthly_expenditure_share(retail_monthly_granular_nonadjusted[column_names[i]], retail_monthly_granular_nonadjusted['Year'], index_names)\n",
      "/var/folders/tw/pjkwgn1n1750q10spmv865w40000gn/T/ipykernel_23639/2194485772.py:6: PerformanceWarning: DataFrame is highly fragmented.  This is usually the result of calling `frame.insert` many times, which has poor performance.  Consider joining all columns at once using pd.concat(axis=1) instead. To get a de-fragmented frame, use `newframe = frame.copy()`\n",
      "  retail_monthly_granular_nonadjusted[monthly_share_names[i]] = monthly_expenditure_share(retail_monthly_granular_nonadjusted[column_names[i]], retail_monthly_granular_nonadjusted['Year'], index_names)\n",
      "/var/folders/tw/pjkwgn1n1750q10spmv865w40000gn/T/ipykernel_23639/2194485772.py:6: PerformanceWarning: DataFrame is highly fragmented.  This is usually the result of calling `frame.insert` many times, which has poor performance.  Consider joining all columns at once using pd.concat(axis=1) instead. To get a de-fragmented frame, use `newframe = frame.copy()`\n",
      "  retail_monthly_granular_nonadjusted[monthly_share_names[i]] = monthly_expenditure_share(retail_monthly_granular_nonadjusted[column_names[i]], retail_monthly_granular_nonadjusted['Year'], index_names)\n",
      "/var/folders/tw/pjkwgn1n1750q10spmv865w40000gn/T/ipykernel_23639/2194485772.py:6: PerformanceWarning: DataFrame is highly fragmented.  This is usually the result of calling `frame.insert` many times, which has poor performance.  Consider joining all columns at once using pd.concat(axis=1) instead. To get a de-fragmented frame, use `newframe = frame.copy()`\n",
      "  retail_monthly_granular_nonadjusted[monthly_share_names[i]] = monthly_expenditure_share(retail_monthly_granular_nonadjusted[column_names[i]], retail_monthly_granular_nonadjusted['Year'], index_names)\n",
      "/var/folders/tw/pjkwgn1n1750q10spmv865w40000gn/T/ipykernel_23639/2194485772.py:6: PerformanceWarning: DataFrame is highly fragmented.  This is usually the result of calling `frame.insert` many times, which has poor performance.  Consider joining all columns at once using pd.concat(axis=1) instead. To get a de-fragmented frame, use `newframe = frame.copy()`\n",
      "  retail_monthly_granular_nonadjusted[monthly_share_names[i]] = monthly_expenditure_share(retail_monthly_granular_nonadjusted[column_names[i]], retail_monthly_granular_nonadjusted['Year'], index_names)\n",
      "/var/folders/tw/pjkwgn1n1750q10spmv865w40000gn/T/ipykernel_23639/2194485772.py:6: PerformanceWarning: DataFrame is highly fragmented.  This is usually the result of calling `frame.insert` many times, which has poor performance.  Consider joining all columns at once using pd.concat(axis=1) instead. To get a de-fragmented frame, use `newframe = frame.copy()`\n",
      "  retail_monthly_granular_nonadjusted[monthly_share_names[i]] = monthly_expenditure_share(retail_monthly_granular_nonadjusted[column_names[i]], retail_monthly_granular_nonadjusted['Year'], index_names)\n",
      "/var/folders/tw/pjkwgn1n1750q10spmv865w40000gn/T/ipykernel_23639/2194485772.py:6: PerformanceWarning: DataFrame is highly fragmented.  This is usually the result of calling `frame.insert` many times, which has poor performance.  Consider joining all columns at once using pd.concat(axis=1) instead. To get a de-fragmented frame, use `newframe = frame.copy()`\n",
      "  retail_monthly_granular_nonadjusted[monthly_share_names[i]] = monthly_expenditure_share(retail_monthly_granular_nonadjusted[column_names[i]], retail_monthly_granular_nonadjusted['Year'], index_names)\n",
      "/var/folders/tw/pjkwgn1n1750q10spmv865w40000gn/T/ipykernel_23639/2194485772.py:6: PerformanceWarning: DataFrame is highly fragmented.  This is usually the result of calling `frame.insert` many times, which has poor performance.  Consider joining all columns at once using pd.concat(axis=1) instead. To get a de-fragmented frame, use `newframe = frame.copy()`\n",
      "  retail_monthly_granular_nonadjusted[monthly_share_names[i]] = monthly_expenditure_share(retail_monthly_granular_nonadjusted[column_names[i]], retail_monthly_granular_nonadjusted['Year'], index_names)\n",
      "/var/folders/tw/pjkwgn1n1750q10spmv865w40000gn/T/ipykernel_23639/2194485772.py:6: PerformanceWarning: DataFrame is highly fragmented.  This is usually the result of calling `frame.insert` many times, which has poor performance.  Consider joining all columns at once using pd.concat(axis=1) instead. To get a de-fragmented frame, use `newframe = frame.copy()`\n",
      "  retail_monthly_granular_nonadjusted[monthly_share_names[i]] = monthly_expenditure_share(retail_monthly_granular_nonadjusted[column_names[i]], retail_monthly_granular_nonadjusted['Year'], index_names)\n",
      "/var/folders/tw/pjkwgn1n1750q10spmv865w40000gn/T/ipykernel_23639/2194485772.py:6: PerformanceWarning: DataFrame is highly fragmented.  This is usually the result of calling `frame.insert` many times, which has poor performance.  Consider joining all columns at once using pd.concat(axis=1) instead. To get a de-fragmented frame, use `newframe = frame.copy()`\n",
      "  retail_monthly_granular_nonadjusted[monthly_share_names[i]] = monthly_expenditure_share(retail_monthly_granular_nonadjusted[column_names[i]], retail_monthly_granular_nonadjusted['Year'], index_names)\n",
      "/var/folders/tw/pjkwgn1n1750q10spmv865w40000gn/T/ipykernel_23639/2194485772.py:6: PerformanceWarning: DataFrame is highly fragmented.  This is usually the result of calling `frame.insert` many times, which has poor performance.  Consider joining all columns at once using pd.concat(axis=1) instead. To get a de-fragmented frame, use `newframe = frame.copy()`\n",
      "  retail_monthly_granular_nonadjusted[monthly_share_names[i]] = monthly_expenditure_share(retail_monthly_granular_nonadjusted[column_names[i]], retail_monthly_granular_nonadjusted['Year'], index_names)\n",
      "/var/folders/tw/pjkwgn1n1750q10spmv865w40000gn/T/ipykernel_23639/2194485772.py:6: PerformanceWarning: DataFrame is highly fragmented.  This is usually the result of calling `frame.insert` many times, which has poor performance.  Consider joining all columns at once using pd.concat(axis=1) instead. To get a de-fragmented frame, use `newframe = frame.copy()`\n",
      "  retail_monthly_granular_nonadjusted[monthly_share_names[i]] = monthly_expenditure_share(retail_monthly_granular_nonadjusted[column_names[i]], retail_monthly_granular_nonadjusted['Year'], index_names)\n",
      "/var/folders/tw/pjkwgn1n1750q10spmv865w40000gn/T/ipykernel_23639/2194485772.py:6: PerformanceWarning: DataFrame is highly fragmented.  This is usually the result of calling `frame.insert` many times, which has poor performance.  Consider joining all columns at once using pd.concat(axis=1) instead. To get a de-fragmented frame, use `newframe = frame.copy()`\n",
      "  retail_monthly_granular_nonadjusted[monthly_share_names[i]] = monthly_expenditure_share(retail_monthly_granular_nonadjusted[column_names[i]], retail_monthly_granular_nonadjusted['Year'], index_names)\n",
      "/var/folders/tw/pjkwgn1n1750q10spmv865w40000gn/T/ipykernel_23639/2194485772.py:6: PerformanceWarning: DataFrame is highly fragmented.  This is usually the result of calling `frame.insert` many times, which has poor performance.  Consider joining all columns at once using pd.concat(axis=1) instead. To get a de-fragmented frame, use `newframe = frame.copy()`\n",
      "  retail_monthly_granular_nonadjusted[monthly_share_names[i]] = monthly_expenditure_share(retail_monthly_granular_nonadjusted[column_names[i]], retail_monthly_granular_nonadjusted['Year'], index_names)\n",
      "/var/folders/tw/pjkwgn1n1750q10spmv865w40000gn/T/ipykernel_23639/2194485772.py:6: PerformanceWarning: DataFrame is highly fragmented.  This is usually the result of calling `frame.insert` many times, which has poor performance.  Consider joining all columns at once using pd.concat(axis=1) instead. To get a de-fragmented frame, use `newframe = frame.copy()`\n",
      "  retail_monthly_granular_nonadjusted[monthly_share_names[i]] = monthly_expenditure_share(retail_monthly_granular_nonadjusted[column_names[i]], retail_monthly_granular_nonadjusted['Year'], index_names)\n",
      "/var/folders/tw/pjkwgn1n1750q10spmv865w40000gn/T/ipykernel_23639/2194485772.py:6: PerformanceWarning: DataFrame is highly fragmented.  This is usually the result of calling `frame.insert` many times, which has poor performance.  Consider joining all columns at once using pd.concat(axis=1) instead. To get a de-fragmented frame, use `newframe = frame.copy()`\n",
      "  retail_monthly_granular_nonadjusted[monthly_share_names[i]] = monthly_expenditure_share(retail_monthly_granular_nonadjusted[column_names[i]], retail_monthly_granular_nonadjusted['Year'], index_names)\n",
      "/var/folders/tw/pjkwgn1n1750q10spmv865w40000gn/T/ipykernel_23639/2194485772.py:6: PerformanceWarning: DataFrame is highly fragmented.  This is usually the result of calling `frame.insert` many times, which has poor performance.  Consider joining all columns at once using pd.concat(axis=1) instead. To get a de-fragmented frame, use `newframe = frame.copy()`\n",
      "  retail_monthly_granular_nonadjusted[monthly_share_names[i]] = monthly_expenditure_share(retail_monthly_granular_nonadjusted[column_names[i]], retail_monthly_granular_nonadjusted['Year'], index_names)\n",
      "/var/folders/tw/pjkwgn1n1750q10spmv865w40000gn/T/ipykernel_23639/2194485772.py:6: PerformanceWarning: DataFrame is highly fragmented.  This is usually the result of calling `frame.insert` many times, which has poor performance.  Consider joining all columns at once using pd.concat(axis=1) instead. To get a de-fragmented frame, use `newframe = frame.copy()`\n",
      "  retail_monthly_granular_nonadjusted[monthly_share_names[i]] = monthly_expenditure_share(retail_monthly_granular_nonadjusted[column_names[i]], retail_monthly_granular_nonadjusted['Year'], index_names)\n",
      "/var/folders/tw/pjkwgn1n1750q10spmv865w40000gn/T/ipykernel_23639/2194485772.py:6: PerformanceWarning: DataFrame is highly fragmented.  This is usually the result of calling `frame.insert` many times, which has poor performance.  Consider joining all columns at once using pd.concat(axis=1) instead. To get a de-fragmented frame, use `newframe = frame.copy()`\n",
      "  retail_monthly_granular_nonadjusted[monthly_share_names[i]] = monthly_expenditure_share(retail_monthly_granular_nonadjusted[column_names[i]], retail_monthly_granular_nonadjusted['Year'], index_names)\n",
      "/var/folders/tw/pjkwgn1n1750q10spmv865w40000gn/T/ipykernel_23639/2194485772.py:6: PerformanceWarning: DataFrame is highly fragmented.  This is usually the result of calling `frame.insert` many times, which has poor performance.  Consider joining all columns at once using pd.concat(axis=1) instead. To get a de-fragmented frame, use `newframe = frame.copy()`\n",
      "  retail_monthly_granular_nonadjusted[monthly_share_names[i]] = monthly_expenditure_share(retail_monthly_granular_nonadjusted[column_names[i]], retail_monthly_granular_nonadjusted['Year'], index_names)\n",
      "/var/folders/tw/pjkwgn1n1750q10spmv865w40000gn/T/ipykernel_23639/2194485772.py:6: PerformanceWarning: DataFrame is highly fragmented.  This is usually the result of calling `frame.insert` many times, which has poor performance.  Consider joining all columns at once using pd.concat(axis=1) instead. To get a de-fragmented frame, use `newframe = frame.copy()`\n",
      "  retail_monthly_granular_nonadjusted[monthly_share_names[i]] = monthly_expenditure_share(retail_monthly_granular_nonadjusted[column_names[i]], retail_monthly_granular_nonadjusted['Year'], index_names)\n",
      "/var/folders/tw/pjkwgn1n1750q10spmv865w40000gn/T/ipykernel_23639/2194485772.py:6: PerformanceWarning: DataFrame is highly fragmented.  This is usually the result of calling `frame.insert` many times, which has poor performance.  Consider joining all columns at once using pd.concat(axis=1) instead. To get a de-fragmented frame, use `newframe = frame.copy()`\n",
      "  retail_monthly_granular_nonadjusted[monthly_share_names[i]] = monthly_expenditure_share(retail_monthly_granular_nonadjusted[column_names[i]], retail_monthly_granular_nonadjusted['Year'], index_names)\n",
      "/var/folders/tw/pjkwgn1n1750q10spmv865w40000gn/T/ipykernel_23639/2194485772.py:6: PerformanceWarning: DataFrame is highly fragmented.  This is usually the result of calling `frame.insert` many times, which has poor performance.  Consider joining all columns at once using pd.concat(axis=1) instead. To get a de-fragmented frame, use `newframe = frame.copy()`\n",
      "  retail_monthly_granular_nonadjusted[monthly_share_names[i]] = monthly_expenditure_share(retail_monthly_granular_nonadjusted[column_names[i]], retail_monthly_granular_nonadjusted['Year'], index_names)\n",
      "/var/folders/tw/pjkwgn1n1750q10spmv865w40000gn/T/ipykernel_23639/2194485772.py:6: PerformanceWarning: DataFrame is highly fragmented.  This is usually the result of calling `frame.insert` many times, which has poor performance.  Consider joining all columns at once using pd.concat(axis=1) instead. To get a de-fragmented frame, use `newframe = frame.copy()`\n",
      "  retail_monthly_granular_nonadjusted[monthly_share_names[i]] = monthly_expenditure_share(retail_monthly_granular_nonadjusted[column_names[i]], retail_monthly_granular_nonadjusted['Year'], index_names)\n",
      "/var/folders/tw/pjkwgn1n1750q10spmv865w40000gn/T/ipykernel_23639/2194485772.py:6: PerformanceWarning: DataFrame is highly fragmented.  This is usually the result of calling `frame.insert` many times, which has poor performance.  Consider joining all columns at once using pd.concat(axis=1) instead. To get a de-fragmented frame, use `newframe = frame.copy()`\n",
      "  retail_monthly_granular_nonadjusted[monthly_share_names[i]] = monthly_expenditure_share(retail_monthly_granular_nonadjusted[column_names[i]], retail_monthly_granular_nonadjusted['Year'], index_names)\n",
      "/var/folders/tw/pjkwgn1n1750q10spmv865w40000gn/T/ipykernel_23639/2194485772.py:6: PerformanceWarning: DataFrame is highly fragmented.  This is usually the result of calling `frame.insert` many times, which has poor performance.  Consider joining all columns at once using pd.concat(axis=1) instead. To get a de-fragmented frame, use `newframe = frame.copy()`\n",
      "  retail_monthly_granular_nonadjusted[monthly_share_names[i]] = monthly_expenditure_share(retail_monthly_granular_nonadjusted[column_names[i]], retail_monthly_granular_nonadjusted['Year'], index_names)\n",
      "/var/folders/tw/pjkwgn1n1750q10spmv865w40000gn/T/ipykernel_23639/2194485772.py:6: PerformanceWarning: DataFrame is highly fragmented.  This is usually the result of calling `frame.insert` many times, which has poor performance.  Consider joining all columns at once using pd.concat(axis=1) instead. To get a de-fragmented frame, use `newframe = frame.copy()`\n",
      "  retail_monthly_granular_nonadjusted[monthly_share_names[i]] = monthly_expenditure_share(retail_monthly_granular_nonadjusted[column_names[i]], retail_monthly_granular_nonadjusted['Year'], index_names)\n",
      "/var/folders/tw/pjkwgn1n1750q10spmv865w40000gn/T/ipykernel_23639/2194485772.py:6: PerformanceWarning: DataFrame is highly fragmented.  This is usually the result of calling `frame.insert` many times, which has poor performance.  Consider joining all columns at once using pd.concat(axis=1) instead. To get a de-fragmented frame, use `newframe = frame.copy()`\n",
      "  retail_monthly_granular_nonadjusted[monthly_share_names[i]] = monthly_expenditure_share(retail_monthly_granular_nonadjusted[column_names[i]], retail_monthly_granular_nonadjusted['Year'], index_names)\n",
      "/var/folders/tw/pjkwgn1n1750q10spmv865w40000gn/T/ipykernel_23639/2194485772.py:6: PerformanceWarning: DataFrame is highly fragmented.  This is usually the result of calling `frame.insert` many times, which has poor performance.  Consider joining all columns at once using pd.concat(axis=1) instead. To get a de-fragmented frame, use `newframe = frame.copy()`\n",
      "  retail_monthly_granular_nonadjusted[monthly_share_names[i]] = monthly_expenditure_share(retail_monthly_granular_nonadjusted[column_names[i]], retail_monthly_granular_nonadjusted['Year'], index_names)\n",
      "/var/folders/tw/pjkwgn1n1750q10spmv865w40000gn/T/ipykernel_23639/2194485772.py:6: PerformanceWarning: DataFrame is highly fragmented.  This is usually the result of calling `frame.insert` many times, which has poor performance.  Consider joining all columns at once using pd.concat(axis=1) instead. To get a de-fragmented frame, use `newframe = frame.copy()`\n",
      "  retail_monthly_granular_nonadjusted[monthly_share_names[i]] = monthly_expenditure_share(retail_monthly_granular_nonadjusted[column_names[i]], retail_monthly_granular_nonadjusted['Year'], index_names)\n",
      "/var/folders/tw/pjkwgn1n1750q10spmv865w40000gn/T/ipykernel_23639/2194485772.py:6: PerformanceWarning: DataFrame is highly fragmented.  This is usually the result of calling `frame.insert` many times, which has poor performance.  Consider joining all columns at once using pd.concat(axis=1) instead. To get a de-fragmented frame, use `newframe = frame.copy()`\n",
      "  retail_monthly_granular_nonadjusted[monthly_share_names[i]] = monthly_expenditure_share(retail_monthly_granular_nonadjusted[column_names[i]], retail_monthly_granular_nonadjusted['Year'], index_names)\n",
      "/var/folders/tw/pjkwgn1n1750q10spmv865w40000gn/T/ipykernel_23639/2194485772.py:6: PerformanceWarning: DataFrame is highly fragmented.  This is usually the result of calling `frame.insert` many times, which has poor performance.  Consider joining all columns at once using pd.concat(axis=1) instead. To get a de-fragmented frame, use `newframe = frame.copy()`\n",
      "  retail_monthly_granular_nonadjusted[monthly_share_names[i]] = monthly_expenditure_share(retail_monthly_granular_nonadjusted[column_names[i]], retail_monthly_granular_nonadjusted['Year'], index_names)\n",
      "/var/folders/tw/pjkwgn1n1750q10spmv865w40000gn/T/ipykernel_23639/2194485772.py:6: PerformanceWarning: DataFrame is highly fragmented.  This is usually the result of calling `frame.insert` many times, which has poor performance.  Consider joining all columns at once using pd.concat(axis=1) instead. To get a de-fragmented frame, use `newframe = frame.copy()`\n",
      "  retail_monthly_granular_nonadjusted[monthly_share_names[i]] = monthly_expenditure_share(retail_monthly_granular_nonadjusted[column_names[i]], retail_monthly_granular_nonadjusted['Year'], index_names)\n",
      "/var/folders/tw/pjkwgn1n1750q10spmv865w40000gn/T/ipykernel_23639/2194485772.py:6: PerformanceWarning: DataFrame is highly fragmented.  This is usually the result of calling `frame.insert` many times, which has poor performance.  Consider joining all columns at once using pd.concat(axis=1) instead. To get a de-fragmented frame, use `newframe = frame.copy()`\n",
      "  retail_monthly_granular_nonadjusted[monthly_share_names[i]] = monthly_expenditure_share(retail_monthly_granular_nonadjusted[column_names[i]], retail_monthly_granular_nonadjusted['Year'], index_names)\n",
      "/var/folders/tw/pjkwgn1n1750q10spmv865w40000gn/T/ipykernel_23639/2194485772.py:6: PerformanceWarning: DataFrame is highly fragmented.  This is usually the result of calling `frame.insert` many times, which has poor performance.  Consider joining all columns at once using pd.concat(axis=1) instead. To get a de-fragmented frame, use `newframe = frame.copy()`\n",
      "  retail_monthly_granular_nonadjusted[monthly_share_names[i]] = monthly_expenditure_share(retail_monthly_granular_nonadjusted[column_names[i]], retail_monthly_granular_nonadjusted['Year'], index_names)\n",
      "/var/folders/tw/pjkwgn1n1750q10spmv865w40000gn/T/ipykernel_23639/2194485772.py:6: PerformanceWarning: DataFrame is highly fragmented.  This is usually the result of calling `frame.insert` many times, which has poor performance.  Consider joining all columns at once using pd.concat(axis=1) instead. To get a de-fragmented frame, use `newframe = frame.copy()`\n",
      "  retail_monthly_granular_nonadjusted[monthly_share_names[i]] = monthly_expenditure_share(retail_monthly_granular_nonadjusted[column_names[i]], retail_monthly_granular_nonadjusted['Year'], index_names)\n",
      "/var/folders/tw/pjkwgn1n1750q10spmv865w40000gn/T/ipykernel_23639/2194485772.py:6: PerformanceWarning: DataFrame is highly fragmented.  This is usually the result of calling `frame.insert` many times, which has poor performance.  Consider joining all columns at once using pd.concat(axis=1) instead. To get a de-fragmented frame, use `newframe = frame.copy()`\n",
      "  retail_monthly_granular_nonadjusted[monthly_share_names[i]] = monthly_expenditure_share(retail_monthly_granular_nonadjusted[column_names[i]], retail_monthly_granular_nonadjusted['Year'], index_names)\n",
      "/var/folders/tw/pjkwgn1n1750q10spmv865w40000gn/T/ipykernel_23639/2194485772.py:6: PerformanceWarning: DataFrame is highly fragmented.  This is usually the result of calling `frame.insert` many times, which has poor performance.  Consider joining all columns at once using pd.concat(axis=1) instead. To get a de-fragmented frame, use `newframe = frame.copy()`\n",
      "  retail_monthly_granular_nonadjusted[monthly_share_names[i]] = monthly_expenditure_share(retail_monthly_granular_nonadjusted[column_names[i]], retail_monthly_granular_nonadjusted['Year'], index_names)\n",
      "/var/folders/tw/pjkwgn1n1750q10spmv865w40000gn/T/ipykernel_23639/2194485772.py:6: PerformanceWarning: DataFrame is highly fragmented.  This is usually the result of calling `frame.insert` many times, which has poor performance.  Consider joining all columns at once using pd.concat(axis=1) instead. To get a de-fragmented frame, use `newframe = frame.copy()`\n",
      "  retail_monthly_granular_nonadjusted[monthly_share_names[i]] = monthly_expenditure_share(retail_monthly_granular_nonadjusted[column_names[i]], retail_monthly_granular_nonadjusted['Year'], index_names)\n",
      "/var/folders/tw/pjkwgn1n1750q10spmv865w40000gn/T/ipykernel_23639/2194485772.py:6: PerformanceWarning: DataFrame is highly fragmented.  This is usually the result of calling `frame.insert` many times, which has poor performance.  Consider joining all columns at once using pd.concat(axis=1) instead. To get a de-fragmented frame, use `newframe = frame.copy()`\n",
      "  retail_monthly_granular_nonadjusted[monthly_share_names[i]] = monthly_expenditure_share(retail_monthly_granular_nonadjusted[column_names[i]], retail_monthly_granular_nonadjusted['Year'], index_names)\n",
      "/var/folders/tw/pjkwgn1n1750q10spmv865w40000gn/T/ipykernel_23639/2194485772.py:6: PerformanceWarning: DataFrame is highly fragmented.  This is usually the result of calling `frame.insert` many times, which has poor performance.  Consider joining all columns at once using pd.concat(axis=1) instead. To get a de-fragmented frame, use `newframe = frame.copy()`\n",
      "  retail_monthly_granular_nonadjusted[monthly_share_names[i]] = monthly_expenditure_share(retail_monthly_granular_nonadjusted[column_names[i]], retail_monthly_granular_nonadjusted['Year'], index_names)\n",
      "/var/folders/tw/pjkwgn1n1750q10spmv865w40000gn/T/ipykernel_23639/2194485772.py:6: PerformanceWarning: DataFrame is highly fragmented.  This is usually the result of calling `frame.insert` many times, which has poor performance.  Consider joining all columns at once using pd.concat(axis=1) instead. To get a de-fragmented frame, use `newframe = frame.copy()`\n",
      "  retail_monthly_granular_nonadjusted[monthly_share_names[i]] = monthly_expenditure_share(retail_monthly_granular_nonadjusted[column_names[i]], retail_monthly_granular_nonadjusted['Year'], index_names)\n",
      "/var/folders/tw/pjkwgn1n1750q10spmv865w40000gn/T/ipykernel_23639/2194485772.py:6: PerformanceWarning: DataFrame is highly fragmented.  This is usually the result of calling `frame.insert` many times, which has poor performance.  Consider joining all columns at once using pd.concat(axis=1) instead. To get a de-fragmented frame, use `newframe = frame.copy()`\n",
      "  retail_monthly_granular_nonadjusted[monthly_share_names[i]] = monthly_expenditure_share(retail_monthly_granular_nonadjusted[column_names[i]], retail_monthly_granular_nonadjusted['Year'], index_names)\n",
      "/var/folders/tw/pjkwgn1n1750q10spmv865w40000gn/T/ipykernel_23639/2194485772.py:6: PerformanceWarning: DataFrame is highly fragmented.  This is usually the result of calling `frame.insert` many times, which has poor performance.  Consider joining all columns at once using pd.concat(axis=1) instead. To get a de-fragmented frame, use `newframe = frame.copy()`\n",
      "  retail_monthly_granular_nonadjusted[monthly_share_names[i]] = monthly_expenditure_share(retail_monthly_granular_nonadjusted[column_names[i]], retail_monthly_granular_nonadjusted['Year'], index_names)\n",
      "/var/folders/tw/pjkwgn1n1750q10spmv865w40000gn/T/ipykernel_23639/2194485772.py:6: PerformanceWarning: DataFrame is highly fragmented.  This is usually the result of calling `frame.insert` many times, which has poor performance.  Consider joining all columns at once using pd.concat(axis=1) instead. To get a de-fragmented frame, use `newframe = frame.copy()`\n",
      "  retail_monthly_granular_nonadjusted[monthly_share_names[i]] = monthly_expenditure_share(retail_monthly_granular_nonadjusted[column_names[i]], retail_monthly_granular_nonadjusted['Year'], index_names)\n",
      "/var/folders/tw/pjkwgn1n1750q10spmv865w40000gn/T/ipykernel_23639/2194485772.py:6: PerformanceWarning: DataFrame is highly fragmented.  This is usually the result of calling `frame.insert` many times, which has poor performance.  Consider joining all columns at once using pd.concat(axis=1) instead. To get a de-fragmented frame, use `newframe = frame.copy()`\n",
      "  retail_monthly_granular_nonadjusted[monthly_share_names[i]] = monthly_expenditure_share(retail_monthly_granular_nonadjusted[column_names[i]], retail_monthly_granular_nonadjusted['Year'], index_names)\n",
      "/var/folders/tw/pjkwgn1n1750q10spmv865w40000gn/T/ipykernel_23639/2194485772.py:6: PerformanceWarning: DataFrame is highly fragmented.  This is usually the result of calling `frame.insert` many times, which has poor performance.  Consider joining all columns at once using pd.concat(axis=1) instead. To get a de-fragmented frame, use `newframe = frame.copy()`\n",
      "  retail_monthly_granular_nonadjusted[monthly_share_names[i]] = monthly_expenditure_share(retail_monthly_granular_nonadjusted[column_names[i]], retail_monthly_granular_nonadjusted['Year'], index_names)\n",
      "/var/folders/tw/pjkwgn1n1750q10spmv865w40000gn/T/ipykernel_23639/2194485772.py:6: PerformanceWarning: DataFrame is highly fragmented.  This is usually the result of calling `frame.insert` many times, which has poor performance.  Consider joining all columns at once using pd.concat(axis=1) instead. To get a de-fragmented frame, use `newframe = frame.copy()`\n",
      "  retail_monthly_granular_nonadjusted[monthly_share_names[i]] = monthly_expenditure_share(retail_monthly_granular_nonadjusted[column_names[i]], retail_monthly_granular_nonadjusted['Year'], index_names)\n",
      "/var/folders/tw/pjkwgn1n1750q10spmv865w40000gn/T/ipykernel_23639/2194485772.py:6: PerformanceWarning: DataFrame is highly fragmented.  This is usually the result of calling `frame.insert` many times, which has poor performance.  Consider joining all columns at once using pd.concat(axis=1) instead. To get a de-fragmented frame, use `newframe = frame.copy()`\n",
      "  retail_monthly_granular_nonadjusted[monthly_share_names[i]] = monthly_expenditure_share(retail_monthly_granular_nonadjusted[column_names[i]], retail_monthly_granular_nonadjusted['Year'], index_names)\n"
     ]
    }
   ],
   "source": [
    "#Creating Monthly Share of Annual Expenditure Category Columns\n",
    "\n",
    "monthly_share_names=[f'Share of Annual Expenditure, {i}' for i in retail_monthly_granular_nonadjusted.columns[0:58]]\n",
    "\n",
    "for i in range(58):\n",
    "    retail_monthly_granular_nonadjusted[monthly_share_names[i]] = monthly_expenditure_share(retail_monthly_granular_nonadjusted[column_names[i]], retail_monthly_granular_nonadjusted['Year'], index_names)\n"
   ]
  },
  {
   "cell_type": "code",
   "execution_count": 79,
   "metadata": {},
   "outputs": [],
   "source": [
    "#Creating monthly dummies \n",
    "\n",
    "#Granular\n",
    "month_dummies = pd.get_dummies(retail_monthly_granular_nonadjusted['Month'])\n",
    "retail_monthly_granular_nonadjusted=retail_monthly_granular_nonadjusted.join(month_dummies)\n",
    "\n",
    "#Pretty sure you can just regress on C('Month') instead of needing to create dummies like this"
   ]
  },
  {
   "cell_type": "markdown",
   "metadata": {},
   "source": [
    "Total, Monthly"
   ]
  },
  {
   "cell_type": "code",
   "execution_count": 53,
   "metadata": {},
   "outputs": [],
   "source": [
    "#Defining Dataframe\n",
    "\n",
    "retail_monthly_total_nonadjusted=pd.read_excel('Data/retail_sales/mrtssales92-present.xls', sheet_name='2010', usecols=\"B\", skiprows = [i for i in range(1,6)]+[j for j in range(13,200)])\n",
    "retail_monthly_total_nonadjusted.columns=['Kind of Business']"
   ]
  },
  {
   "cell_type": "code",
   "execution_count": 54,
   "metadata": {},
   "outputs": [],
   "source": [
    "#Populating Dataframe\n",
    "\n",
    "#Note: rows are 0-indexed. Stopping at row 12 actually stops at row 13\n",
    "\n",
    "for i in range(1992, 2022):\n",
    "    retail_df_total = pd.read_excel('Data/retail_sales/mrtssales92-present.xls', sheet_name=f'{i}', usecols=\"C:N\", skiprows = [i for i in range(1,6)]+[j for j in range(13,200)]) \n",
    "    retail_df_total.columns=[f'01-01-{i}', f'01-02-{i}', f'01-03-{i}', f'01-04-{i}', f'01-05-{i}', f'01-06-{i}', f'01-07-{i}', f'01-08-{i}', f'01-09-{i}', f'01-10-{i}', f'01-11-{i}', f'01-12-{i}']\n",
    "    retail_df_total.columns=pd.to_numeric(retail_df_total.columns, errors='ignore')\n",
    "    retail_df_total.columns = pd.to_datetime(retail_df_total.columns, format='%d-%m-%Y')\n",
    "    retail_monthly_total_nonadjusted=pd.concat([retail_monthly_total_nonadjusted, retail_df_total], axis=1)"
   ]
  },
  {
   "cell_type": "code",
   "execution_count": 55,
   "metadata": {},
   "outputs": [],
   "source": [
    "#Setting (S) and (NA) values to NaN for nonadjusted dataframes\n",
    "\n",
    "#Total, Monthly\n",
    "retail_monthly_total_nonadjusted=retail_monthly_total_nonadjusted.applymap(lambda x: np.nan if (x=='(S)' or x=='(NA)') else x)\n"
   ]
  },
  {
   "cell_type": "code",
   "execution_count": 56,
   "metadata": {},
   "outputs": [],
   "source": [
    "#Transpose\n",
    "retail_monthly_total_nonadjusted=retail_monthly_total_nonadjusted.transpose()\n"
   ]
  },
  {
   "cell_type": "code",
   "execution_count": 58,
   "metadata": {},
   "outputs": [],
   "source": [
    "#Changing Column Names/Index\n",
    "\n",
    "retail_monthly_total_nonadjusted.columns=[i for i in retail_monthly_total_nonadjusted.iloc[0]]\n",
    "retail_monthly_total_nonadjusted.drop(index=retail_monthly_total_nonadjusted.index[0], axis=0, inplace=True)\n"
   ]
  },
  {
   "cell_type": "code",
   "execution_count": 61,
   "metadata": {},
   "outputs": [],
   "source": [
    "#Creating Month + Year Columns\n",
    "\n",
    "retail_monthly_total_nonadjusted['Year'] = pd.DatetimeIndex(retail_monthly_total_nonadjusted.index).year\n",
    "retail_monthly_total_nonadjusted['Month'] = pd.DatetimeIndex(retail_monthly_total_nonadjusted.index).month\n"
   ]
  },
  {
   "cell_type": "code",
   "execution_count": 65,
   "metadata": {},
   "outputs": [],
   "source": [
    "#Creating Monthly % Change Variables (Nonadjusted, Total)\n",
    "\n",
    "column_names_total=list(retail_monthly_total_nonadjusted)\n",
    "index_names_total=list(retail_monthly_total_nonadjusted.index)\n",
    "\n",
    "#Monthly % Change\n",
    "monthly_per_change_names_total=[f'Monthly % Change, {i}' for i in retail_monthly_total_nonadjusted.columns[0:7]]\n",
    "\n",
    "for i in range(7):\n",
    "    retail_monthly_total_nonadjusted[monthly_per_change_names_total[i]]=perc_change_mon(retail_monthly_total_nonadjusted[column_names_total[i]], index_names_total)\n",
    "\n",
    "#3 Month % Change\n",
    "threemonth_per_change_names_total=[f'3 Month % Change, {i}' for i in retail_monthly_total_nonadjusted.columns[0:7]]\n",
    "\n",
    "for i in range(7):\n",
    "    retail_monthly_total_nonadjusted[threemonth_per_change_names_total[i]]=perc_change_3mon(retail_monthly_total_nonadjusted[column_names_total[i]], index_names_total)"
   ]
  },
  {
   "cell_type": "code",
   "execution_count": 67,
   "metadata": {},
   "outputs": [],
   "source": [
    "#Creating Monthly Share of Annual Expenditure Category Columns\n",
    "\n",
    "monthly_share_names_total=[f'Share of Annual Expenditure, {i}' for i in retail_monthly_total_nonadjusted.columns[0:7]]\n",
    "\n",
    "for i in range(7):\n",
    "    retail_monthly_total_nonadjusted[monthly_share_names_total[i]] = monthly_expenditure_share(retail_monthly_total_nonadjusted[column_names_total[i]], retail_monthly_total_nonadjusted['Year'], retail_monthly_total_nonadjusted.index)\n"
   ]
  },
  {
   "cell_type": "code",
   "execution_count": 80,
   "metadata": {},
   "outputs": [],
   "source": [
    "#Creating monthly dummies \n",
    "\n",
    "#Total\n",
    "retail_monthly_total_nonadjusted=retail_monthly_total_nonadjusted.join(month_dummies)\n",
    "\n",
    "\n",
    "#Pretty sure you can just regress on C('Month') instead of needing to create dummies like this"
   ]
  },
  {
   "cell_type": "markdown",
   "metadata": {},
   "source": [
    "Granular, Annual"
   ]
  },
  {
   "cell_type": "code",
   "execution_count": null,
   "metadata": {},
   "outputs": [],
   "source": [
    "#Defining Dataframe/Columns\n",
    "retail_annual_granular_nonadjusted = pd.read_excel('Data/retail_sales/mrtssales92-present.xls', sheet_name='2010', usecols=\"B\", skiprows = [i for i in range(1,13)]+[j for j in range(71,200)])\n",
    "retail_annual_granular_nonadjusted.columns=['Kind of Business']\n"
   ]
  },
  {
   "cell_type": "code",
   "execution_count": null,
   "metadata": {},
   "outputs": [],
   "source": [
    "#Populating Dataframes\n",
    "\n",
    "for i in range(1992, 2022):\n",
    "    retail_df_annual_granular = pd.read_excel('Data/retail_sales/mrtssales92-present.xls', sheet_name=f'{i}', usecols=\"O\", skiprows = [i for i in range(1,13)]+[j for j in range(71,200)])\n",
    "    retail_df_annual_granular.columns=[f'{i} Average']\n",
    "    retail_annual_granular_nonadjusted=pd.concat([retail_annual_granular_nonadjusted, retail_df_annual_granular], axis=1)"
   ]
  },
  {
   "cell_type": "code",
   "execution_count": null,
   "metadata": {},
   "outputs": [],
   "source": [
    "#Transpose\n",
    "\n",
    "retail_annual_granular_nonadjusted=retail_annual_granular_nonadjusted.transpose()"
   ]
  },
  {
   "cell_type": "code",
   "execution_count": null,
   "metadata": {},
   "outputs": [],
   "source": [
    "#Changing Column Names/Index\n",
    "\n",
    "retail_annual_granular_nonadjusted.columns=[i for i in retail_annual_granular_nonadjusted.iloc[0]]\n",
    "retail_annual_granular_nonadjusted.drop(index=retail_annual_granular_nonadjusted.index[0], axis=0, inplace=True)"
   ]
  },
  {
   "cell_type": "markdown",
   "metadata": {},
   "source": [
    "Total, Annual"
   ]
  },
  {
   "cell_type": "code",
   "execution_count": null,
   "metadata": {},
   "outputs": [],
   "source": [
    "#Defining Dataframe\n",
    "\n",
    "retail_annual_total_nonadjusted = pd.read_excel('Data/retail_sales/mrtssales92-present.xls', sheet_name='2010', usecols=\"B\", skiprows = [i for i in range(1,6)]+[j for j in range(13,200)])\n",
    "retail_annual_total_nonadjusted.columns=['Kind of Business']\n"
   ]
  },
  {
   "cell_type": "code",
   "execution_count": null,
   "metadata": {},
   "outputs": [],
   "source": [
    "#Populating Dataframe\n",
    "\n",
    "for i in range(1992, 2022):\n",
    "    retail_df_annual_totals = pd.read_excel('Data/retail_sales/mrtssales92-present.xls', sheet_name=f'{i}', usecols=\"O\", skiprows = [i for i in range(1,6)]+[j for j in range(13,200)]) \n",
    "    retail_df_annual_totals.columns=[f'{i} Average']\n",
    "    retail_annual_total_nonadjusted=pd.concat([retail_annual_total_nonadjusted, retail_df_annual_totals], axis=1)\n"
   ]
  },
  {
   "cell_type": "code",
   "execution_count": null,
   "metadata": {},
   "outputs": [],
   "source": [
    "#Transpose\n",
    "retail_annual_total_nonadjusted=retail_annual_total_nonadjusted.transpose()\n"
   ]
  },
  {
   "cell_type": "code",
   "execution_count": null,
   "metadata": {},
   "outputs": [],
   "source": [
    "#Changing Column Names/Index\n",
    "\n",
    "retail_annual_total_nonadjusted.columns=[i for i in retail_annual_total_nonadjusted.iloc[0]]\n",
    "retail_annual_total_nonadjusted.drop(index=retail_annual_total_nonadjusted.index[0], axis=0, inplace=True)"
   ]
  },
  {
   "cell_type": "markdown",
   "metadata": {},
   "source": [
    "Granular, Quarterly"
   ]
  },
  {
   "cell_type": "code",
   "execution_count": null,
   "metadata": {},
   "outputs": [],
   "source": [
    "#Defining Quarterly Data \n",
    "retail_quarterly_granular_nonadjusted = retail_monthly_granular_nonadjusted[column_names].groupby(pd.PeriodIndex(retail_monthly_granular_nonadjusted.index, freq='Q'), axis='index').sum()\n",
    "\n",
    "#Setting (S) and (NA) values to NaN \n",
    "retail_quarterly_granular_nonadjusted = retail_quarterly_granular_nonadjusted.applymap(lambda x: np.nan if (x=='(S)' or x=='(NA)') else x)\n",
    "\n",
    "#Defining Quarter + Year Variables\n",
    "\n",
    "retail_quarterly_granular_nonadjusted['Year'] = retail_quarterly_granular_nonadjusted.index.astype(str)\n",
    "retail_quarterly_granular_nonadjusted['Year'] = retail_quarterly_granular_nonadjusted['Year'].map(lambda x: re.findall('(\\d{4})', x)[0])\n",
    "retail_quarterly_granular_nonadjusted['Quarter'] = retail_quarterly_granular_nonadjusted.index.astype(str)\n",
    "retail_quarterly_granular_nonadjusted['Quarter'] = retail_quarterly_granular_nonadjusted['Quarter'].map(lambda x: re.findall('(\\d$)', x)[0])\n",
    "\n",
    "#Defining Quarterly Dummies\n",
    "\n",
    "quarter_dummies = pd.get_dummies(retail_quarterly_granular_nonadjusted['Quarter'])\n",
    "retail_quarterly_granular_nonadjusted=retail_quarterly_granular_nonadjusted.join(quarter_dummies)\n",
    "\n",
    "#Pretty sure you can just regress on C('Month') instead of needing to create dummies like this"
   ]
  },
  {
   "cell_type": "code",
   "execution_count": null,
   "metadata": {},
   "outputs": [],
   "source": [
    "#Quarter % Changes\n",
    "quarter_indices=retail_quarterly_granular_nonadjusted.index\n",
    "quarter_names = list(quarter_indices)\n",
    "\n",
    "quarterly_per_change_names=[f'Quarterly % Change, {i}' for i in retail_quarterly_granular_nonadjusted.columns[0:58]]\n",
    "\n",
    "for i in range(58):\n",
    "    retail_quarterly_granular_nonadjusted[quarterly_per_change_names[i]]=perc_change_mon(retail_quarterly_granular_nonadjusted[column_names[i]], quarter_indices)\n",
    "\n",
    "retail_quarterly_granular_nonadjusted"
   ]
  },
  {
   "cell_type": "markdown",
   "metadata": {},
   "source": [
    "Total, Quarterly"
   ]
  },
  {
   "cell_type": "code",
   "execution_count": 42,
   "metadata": {},
   "outputs": [],
   "source": [
    "column_names_total=list(retail_monthly_total_nonadjusted)\n",
    "\n",
    "#Defining Quarterly Data\n",
    "retail_quarterly_total_nonadjusted = retail_monthly_total_nonadjusted[column_names_total].groupby(pd.PeriodIndex(retail_monthly_total_nonadjusted.index, freq='Q'), axis='index').sum()\n",
    "\n",
    "#Setting (S) and (NA) values to NaN \n",
    "retail_quarterly_total_nonadjusted = retail_quarterly_total_nonadjusted.applymap(lambda x: np.nan if (x=='(S)' or x=='(NA)') else x)\n",
    "\n",
    "#Defining Quarter + Year Variables\n",
    "retail_quarterly_total_nonadjusted['Year'] = retail_quarterly_total_nonadjusted.index.astype(str)\n",
    "retail_quarterly_total_nonadjusted['Year'] = retail_quarterly_total_nonadjusted['Year'].map(lambda x: re.findall('(\\d{4})', x)[0])\n",
    "retail_quarterly_total_nonadjusted['Quarter'] = retail_quarterly_total_nonadjusted.index.astype(str)\n",
    "retail_quarterly_total_nonadjusted['Quarter'] = retail_quarterly_total_nonadjusted['Quarter'].map(lambda x: re.findall('(\\d$)', x)[0])\n",
    "\n",
    "#Defining Quarterly Dummies\n",
    "retail_quarterly_total_nonadjusted=retail_quarterly_total_nonadjusted.join(quarter_dummies)\n"
   ]
  },
  {
   "cell_type": "code",
   "execution_count": 47,
   "metadata": {},
   "outputs": [],
   "source": [
    "#Quarter % Changes\n",
    "\n",
    "quarterly_per_change_names_total=[f'Quarterly % Change, {i}' for i in retail_quarterly_total_nonadjusted.columns[0:7]]\n",
    "\n",
    "for i in range(7):\n",
    "    retail_quarterly_total_nonadjusted[quarterly_per_change_names_total[i]]=perc_change_mon(retail_quarterly_total_nonadjusted[column_names_total[i]], quarter_indices)\n"
   ]
  },
  {
   "cell_type": "markdown",
   "metadata": {},
   "source": [
    "### Adjusted"
   ]
  },
  {
   "cell_type": "markdown",
   "metadata": {},
   "source": [
    "Granular, Monthly"
   ]
  },
  {
   "cell_type": "code",
   "execution_count": null,
   "metadata": {},
   "outputs": [],
   "source": [
    "#Defining Dataframe\n",
    "\n",
    "retail_monthly_granular_adjusted = pd.read_excel('Data/retail_sales/mrtssales92-present.xls', sheet_name='2010', usecols=\"B\", skiprows=[i for i in range(1,79)]+[j for j in range(110,200)])\n",
    "retail_monthly_granular_adjusted.columns=['Kind of Business']\n"
   ]
  },
  {
   "cell_type": "code",
   "execution_count": null,
   "metadata": {},
   "outputs": [],
   "source": [
    "#Populating Dataframe\n",
    "\n",
    "for i in range(1992, 2022):\n",
    "    retail_df_monthly = pd.read_excel('Data/retail_sales/mrtssales92-present.xls', sheet_name=f'{i}', usecols=\"C:N\", skiprows = [i for i in range(1,79)]+[j for j in range(110,200)])\n",
    "    retail_df_monthly.columns=[f'Jan. {i}', f'Feb. {i}', f'Mar. {i}', f'Apr. {i}', f'May {i}', f'Jun. {i}', f'Jul. {i}', f'Aug. {i}', f'Sep. {i}', f'Oct. {i}', f'Nov. {i}', f'Dec. {i}']\n",
    "    retail_monthly_granular_adjusted=pd.concat([retail_monthly_granular_adjusted, retail_df_monthly], axis=1)\n"
   ]
  },
  {
   "cell_type": "markdown",
   "metadata": {},
   "source": [
    "Total, Monthly"
   ]
  },
  {
   "cell_type": "code",
   "execution_count": null,
   "metadata": {},
   "outputs": [],
   "source": [
    "#Defining Dataframe\n",
    "\n",
    "retail_monthly_total_adjusted = pd.read_excel('Data/retail_sales/mrtssales92-present.xls', sheet_name='2010', usecols=\"B\", skiprows=[i for i in range(1,72)]+[j for j in range(79,200)])\n",
    "retail_monthly_total_adjusted.columns=['Kind of Business']"
   ]
  },
  {
   "cell_type": "code",
   "execution_count": null,
   "metadata": {},
   "outputs": [],
   "source": [
    "#Populating Dataframe\n",
    "\n",
    "for i in range(1992, 2022):\n",
    "    retail_df_total = pd.read_excel('Data/retail_sales/mrtssales92-present.xls', sheet_name=f'{i}', usecols=\"C:N\", skiprows=[i for i in range(1,72)]+[j for j in range(79,200)])\n",
    "    retail_df_total.columns=[f'Jan. {i}', f'Feb. {i}', f'Mar. {i}', f'Apr. {i}', f'May {i}', f'Jun. {i}', f'Jul. {i}', f'Aug. {i}', f'Sep. {i}', f'Oct. {i}', f'Nov. {i}', f'Dec. {i}']\n",
    "    retail_monthly_total_adjusted=pd.concat([retail_monthly_total_adjusted, retail_df_total], axis=1)\n"
   ]
  },
  {
   "cell_type": "markdown",
   "metadata": {},
   "source": [
    "## % Change Regressions, Monthly (Nonadjusted)"
   ]
  },
  {
   "cell_type": "markdown",
   "metadata": {},
   "source": [
    "Granular, 1 Month"
   ]
  },
  {
   "cell_type": "code",
   "execution_count": null,
   "metadata": {},
   "outputs": [],
   "source": [
    "#Monthly % Change, 20 lags (Granular)\n",
    "\n",
    "ret_granular_summary_monthly_20lags = []\n",
    "ret_granular_data_monthly_20lags = []\n",
    "\n",
    "for i in range(58):\n",
    "    temp_df = retail_monthly_granular_nonadjusted.copy()\n",
    "    indices=np.where(retail_monthly_granular_nonadjusted[monthly_per_change_names[i]].notnull())[0]\n",
    "    index_names_temp = [k for k in index_names if index_names.index(k) in indices]\n",
    "    temp_df['y'] = retail_monthly_granular_nonadjusted[monthly_per_change_names[i]].dropna()\n",
    "    temp_df['x_1'] = retail_monthly_granular_nonadjusted[1].loc[index_names_temp]\n",
    "    temp_df['x_2'] = retail_monthly_granular_nonadjusted[2].loc[index_names_temp]\n",
    "    temp_df['x_3'] = retail_monthly_granular_nonadjusted[3].loc[index_names_temp]\n",
    "    temp_df['x_4'] = retail_monthly_granular_nonadjusted[4].loc[index_names_temp]\n",
    "    temp_df['x_5'] = retail_monthly_granular_nonadjusted[5].loc[index_names_temp]\n",
    "    temp_df['x_6'] = retail_monthly_granular_nonadjusted[6].loc[index_names_temp]\n",
    "    temp_df['x_7'] = retail_monthly_granular_nonadjusted[7].loc[index_names_temp]\n",
    "    temp_df['x_8'] = retail_monthly_granular_nonadjusted[8].loc[index_names_temp]\n",
    "    temp_df['x_9'] = retail_monthly_granular_nonadjusted[9].loc[index_names_temp]\n",
    "    temp_df['x_10'] = retail_monthly_granular_nonadjusted[10].loc[index_names_temp]\n",
    "    temp_df['x_11'] = retail_monthly_granular_nonadjusted[11].loc[index_names_temp]\n",
    "    temp_df['x_12'] = retail_monthly_granular_nonadjusted[12].loc[index_names_temp]\n",
    "    ols = sm.ols(formula = 'y~x_1+x_2+x_3+x_4+x_5+x_6+x_7+x_8+x_9+x_10+x_11+x_12-1', data=temp_df).fit(cov_type='HAC',cov_kwds={'maxlags':20})\n",
    "    ret_granular_summary_monthly_20lags.append(ols.summary(yname = temp_df[monthly_per_change_names], xname = ['Jan', 'Feb', 'Mar', 'Apr', 'May', 'Jun', 'Jul', 'Aug', 'Sep', 'Oct', 'Nov', 'Dec']))\n",
    "    df = pd.DataFrame\n",
    "    df = pd.concat((ols.params.rename('coefficient'), ols.bse.rename('se'), ols.tvalues.rename('t')), axis=1)\n",
    "    ret_granular_data_monthly_20lags.append(df)"
   ]
  },
  {
   "cell_type": "code",
   "execution_count": null,
   "metadata": {},
   "outputs": [],
   "source": [
    "#Monthly % Change, 40 lags (Granular)\n",
    "\n",
    "ret_granular_summary_monthly_40lags = []\n",
    "ret_granular_data_monthly_40lags = []\n",
    "\n",
    "for i in range(58):\n",
    "    temp_df = retail_monthly_granular_nonadjusted.copy()\n",
    "    indices=np.where(retail_monthly_granular_nonadjusted[monthly_per_change_names[i]].notnull())[0]\n",
    "    index_names_temp = [k for k in index_names if index_names.index(k) in indices]\n",
    "    temp_df['y'] = retail_monthly_granular_nonadjusted[monthly_per_change_names[i]].dropna()\n",
    "    temp_df['x_1'] = retail_monthly_granular_nonadjusted[1].loc[index_names_temp]\n",
    "    temp_df['x_2'] = retail_monthly_granular_nonadjusted[2].loc[index_names_temp]\n",
    "    temp_df['x_3'] = retail_monthly_granular_nonadjusted[3].loc[index_names_temp]\n",
    "    temp_df['x_4'] = retail_monthly_granular_nonadjusted[4].loc[index_names_temp]\n",
    "    temp_df['x_5'] = retail_monthly_granular_nonadjusted[5].loc[index_names_temp]\n",
    "    temp_df['x_6'] = retail_monthly_granular_nonadjusted[6].loc[index_names_temp]\n",
    "    temp_df['x_7'] = retail_monthly_granular_nonadjusted[7].loc[index_names_temp]\n",
    "    temp_df['x_8'] = retail_monthly_granular_nonadjusted[8].loc[index_names_temp]\n",
    "    temp_df['x_9'] = retail_monthly_granular_nonadjusted[9].loc[index_names_temp]\n",
    "    temp_df['x_10'] = retail_monthly_granular_nonadjusted[10].loc[index_names_temp]\n",
    "    temp_df['x_11'] = retail_monthly_granular_nonadjusted[11].loc[index_names_temp]\n",
    "    temp_df['x_12'] = retail_monthly_granular_nonadjusted[12].loc[index_names_temp]\n",
    "    ols = sm.ols(formula = 'y~x_1+x_2+x_3+x_4+x_5+x_6+x_7+x_8+x_9+x_10+x_11+x_12-1', data=temp_df).fit(cov_type='HAC',cov_kwds={'maxlags':40})\n",
    "    ret_granular_summary_monthly_40lags.append(ols.summary(yname = temp_df[monthly_per_change_names], xname = ['Jan', 'Feb', 'Mar', 'Apr', 'May', 'Jun', 'Jul', 'Aug', 'Sep', 'Oct', 'Nov', 'Dec']))\n",
    "    df = pd.DataFrame\n",
    "    df = pd.concat((ols.params.rename('coefficient'), ols.bse.rename('se'), ols.tvalues.rename('t')), axis=1)\n",
    "    ret_granular_data_monthly_40lags.append(df)"
   ]
  },
  {
   "cell_type": "markdown",
   "metadata": {},
   "source": [
    "Total, 1 Month"
   ]
  },
  {
   "cell_type": "code",
   "execution_count": 81,
   "metadata": {},
   "outputs": [],
   "source": [
    "#Monthly % Change, 20 lags (total)\n",
    "\n",
    "ret_total_summary_monthly_20lags = []\n",
    "ret_total_data_monthly_20lags = []\n",
    "\n",
    "for i in range(7):\n",
    "    temp_df = retail_monthly_total_nonadjusted.copy()\n",
    "    indices=np.where(retail_monthly_total_nonadjusted[monthly_per_change_names_total[i]].notnull())[0]\n",
    "    index_names_temp = [k for k in index_names_total if index_names_total.index(k) in indices]\n",
    "    temp_df['y'] = retail_monthly_total_nonadjusted[monthly_per_change_names_total[i]].dropna()\n",
    "    temp_df['x_1'] = retail_monthly_total_nonadjusted[1].loc[index_names_temp]\n",
    "    temp_df['x_2'] = retail_monthly_total_nonadjusted[2].loc[index_names_temp]\n",
    "    temp_df['x_3'] = retail_monthly_total_nonadjusted[3].loc[index_names_temp]\n",
    "    temp_df['x_4'] = retail_monthly_total_nonadjusted[4].loc[index_names_temp]\n",
    "    temp_df['x_5'] = retail_monthly_total_nonadjusted[5].loc[index_names_temp]\n",
    "    temp_df['x_6'] = retail_monthly_total_nonadjusted[6].loc[index_names_temp]\n",
    "    temp_df['x_7'] = retail_monthly_total_nonadjusted[7].loc[index_names_temp]\n",
    "    temp_df['x_8'] = retail_monthly_total_nonadjusted[8].loc[index_names_temp]\n",
    "    temp_df['x_9'] = retail_monthly_total_nonadjusted[9].loc[index_names_temp]\n",
    "    temp_df['x_10'] = retail_monthly_total_nonadjusted[10].loc[index_names_temp]\n",
    "    temp_df['x_11'] = retail_monthly_total_nonadjusted[11].loc[index_names_temp]\n",
    "    temp_df['x_12'] = retail_monthly_total_nonadjusted[12].loc[index_names_temp]\n",
    "    ols = sm.ols(formula = 'y~x_1+x_2+x_3+x_4+x_5+x_6+x_7+x_8+x_9+x_10+x_11+x_12-1', data=temp_df).fit(cov_type='HAC',cov_kwds={'maxlags':20})\n",
    "    ret_total_summary_monthly_20lags.append(ols.summary(yname = temp_df[monthly_per_change_names_total[i]], xname = ['Jan', 'Feb', 'Mar', 'Apr', 'May', 'Jun', 'Jul', 'Aug', 'Sep', 'Oct', 'Nov', 'Dec']))\n",
    "    df = pd.DataFrame\n",
    "    df = pd.concat((ols.params.rename('coefficient'), ols.bse.rename('se'), ols.tvalues.rename('t')), axis=1)\n",
    "    ret_total_data_monthly_20lags.append(df)"
   ]
  },
  {
   "cell_type": "code",
   "execution_count": 82,
   "metadata": {},
   "outputs": [],
   "source": [
    "#Monthly % Change, 40 lags (total)\n",
    "\n",
    "ret_total_summary_monthly_40lags = []\n",
    "ret_total_data_monthly_40lags = []\n",
    "\n",
    "for i in range(7):\n",
    "    temp_df = retail_monthly_total_nonadjusted.copy()\n",
    "    indices=np.where(retail_monthly_total_nonadjusted[monthly_per_change_names_total[i]].notnull())[0]\n",
    "    index_names_temp = [k for k in index_names_total if index_names_total.index(k) in indices]\n",
    "    temp_df['y'] = retail_monthly_total_nonadjusted[monthly_per_change_names_total[i]].dropna()\n",
    "    temp_df['x_1'] = retail_monthly_total_nonadjusted[1].loc[index_names_temp]\n",
    "    temp_df['x_2'] = retail_monthly_total_nonadjusted[2].loc[index_names_temp]\n",
    "    temp_df['x_3'] = retail_monthly_total_nonadjusted[3].loc[index_names_temp]\n",
    "    temp_df['x_4'] = retail_monthly_total_nonadjusted[4].loc[index_names_temp]\n",
    "    temp_df['x_5'] = retail_monthly_total_nonadjusted[5].loc[index_names_temp]\n",
    "    temp_df['x_6'] = retail_monthly_total_nonadjusted[6].loc[index_names_temp]\n",
    "    temp_df['x_7'] = retail_monthly_total_nonadjusted[7].loc[index_names_temp]\n",
    "    temp_df['x_8'] = retail_monthly_total_nonadjusted[8].loc[index_names_temp]\n",
    "    temp_df['x_9'] = retail_monthly_total_nonadjusted[9].loc[index_names_temp]\n",
    "    temp_df['x_10'] = retail_monthly_total_nonadjusted[10].loc[index_names_temp]\n",
    "    temp_df['x_11'] = retail_monthly_total_nonadjusted[11].loc[index_names_temp]\n",
    "    temp_df['x_12'] = retail_monthly_total_nonadjusted[12].loc[index_names_temp]\n",
    "    ols = sm.ols(formula = 'y~x_1+x_2+x_3+x_4+x_5+x_6+x_7+x_8+x_9+x_10+x_11+x_12-1', data=temp_df).fit(cov_type='HAC',cov_kwds={'maxlags':40})\n",
    "    ret_total_summary_monthly_40lags.append(ols.summary(yname = temp_df[monthly_per_change_names_total[i]], xname = ['Jan', 'Feb', 'Mar', 'Apr', 'May', 'Jun', 'Jul', 'Aug', 'Sep', 'Oct', 'Nov', 'Dec']))\n",
    "    df = pd.DataFrame\n",
    "    df = pd.concat((ols.params.rename('coefficient'), ols.bse.rename('se'), ols.tvalues.rename('t')), axis=1)\n",
    "    ret_total_data_monthly_40lags.append(df)"
   ]
  },
  {
   "cell_type": "markdown",
   "metadata": {},
   "source": [
    "Granular, 3 Months"
   ]
  },
  {
   "cell_type": "code",
   "execution_count": null,
   "metadata": {},
   "outputs": [],
   "source": [
    "#3 Month % Change, 20 lags (Granular)\n",
    "\n",
    "ret_granular_summary_threemon_20lags = []\n",
    "ret_granular_data_threemon_20lags = []\n",
    "\n",
    "for i in range(58):\n",
    "    temp_df = retail_monthly_granular_nonadjusted.copy()\n",
    "    indices=np.where(retail_monthly_granular_nonadjusted[threemonth_per_change_names[i]].notnull())[0]\n",
    "    index_names_temp = [k for k in index_names if index_names.index(k) in indices]\n",
    "    temp_df['y'] = retail_monthly_granular_nonadjusted[threemonth_per_change_names[i]].dropna()\n",
    "    temp_df['x_1'] = retail_monthly_granular_nonadjusted[1].loc[index_names_temp]\n",
    "    temp_df['x_2'] = retail_monthly_granular_nonadjusted[2].loc[index_names_temp]\n",
    "    temp_df['x_3'] = retail_monthly_granular_nonadjusted[3].loc[index_names_temp]\n",
    "    temp_df['x_4'] = retail_monthly_granular_nonadjusted[4].loc[index_names_temp]\n",
    "    temp_df['x_5'] = retail_monthly_granular_nonadjusted[5].loc[index_names_temp]\n",
    "    temp_df['x_6'] = retail_monthly_granular_nonadjusted[6].loc[index_names_temp]\n",
    "    temp_df['x_7'] = retail_monthly_granular_nonadjusted[7].loc[index_names_temp]\n",
    "    temp_df['x_8'] = retail_monthly_granular_nonadjusted[8].loc[index_names_temp]\n",
    "    temp_df['x_9'] = retail_monthly_granular_nonadjusted[9].loc[index_names_temp]\n",
    "    temp_df['x_10'] = retail_monthly_granular_nonadjusted[10].loc[index_names_temp]\n",
    "    temp_df['x_11'] = retail_monthly_granular_nonadjusted[11].loc[index_names_temp]\n",
    "    temp_df['x_12'] = retail_monthly_granular_nonadjusted[12].loc[index_names_temp]\n",
    "    ols = sm.ols(formula = 'y~x_1+x_2+x_3+x_4+x_5+x_6+x_7+x_8+x_9+x_10+x_11+x_12-1', data=temp_df).fit(cov_type='HAC',cov_kwds={'maxlags':20})\n",
    "    ret_granular_summary_threemon_20lags.append(ols.summary(yname = temp_df[threemonth_per_change_names], xname = ['Jan', 'Feb', 'Mar', 'Apr', 'May', 'Jun', 'Jul', 'Aug', 'Sep', 'Oct', 'Nov', 'Dec']))\n",
    "    df = pd.DataFrame\n",
    "    df = pd.concat((ols.params.rename('coefficient'), ols.bse.rename('se'), ols.tvalues.rename('t')), axis=1)\n",
    "    ret_granular_data_threemon_20lags.append(df)"
   ]
  },
  {
   "cell_type": "code",
   "execution_count": null,
   "metadata": {},
   "outputs": [],
   "source": [
    "#3 Month % Change, 40 lags (Granular)\n",
    "\n",
    "ret_granular_summary_threemon_40lags = []\n",
    "ret_granular_data_threemon_40lags = []\n",
    "\n",
    "for i in range(58):\n",
    "    temp_df = retail_monthly_granular_nonadjusted.copy()\n",
    "    indices=np.where(retail_monthly_granular_nonadjusted[threemonth_per_change_names[i]].notnull())[0]\n",
    "    index_names_temp = [k for k in index_names if index_names.index(k) in indices]\n",
    "    temp_df['y'] = retail_monthly_granular_nonadjusted[threemonth_per_change_names[i]].dropna()\n",
    "    temp_df['x_1'] = retail_monthly_granular_nonadjusted[1].loc[index_names_temp]\n",
    "    temp_df['x_2'] = retail_monthly_granular_nonadjusted[2].loc[index_names_temp]\n",
    "    temp_df['x_3'] = retail_monthly_granular_nonadjusted[3].loc[index_names_temp]\n",
    "    temp_df['x_4'] = retail_monthly_granular_nonadjusted[4].loc[index_names_temp]\n",
    "    temp_df['x_5'] = retail_monthly_granular_nonadjusted[5].loc[index_names_temp]\n",
    "    temp_df['x_6'] = retail_monthly_granular_nonadjusted[6].loc[index_names_temp]\n",
    "    temp_df['x_7'] = retail_monthly_granular_nonadjusted[7].loc[index_names_temp]\n",
    "    temp_df['x_8'] = retail_monthly_granular_nonadjusted[8].loc[index_names_temp]\n",
    "    temp_df['x_9'] = retail_monthly_granular_nonadjusted[9].loc[index_names_temp]\n",
    "    temp_df['x_10'] = retail_monthly_granular_nonadjusted[10].loc[index_names_temp]\n",
    "    temp_df['x_11'] = retail_monthly_granular_nonadjusted[11].loc[index_names_temp]\n",
    "    temp_df['x_12'] = retail_monthly_granular_nonadjusted[12].loc[index_names_temp]\n",
    "    ols = sm.ols(formula = 'y~x_1+x_2+x_3+x_4+x_5+x_6+x_7+x_8+x_9+x_10+x_11+x_12-1', data=temp_df).fit(cov_type='HAC',cov_kwds={'maxlags':40})\n",
    "    ret_granular_summary_threemon_40lags.append(ols.summary(yname = temp_df[threemonth_per_change_names], xname = ['Jan', 'Feb', 'Mar', 'Apr', 'May', 'Jun', 'Jul', 'Aug', 'Sep', 'Oct', 'Nov', 'Dec']))\n",
    "    df = pd.DataFrame\n",
    "    df = pd.concat((ols.params.rename('coefficient'), ols.bse.rename('se'), ols.tvalues.rename('t')), axis=1)\n",
    "    ret_granular_data_threemon_40lags.append(df)"
   ]
  },
  {
   "cell_type": "markdown",
   "metadata": {},
   "source": [
    "Total, 3 Month"
   ]
  },
  {
   "cell_type": "code",
   "execution_count": 83,
   "metadata": {},
   "outputs": [],
   "source": [
    "#3 Month % Change, 20 lags (total)\n",
    "\n",
    "ret_total_summary_threemon_20lags = []\n",
    "ret_total_data_threemon_20lags = []\n",
    "\n",
    "for i in range(7):\n",
    "    temp_df = retail_monthly_total_nonadjusted.copy()\n",
    "    indices=np.where(retail_monthly_total_nonadjusted[threemonth_per_change_names_total[i]].notnull())[0]\n",
    "    index_names_temp = [k for k in index_names_total if index_names_total.index(k) in indices]\n",
    "    temp_df['y'] = retail_monthly_total_nonadjusted[threemonth_per_change_names_total[i]].dropna()\n",
    "    temp_df['x_1'] = retail_monthly_total_nonadjusted[1].loc[index_names_temp]\n",
    "    temp_df['x_2'] = retail_monthly_total_nonadjusted[2].loc[index_names_temp]\n",
    "    temp_df['x_3'] = retail_monthly_total_nonadjusted[3].loc[index_names_temp]\n",
    "    temp_df['x_4'] = retail_monthly_total_nonadjusted[4].loc[index_names_temp]\n",
    "    temp_df['x_5'] = retail_monthly_total_nonadjusted[5].loc[index_names_temp]\n",
    "    temp_df['x_6'] = retail_monthly_total_nonadjusted[6].loc[index_names_temp]\n",
    "    temp_df['x_7'] = retail_monthly_total_nonadjusted[7].loc[index_names_temp]\n",
    "    temp_df['x_8'] = retail_monthly_total_nonadjusted[8].loc[index_names_temp]\n",
    "    temp_df['x_9'] = retail_monthly_total_nonadjusted[9].loc[index_names_temp]\n",
    "    temp_df['x_10'] = retail_monthly_total_nonadjusted[10].loc[index_names_temp]\n",
    "    temp_df['x_11'] = retail_monthly_total_nonadjusted[11].loc[index_names_temp]\n",
    "    temp_df['x_12'] = retail_monthly_total_nonadjusted[12].loc[index_names_temp]\n",
    "    ols = sm.ols(formula = 'y~x_1+x_2+x_3+x_4+x_5+x_6+x_7+x_8+x_9+x_10+x_11+x_12-1', data=temp_df).fit(cov_type='HAC',cov_kwds={'maxlags':20})\n",
    "    ret_total_summary_threemon_20lags.append(ols.summary(yname = temp_df[threemonth_per_change_names_total[i]], xname = ['Jan', 'Feb', 'Mar', 'Apr', 'May', 'Jun', 'Jul', 'Aug', 'Sep', 'Oct', 'Nov', 'Dec']))\n",
    "    df = pd.DataFrame\n",
    "    df = pd.concat((ols.params.rename('coefficient'), ols.bse.rename('se'), ols.tvalues.rename('t')), axis=1)\n",
    "    ret_total_data_threemon_20lags.append(df)"
   ]
  },
  {
   "cell_type": "code",
   "execution_count": 84,
   "metadata": {},
   "outputs": [],
   "source": [
    "#3 Month % Change, 40 lags (total)\n",
    "\n",
    "ret_total_summary_threemon_40lags = []\n",
    "ret_total_data_threemon_40lags = []\n",
    "\n",
    "for i in range(7):\n",
    "    temp_df = retail_monthly_total_nonadjusted.copy()\n",
    "    indices=np.where(retail_monthly_total_nonadjusted[threemonth_per_change_names_total[i]].notnull())[0]\n",
    "    index_names_temp = [k for k in index_names_total if index_names_total.index(k) in indices]\n",
    "    temp_df['y'] = retail_monthly_total_nonadjusted[threemonth_per_change_names_total[i]].dropna()\n",
    "    temp_df['x_1'] = retail_monthly_total_nonadjusted[1].loc[index_names_temp]\n",
    "    temp_df['x_2'] = retail_monthly_total_nonadjusted[2].loc[index_names_temp]\n",
    "    temp_df['x_3'] = retail_monthly_total_nonadjusted[3].loc[index_names_temp]\n",
    "    temp_df['x_4'] = retail_monthly_total_nonadjusted[4].loc[index_names_temp]\n",
    "    temp_df['x_5'] = retail_monthly_total_nonadjusted[5].loc[index_names_temp]\n",
    "    temp_df['x_6'] = retail_monthly_total_nonadjusted[6].loc[index_names_temp]\n",
    "    temp_df['x_7'] = retail_monthly_total_nonadjusted[7].loc[index_names_temp]\n",
    "    temp_df['x_8'] = retail_monthly_total_nonadjusted[8].loc[index_names_temp]\n",
    "    temp_df['x_9'] = retail_monthly_total_nonadjusted[9].loc[index_names_temp]\n",
    "    temp_df['x_10'] = retail_monthly_total_nonadjusted[10].loc[index_names_temp]\n",
    "    temp_df['x_11'] = retail_monthly_total_nonadjusted[11].loc[index_names_temp]\n",
    "    temp_df['x_12'] = retail_monthly_total_nonadjusted[12].loc[index_names_temp]\n",
    "    ols = sm.ols(formula = 'y~x_1+x_2+x_3+x_4+x_5+x_6+x_7+x_8+x_9+x_10+x_11+x_12-1', data=temp_df).fit(cov_type='HAC',cov_kwds={'maxlags':40})\n",
    "    ret_total_summary_threemon_40lags.append(ols.summary(yname = temp_df[threemonth_per_change_names_total[i]], xname = ['Jan', 'Feb', 'Mar', 'Apr', 'May', 'Jun', 'Jul', 'Aug', 'Sep', 'Oct', 'Nov', 'Dec']))\n",
    "    df = pd.DataFrame\n",
    "    df = pd.concat((ols.params.rename('coefficient'), ols.bse.rename('se'), ols.tvalues.rename('t')), axis=1)\n",
    "    ret_total_data_threemon_40lags.append(df)"
   ]
  },
  {
   "cell_type": "markdown",
   "metadata": {},
   "source": [
    "## % Change Regressions (Quarterly, Nonadjusted)"
   ]
  },
  {
   "cell_type": "markdown",
   "metadata": {},
   "source": [
    "Granular"
   ]
  },
  {
   "cell_type": "code",
   "execution_count": 85,
   "metadata": {},
   "outputs": [
    {
     "name": "stderr",
     "output_type": "stream",
     "text": [
      "/Library/Frameworks/Python.framework/Versions/3.9/lib/python3.9/site-packages/statsmodels/regression/linear_model.py:1687: RuntimeWarning: invalid value encountered in subtract\n",
      "  return np.sum(weights * (model.endog - mean)**2)\n",
      "/Library/Frameworks/Python.framework/Versions/3.9/lib/python3.9/site-packages/statsmodels/regression/linear_model.py:1687: RuntimeWarning: invalid value encountered in subtract\n",
      "  return np.sum(weights * (model.endog - mean)**2)\n",
      "/Library/Frameworks/Python.framework/Versions/3.9/lib/python3.9/site-packages/statsmodels/regression/linear_model.py:1687: RuntimeWarning: invalid value encountered in subtract\n",
      "  return np.sum(weights * (model.endog - mean)**2)\n",
      "/Library/Frameworks/Python.framework/Versions/3.9/lib/python3.9/site-packages/statsmodels/regression/linear_model.py:1687: RuntimeWarning: invalid value encountered in subtract\n",
      "  return np.sum(weights * (model.endog - mean)**2)\n",
      "/Library/Frameworks/Python.framework/Versions/3.9/lib/python3.9/site-packages/statsmodels/regression/linear_model.py:1687: RuntimeWarning: invalid value encountered in subtract\n",
      "  return np.sum(weights * (model.endog - mean)**2)\n"
     ]
    }
   ],
   "source": [
    "#Quarterly % Change, 5 lags (Granular)\n",
    "\n",
    "ret_granular_summary_quarterly_5lags = []\n",
    "ret_granular_data_quarterly_5lags = []\n",
    "\n",
    "for i in range(58):\n",
    "    temp_df = retail_quarterly_granular_nonadjusted.copy()\n",
    "    indices=np.where(retail_quarterly_granular_nonadjusted[quarterly_per_change_names[i]].notnull())[0]\n",
    "    index_names_temp = [k for k in quarter_names if quarter_names.index(k) in indices]\n",
    "    temp_df['y'] = retail_quarterly_granular_nonadjusted[quarterly_per_change_names[i]].dropna()\n",
    "    temp_df['x_1'] = retail_quarterly_granular_nonadjusted['1'].loc[index_names_temp]\n",
    "    temp_df['x_2'] = retail_quarterly_granular_nonadjusted['2'].loc[index_names_temp]\n",
    "    temp_df['x_3'] = retail_quarterly_granular_nonadjusted['3'].loc[index_names_temp]\n",
    "    temp_df['x_4'] = retail_quarterly_granular_nonadjusted['4'].loc[index_names_temp]\n",
    "    ols = sm.ols(formula = 'y~x_1+x_2+x_3+x_4-1', data=temp_df).fit(cov_type='HAC',cov_kwds={'maxlags':5})\n",
    "    ret_granular_summary_quarterly_5lags.append(ols.summary(yname = temp_df[quarterly_per_change_names], xname = ['Q1', 'Q2', 'Q3', 'Q4']))\n",
    "    df = pd.DataFrame\n",
    "    df = pd.concat((ols.params.rename('coefficient'), ols.bse.rename('se'), ols.tvalues.rename('t')), axis=1)\n",
    "    ret_granular_data_quarterly_5lags.append(df)"
   ]
  },
  {
   "cell_type": "code",
   "execution_count": 86,
   "metadata": {},
   "outputs": [
    {
     "name": "stderr",
     "output_type": "stream",
     "text": [
      "/Library/Frameworks/Python.framework/Versions/3.9/lib/python3.9/site-packages/statsmodels/regression/linear_model.py:1687: RuntimeWarning: invalid value encountered in subtract\n",
      "  return np.sum(weights * (model.endog - mean)**2)\n",
      "/Library/Frameworks/Python.framework/Versions/3.9/lib/python3.9/site-packages/statsmodels/regression/linear_model.py:1687: RuntimeWarning: invalid value encountered in subtract\n",
      "  return np.sum(weights * (model.endog - mean)**2)\n",
      "/Library/Frameworks/Python.framework/Versions/3.9/lib/python3.9/site-packages/statsmodels/regression/linear_model.py:1687: RuntimeWarning: invalid value encountered in subtract\n",
      "  return np.sum(weights * (model.endog - mean)**2)\n",
      "/Library/Frameworks/Python.framework/Versions/3.9/lib/python3.9/site-packages/statsmodels/regression/linear_model.py:1687: RuntimeWarning: invalid value encountered in subtract\n",
      "  return np.sum(weights * (model.endog - mean)**2)\n",
      "/Library/Frameworks/Python.framework/Versions/3.9/lib/python3.9/site-packages/statsmodels/regression/linear_model.py:1687: RuntimeWarning: invalid value encountered in subtract\n",
      "  return np.sum(weights * (model.endog - mean)**2)\n"
     ]
    }
   ],
   "source": [
    "#Quarterly % Change, 10 lags (Granular)\n",
    "\n",
    "ret_granular_summary_quarterly_10lags = []\n",
    "ret_granular_data_quarterly_10lags = []\n",
    "\n",
    "for i in range(58):\n",
    "    temp_df = retail_quarterly_granular_nonadjusted.copy()\n",
    "    indices=np.where(retail_quarterly_granular_nonadjusted[quarterly_per_change_names[i]].notnull())[0]\n",
    "    index_names_temp = [k for k in quarter_names if quarter_names.index(k) in indices]\n",
    "    temp_df['y'] = retail_quarterly_granular_nonadjusted[quarterly_per_change_names[i]].dropna()\n",
    "    temp_df['x_1'] = retail_quarterly_granular_nonadjusted['1'].loc[index_names_temp]\n",
    "    temp_df['x_2'] = retail_quarterly_granular_nonadjusted['2'].loc[index_names_temp]\n",
    "    temp_df['x_3'] = retail_quarterly_granular_nonadjusted['3'].loc[index_names_temp]\n",
    "    temp_df['x_4'] = retail_quarterly_granular_nonadjusted['4'].loc[index_names_temp]\n",
    "    ols = sm.ols(formula = 'y~x_1+x_2+x_3+x_4-1', data=temp_df).fit(cov_type='HAC',cov_kwds={'maxlags':10})\n",
    "    ret_granular_summary_quarterly_10lags.append(ols.summary(yname = temp_df[quarterly_per_change_names], xname = ['Q1', 'Q2', 'Q3', 'Q4']))\n",
    "    df = pd.DataFrame\n",
    "    df = pd.concat((ols.params.rename('coefficient'), ols.bse.rename('se'), ols.tvalues.rename('t')), axis=1)\n",
    "    ret_granular_data_quarterly_10lags.append(df)"
   ]
  },
  {
   "cell_type": "markdown",
   "metadata": {},
   "source": [
    "Total"
   ]
  },
  {
   "cell_type": "code",
   "execution_count": 87,
   "metadata": {},
   "outputs": [],
   "source": [
    "#Quarterly % Change, 5 lags (Total)\n",
    "\n",
    "ret_total_summary_quarterly_5lags = []\n",
    "ret_total_data_quarterly_5lags = []\n",
    "\n",
    "for i in range(7):\n",
    "    temp_df = retail_quarterly_total_nonadjusted.copy()\n",
    "    indices=np.where(retail_quarterly_total_nonadjusted[quarterly_per_change_names_total[i]].notnull())[0]\n",
    "    index_names_temp = [k for k in quarter_names if quarter_names.index(k) in indices]\n",
    "    temp_df['y'] = retail_quarterly_total_nonadjusted[quarterly_per_change_names_total[i]].dropna()\n",
    "    temp_df['x_1'] = retail_quarterly_total_nonadjusted['1'].loc[index_names_temp]\n",
    "    temp_df['x_2'] = retail_quarterly_total_nonadjusted['2'].loc[index_names_temp]\n",
    "    temp_df['x_3'] = retail_quarterly_total_nonadjusted['3'].loc[index_names_temp]\n",
    "    temp_df['x_4'] = retail_quarterly_total_nonadjusted['4'].loc[index_names_temp]\n",
    "    ols = sm.ols(formula = 'y~x_1+x_2+x_3+x_4-1', data=temp_df).fit(cov_type='HAC',cov_kwds={'maxlags':5})\n",
    "    ret_total_summary_quarterly_5lags.append(ols.summary(yname = temp_df[quarterly_per_change_names_total], xname = ['Q1', 'Q2', 'Q3', 'Q4']))\n",
    "    df = pd.DataFrame\n",
    "    df = pd.concat((ols.params.rename('coefficient'), ols.bse.rename('se'), ols.tvalues.rename('t')), axis=1)\n",
    "    ret_total_data_quarterly_5lags.append(df)"
   ]
  },
  {
   "cell_type": "code",
   "execution_count": 88,
   "metadata": {},
   "outputs": [],
   "source": [
    "#Quarterly % Change, 10 lags (Total)\n",
    "\n",
    "ret_total_summary_quarterly_10lags = []\n",
    "ret_total_data_quarterly_10lags = []\n",
    "\n",
    "for i in range(7):\n",
    "    temp_df = retail_quarterly_total_nonadjusted.copy()\n",
    "    indices=np.where(retail_quarterly_total_nonadjusted[quarterly_per_change_names_total[i]].notnull())[0]\n",
    "    index_names_temp = [k for k in quarter_names if quarter_names.index(k) in indices]\n",
    "    temp_df['y'] = retail_quarterly_total_nonadjusted[quarterly_per_change_names_total[i]].dropna()\n",
    "    temp_df['x_1'] = retail_quarterly_total_nonadjusted['1'].loc[index_names_temp]\n",
    "    temp_df['x_2'] = retail_quarterly_total_nonadjusted['2'].loc[index_names_temp]\n",
    "    temp_df['x_3'] = retail_quarterly_total_nonadjusted['3'].loc[index_names_temp]\n",
    "    temp_df['x_4'] = retail_quarterly_total_nonadjusted['4'].loc[index_names_temp]\n",
    "    ols = sm.ols(formula = 'y~x_1+x_2+x_3+x_4-1', data=temp_df).fit(cov_type='HAC',cov_kwds={'maxlags':10})\n",
    "    ret_total_summary_quarterly_10lags.append(ols.summary(yname = temp_df[quarterly_per_change_names_total], xname = ['Q1', 'Q2', 'Q3', 'Q4']))\n",
    "    df = pd.DataFrame\n",
    "    df = pd.concat((ols.params.rename('coefficient'), ols.bse.rename('se'), ols.tvalues.rename('t')), axis=1)\n",
    "    ret_total_data_quarterly_10lags.append(df)"
   ]
  },
  {
   "cell_type": "markdown",
   "metadata": {},
   "source": [
    "## Changes in Expenditure Shares Regressions (Monthly, Nonadjusted)"
   ]
  },
  {
   "cell_type": "markdown",
   "metadata": {},
   "source": [
    "Granular"
   ]
  },
  {
   "cell_type": "code",
   "execution_count": null,
   "metadata": {},
   "outputs": [],
   "source": [
    "#Expenditure Shares, 20 lags (Granular)\n",
    "\n",
    "exp_granular_monthly_20lags = []\n",
    "exp_granular_data_monthly_20lags = []\n",
    "\n",
    "for i in range(58):\n",
    "    temp_df = retail_monthly_granular_nonadjusted.copy()\n",
    "    indices=np.where(retail_monthly_granular_nonadjusted[monthly_share_names[i]].notnull())[0]\n",
    "    index_names_temp = [k for k in index_names if index_names.index(k) in indices]\n",
    "    temp_df['y'] = retail_monthly_granular_nonadjusted[monthly_share_names[i]].dropna()\n",
    "    temp_df['x_1'] = retail_monthly_granular_nonadjusted[1].loc[index_names_temp]\n",
    "    temp_df['x_2'] = retail_monthly_granular_nonadjusted[2].loc[index_names_temp]\n",
    "    temp_df['x_3'] = retail_monthly_granular_nonadjusted[3].loc[index_names_temp]\n",
    "    temp_df['x_4'] = retail_monthly_granular_nonadjusted[4].loc[index_names_temp]\n",
    "    temp_df['x_5'] = retail_monthly_granular_nonadjusted[5].loc[index_names_temp]\n",
    "    temp_df['x_6'] = retail_monthly_granular_nonadjusted[6].loc[index_names_temp]\n",
    "    temp_df['x_7'] = retail_monthly_granular_nonadjusted[7].loc[index_names_temp]\n",
    "    temp_df['x_8'] = retail_monthly_granular_nonadjusted[8].loc[index_names_temp]\n",
    "    temp_df['x_9'] = retail_monthly_granular_nonadjusted[9].loc[index_names_temp]\n",
    "    temp_df['x_10'] = retail_monthly_granular_nonadjusted[10].loc[index_names_temp]\n",
    "    temp_df['x_11'] = retail_monthly_granular_nonadjusted[11].loc[index_names_temp]\n",
    "    temp_df['x_12'] = retail_monthly_granular_nonadjusted[12].loc[index_names_temp]\n",
    "    ols = sm.ols(formula = 'y~x_1+x_2+x_3+x_4+x_5+x_6+x_7+x_8+x_9+x_10+x_11+x_12-1', data=temp_df).fit(cov_type='HAC',cov_kwds={'maxlags':20})\n",
    "    exp_granular_monthly_20lags.append(ols.summary(yname = temp_df[monthly_share_names[i]], xname = ['Jan', 'Feb', 'Mar', 'Apr', 'May', 'Jun', 'Jul', 'Aug', 'Sep', 'Oct', 'Nov', 'Dec']))\n",
    "    df = pd.DataFrame\n",
    "    df = pd.concat((ols.params.rename('coefficient'), ols.bse.rename('se'), ols.tvalues.rename('t')), axis=1)\n",
    "    exp_granular_data_monthly_20lags.append(df)"
   ]
  },
  {
   "cell_type": "code",
   "execution_count": null,
   "metadata": {},
   "outputs": [],
   "source": [
    "#Expenditure Shares, 40 lags (Granular)\n",
    "\n",
    "exp_granular_monthly_40lags = []\n",
    "exp_granular_data_monthly_40lags = []\n",
    "\n",
    "for i in range(58):\n",
    "    temp_df = retail_monthly_granular_nonadjusted.copy()\n",
    "    indices=np.where(retail_monthly_granular_nonadjusted[monthly_share_names[i]].notnull())[0]\n",
    "    index_names_temp = [k for k in index_names if index_names.index(k) in indices]\n",
    "    temp_df['y'] = retail_monthly_granular_nonadjusted[monthly_share_names[i]].dropna()\n",
    "    temp_df['x_1'] = retail_monthly_granular_nonadjusted[1].loc[index_names_temp]\n",
    "    temp_df['x_2'] = retail_monthly_granular_nonadjusted[2].loc[index_names_temp]\n",
    "    temp_df['x_3'] = retail_monthly_granular_nonadjusted[3].loc[index_names_temp]\n",
    "    temp_df['x_4'] = retail_monthly_granular_nonadjusted[4].loc[index_names_temp]\n",
    "    temp_df['x_5'] = retail_monthly_granular_nonadjusted[5].loc[index_names_temp]\n",
    "    temp_df['x_6'] = retail_monthly_granular_nonadjusted[6].loc[index_names_temp]\n",
    "    temp_df['x_7'] = retail_monthly_granular_nonadjusted[7].loc[index_names_temp]\n",
    "    temp_df['x_8'] = retail_monthly_granular_nonadjusted[8].loc[index_names_temp]\n",
    "    temp_df['x_9'] = retail_monthly_granular_nonadjusted[9].loc[index_names_temp]\n",
    "    temp_df['x_10'] = retail_monthly_granular_nonadjusted[10].loc[index_names_temp]\n",
    "    temp_df['x_11'] = retail_monthly_granular_nonadjusted[11].loc[index_names_temp]\n",
    "    temp_df['x_12'] = retail_monthly_granular_nonadjusted[12].loc[index_names_temp]\n",
    "    ols = sm.ols(formula = 'y~x_1+x_2+x_3+x_4+x_5+x_6+x_7+x_8+x_9+x_10+x_11+x_12-1', data=temp_df).fit(cov_type='HAC',cov_kwds={'maxlags':40})\n",
    "    exp_granular_monthly_40lags.append(ols.summary(yname = temp_df[monthly_share_names[i]], xname = ['Jan', 'Feb', 'Mar', 'Apr', 'May', 'Jun', 'Jul', 'Aug', 'Sep', 'Oct', 'Nov', 'Dec']))\n",
    "    df = pd.DataFrame\n",
    "    df = pd.concat((ols.params.rename('coefficient'), ols.bse.rename('se'), ols.tvalues.rename('t')), axis=1)\n",
    "    exp_granular_data_monthly_40lags.append(df)"
   ]
  },
  {
   "cell_type": "markdown",
   "metadata": {},
   "source": [
    "Total"
   ]
  },
  {
   "cell_type": "code",
   "execution_count": 89,
   "metadata": {},
   "outputs": [],
   "source": [
    "#Expenditure Shares, 20 lags (total)\n",
    "\n",
    "exp_total_summary_monthly_20lags = []\n",
    "exp_total_data_monthly_20lags = []\n",
    "\n",
    "for i in range(7):\n",
    "    temp_df = retail_monthly_total_nonadjusted.copy()\n",
    "    indices=np.where(retail_monthly_total_nonadjusted[monthly_share_names_total[i]].notnull())[0] \n",
    "    index_names_temp = [k for k in index_names_total if index_names_total.index(k) in indices]\n",
    "    temp_df['y'] = retail_monthly_total_nonadjusted[monthly_share_names_total[i]].dropna()\n",
    "    temp_df['x_1'] = retail_monthly_total_nonadjusted[1].loc[index_names_temp]\n",
    "    temp_df['x_2'] = retail_monthly_total_nonadjusted[2].loc[index_names_temp]\n",
    "    temp_df['x_3'] = retail_monthly_total_nonadjusted[3].loc[index_names_temp]\n",
    "    temp_df['x_4'] = retail_monthly_total_nonadjusted[4].loc[index_names_temp]\n",
    "    temp_df['x_5'] = retail_monthly_total_nonadjusted[5].loc[index_names_temp]\n",
    "    temp_df['x_6'] = retail_monthly_total_nonadjusted[6].loc[index_names_temp]\n",
    "    temp_df['x_7'] = retail_monthly_total_nonadjusted[7].loc[index_names_temp]\n",
    "    temp_df['x_8'] = retail_monthly_total_nonadjusted[8].loc[index_names_temp]\n",
    "    temp_df['x_9'] = retail_monthly_total_nonadjusted[9].loc[index_names_temp]\n",
    "    temp_df['x_10'] = retail_monthly_total_nonadjusted[10].loc[index_names_temp]\n",
    "    temp_df['x_11'] = retail_monthly_total_nonadjusted[11].loc[index_names_temp]\n",
    "    temp_df['x_12'] = retail_monthly_total_nonadjusted[12].loc[index_names_temp]\n",
    "    ols = sm.ols(formula = 'y~x_1+x_2+x_3+x_4+x_5+x_6+x_7+x_8+x_9+x_10+x_11+x_12-1', data=temp_df).fit(cov_type='HAC',cov_kwds={'maxlags':20})\n",
    "    exp_total_summary_monthly_20lags.append(ols.summary(yname = temp_df[monthly_share_names_total[i]], xname = ['Jan', 'Feb', 'Mar', 'Apr', 'May', 'Jun', 'Jul', 'Aug', 'Sep', 'Oct', 'Nov', 'Dec']))\n",
    "    df = pd.DataFrame\n",
    "    df = pd.concat((ols.params.rename('coefficient'), ols.bse.rename('se'), ols.tvalues.rename('t')), axis=1)\n",
    "    exp_total_data_monthly_20lags.append(df)"
   ]
  },
  {
   "cell_type": "code",
   "execution_count": 90,
   "metadata": {},
   "outputs": [],
   "source": [
    "#Expenditure Shares, 40 lags (total)\n",
    "\n",
    "exp_total_summary_monthly_40lags = []\n",
    "exp_total_data_monthly_40lags = []\n",
    "\n",
    "for i in range(7):\n",
    "    temp_df = retail_monthly_total_nonadjusted.copy()\n",
    "    indices=np.where(retail_monthly_total_nonadjusted[monthly_share_names_total[i]].notnull())[0] \n",
    "    index_names_temp = [k for k in index_names_total if index_names_total.index(k) in indices]\n",
    "    temp_df['y'] = retail_monthly_total_nonadjusted[monthly_share_names_total[i]].dropna()\n",
    "    temp_df['x_1'] = retail_monthly_total_nonadjusted[1].loc[index_names_temp]\n",
    "    temp_df['x_2'] = retail_monthly_total_nonadjusted[2].loc[index_names_temp]\n",
    "    temp_df['x_3'] = retail_monthly_total_nonadjusted[3].loc[index_names_temp]\n",
    "    temp_df['x_4'] = retail_monthly_total_nonadjusted[4].loc[index_names_temp]\n",
    "    temp_df['x_5'] = retail_monthly_total_nonadjusted[5].loc[index_names_temp]\n",
    "    temp_df['x_6'] = retail_monthly_total_nonadjusted[6].loc[index_names_temp]\n",
    "    temp_df['x_7'] = retail_monthly_total_nonadjusted[7].loc[index_names_temp]\n",
    "    temp_df['x_8'] = retail_monthly_total_nonadjusted[8].loc[index_names_temp]\n",
    "    temp_df['x_9'] = retail_monthly_total_nonadjusted[9].loc[index_names_temp]\n",
    "    temp_df['x_10'] = retail_monthly_total_nonadjusted[10].loc[index_names_temp]\n",
    "    temp_df['x_11'] = retail_monthly_total_nonadjusted[11].loc[index_names_temp]\n",
    "    temp_df['x_12'] = retail_monthly_total_nonadjusted[12].loc[index_names_temp]\n",
    "    ols = sm.ols(formula = 'y~x_1+x_2+x_3+x_4+x_5+x_6+x_7+x_8+x_9+x_10+x_11+x_12-1', data=temp_df).fit(cov_type='HAC',cov_kwds={'maxlags':40})\n",
    "    exp_total_summary_monthly_40lags.append(ols.summary(yname = temp_df[monthly_share_names_total[i]], xname = ['Jan', 'Feb', 'Mar', 'Apr', 'May', 'Jun', 'Jul', 'Aug', 'Sep', 'Oct', 'Nov', 'Dec']))\n",
    "    df = pd.DataFrame\n",
    "    df = pd.concat((ols.params.rename('coefficient'), ols.bse.rename('se'), ols.tvalues.rename('t')), axis=1)\n",
    "    exp_total_data_monthly_40lags.append(df)"
   ]
  },
  {
   "cell_type": "markdown",
   "metadata": {},
   "source": [
    "## Plots"
   ]
  },
  {
   "cell_type": "markdown",
   "metadata": {},
   "source": [
    "% Changes, Sales (Monthly)"
   ]
  },
  {
   "cell_type": "code",
   "execution_count": null,
   "metadata": {},
   "outputs": [],
   "source": [
    "#Visualizations: Granular, 20 lags \n",
    "\n",
    "month_list = ['Jan', 'Feb', 'Mar', 'Apr', 'May', 'Jun', 'Jul', 'Aug', 'Sep', 'Oct', 'Nov', 'Dec']\n",
    "\n",
    "for i in range(58):\n",
    "    plot = plt.pyplot.errorbar(x=month_list, y=ret_granular_data_monthly_20lags[i]['coefficient'], yerr = ret_granular_data_monthly_20lags[i]['se'])\n",
    "    plt.pyplot.savefig(f'Data Visualizations/Retail Sales/Percent Changes/Granular, Monthly, 20 lags/{column_names[i]}_monthly_20lags.png', bbox_inches='tight')\n",
    "    plt.pyplot.clf()"
   ]
  },
  {
   "cell_type": "code",
   "execution_count": null,
   "metadata": {},
   "outputs": [],
   "source": [
    "#Visualizations: Granular, 40 lags\n",
    "\n",
    "month_list = ['Jan', 'Feb', 'Mar', 'Apr', 'May', 'Jun', 'Jul', 'Aug', 'Sep', 'Oct', 'Nov', 'Dec']\n",
    "\n",
    "for i in range(58):\n",
    "    plot = plt.pyplot.errorbar(x=month_list, y=ret_granular_data_monthly_40lags[i]['coefficient'], yerr = ret_granular_data_monthly_40lags[i]['se'])\n",
    "    plt.pyplot.savefig(f'Data Visualizations/Retail Sales/Percent Changes/Granular, Monthly, 40 lags/{column_names[i]}_monthly_40lags.png', bbox_inches='tight')\n",
    "    plt.pyplot.clf()"
   ]
  },
  {
   "cell_type": "code",
   "execution_count": null,
   "metadata": {},
   "outputs": [],
   "source": [
    "#Visualizations: Total, 20 lags\n",
    "\n",
    "month_list = ['Jan', 'Feb', 'Mar', 'Apr', 'May', 'Jun', 'Jul', 'Aug', 'Sep', 'Oct', 'Nov', 'Dec']\n",
    "\n",
    "for i in range(7):\n",
    "    plot = plt.pyplot.errorbar(x=month_list, y=ret_total_data_monthly_20lags[i]['coefficient'], yerr = ret_total_data_monthly_20lags[i]['se'])\n",
    "    plt.pyplot.savefig(f'Data Visualizations/Retail Sales/Percent Changes/Total, Monthly, 20 lags/{column_names_total[i]}_monthly_20lags.png', bbox_inches='tight')\n",
    "    plt.pyplot.clf()"
   ]
  },
  {
   "cell_type": "code",
   "execution_count": null,
   "metadata": {},
   "outputs": [],
   "source": [
    "#Visualizations: Total, 40 lags\n",
    "\n",
    "month_list = ['Jan', 'Feb', 'Mar', 'Apr', 'May', 'Jun', 'Jul', 'Aug', 'Sep', 'Oct', 'Nov', 'Dec']\n",
    "\n",
    "for i in range(7):\n",
    "    plot = plt.pyplot.errorbar(x=month_list, y=ret_total_data_monthly_40lags[i]['coefficient'], yerr = ret_total_data_monthly_40lags[i]['se'])\n",
    "    plt.pyplot.savefig(f'Data Visualizations/Retail Sales/Percent Changes/Total, Monthly, 40 lags/{column_names_total[i]}_monthly_40lags.png', bbox_inches='tight')\n",
    "    plt.pyplot.clf()"
   ]
  },
  {
   "cell_type": "markdown",
   "metadata": {},
   "source": [
    "% Changes, Sales (3 months)"
   ]
  },
  {
   "cell_type": "code",
   "execution_count": null,
   "metadata": {},
   "outputs": [],
   "source": [
    "#Visualizations: Granular, 20 lags \n",
    "\n",
    "month_list = ['Jan', 'Feb', 'Mar', 'Apr', 'May', 'Jun', 'Jul', 'Aug', 'Sep', 'Oct', 'Nov', 'Dec']\n",
    "\n",
    "for i in range(58):\n",
    "    plot = plt.pyplot.errorbar(x=month_list, y=ret_granular_data_threemon_20lags[i]['coefficient'], yerr = ret_granular_data_threemon_20lags[i]['se'])\n",
    "    plt.pyplot.savefig(f'Data Visualizations/Retail Sales/Percent Changes/Granular, Quarterly, 20 lags/{column_names[i]}_quarterly_20lags.png', bbox_inches='tight')\n",
    "    plt.pyplot.clf()"
   ]
  },
  {
   "cell_type": "code",
   "execution_count": null,
   "metadata": {},
   "outputs": [],
   "source": [
    "#Visualizations: Granular, 40 lags \n",
    "\n",
    "month_list = ['Jan', 'Feb', 'Mar', 'Apr', 'May', 'Jun', 'Jul', 'Aug', 'Sep', 'Oct', 'Nov', 'Dec']\n",
    "\n",
    "for i in range(58):\n",
    "    plot = plt.pyplot.errorbar(x=month_list, y=ret_granular_data_threemon_40lags[i]['coefficient'], yerr = ret_granular_data_threemon_40lags[i]['se'])\n",
    "    plt.pyplot.savefig(f'Data Visualizations/Retail Sales/Percent Changes/Granular, Quarterly, 20 lags/{column_names[i]}_quarterly_40lags.png', bbox_inches='tight')\n",
    "    plt.pyplot.clf()"
   ]
  },
  {
   "cell_type": "code",
   "execution_count": 91,
   "metadata": {},
   "outputs": [
    {
     "data": {
      "text/plain": [
       "<Figure size 432x288 with 0 Axes>"
      ]
     },
     "metadata": {},
     "output_type": "display_data"
    }
   ],
   "source": [
    "#Visualizations: Total, 20 lags\n",
    "\n",
    "month_list = ['Jan', 'Feb', 'Mar', 'Apr', 'May', 'Jun', 'Jul', 'Aug', 'Sep', 'Oct', 'Nov', 'Dec']\n",
    "\n",
    "for i in range(7):\n",
    "    plot = plt.pyplot.errorbar(x=month_list, y=ret_total_data_threemon_20lags[i]['coefficient'], yerr = ret_total_data_threemon_20lags[i]['se'])\n",
    "    plt.pyplot.savefig(f'Data Visualizations/Retail Sales/Percent Changes/Total, 3 Months, 20 lags/{column_names_total[i]}_threemon_20lags.png', bbox_inches='tight')\n",
    "    plt.pyplot.clf()"
   ]
  },
  {
   "cell_type": "code",
   "execution_count": 92,
   "metadata": {},
   "outputs": [
    {
     "data": {
      "text/plain": [
       "<Figure size 432x288 with 0 Axes>"
      ]
     },
     "metadata": {},
     "output_type": "display_data"
    }
   ],
   "source": [
    "#Visualizations: Total, 40 lags\n",
    "\n",
    "month_list = ['Jan', 'Feb', 'Mar', 'Apr', 'May', 'Jun', 'Jul', 'Aug', 'Sep', 'Oct', 'Nov', 'Dec']\n",
    "\n",
    "for i in range(7):\n",
    "    plot = plt.pyplot.errorbar(x=month_list, y=ret_total_data_threemon_40lags[i]['coefficient'], yerr = ret_total_data_threemon_40lags[i]['se'])\n",
    "    plt.pyplot.savefig(f'Data Visualizations/Retail Sales/Percent Changes/Total, 3 Months, 40 lags/{column_names_total[i]}_threemon_40lags.png', bbox_inches='tight')\n",
    "    plt.pyplot.clf()"
   ]
  },
  {
   "cell_type": "markdown",
   "metadata": {},
   "source": [
    "% Changes, Sales (Quarterly)"
   ]
  },
  {
   "cell_type": "code",
   "execution_count": 51,
   "metadata": {},
   "outputs": [
    {
     "data": {
      "text/plain": [
       "<Figure size 432x288 with 0 Axes>"
      ]
     },
     "metadata": {},
     "output_type": "display_data"
    }
   ],
   "source": [
    "#Visualizations: Total, 5 lags \n",
    "\n",
    "quarter_list = ['Q1', 'Q2', 'Q3', 'Q4']\n",
    "\n",
    "for i in range(7):\n",
    "    plot = plt.pyplot.errorbar(x=quarter_list, y=ret_total_data_quarterly_5lags[i]['coefficient'], yerr = ret_total_data_quarterly_5lags[i]['se'])\n",
    "    plt.pyplot.savefig(f'Data Visualizations/Retail Sales/Percent Changes/Total, Quarterly, 5 lags/{column_names_total[i]}_quarterly_5lags.png', bbox_inches='tight')\n",
    "    plt.pyplot.clf()"
   ]
  },
  {
   "cell_type": "code",
   "execution_count": 52,
   "metadata": {},
   "outputs": [
    {
     "data": {
      "text/plain": [
       "<Figure size 432x288 with 0 Axes>"
      ]
     },
     "metadata": {},
     "output_type": "display_data"
    }
   ],
   "source": [
    "#Visualizations: Total, 10 lags \n",
    "\n",
    "quarter_list = ['Q1', 'Q2', 'Q3', 'Q4']\n",
    "\n",
    "for i in range(7):\n",
    "    plot = plt.pyplot.errorbar(x=quarter_list, y=ret_total_data_quarterly_10lags[i]['coefficient'], yerr = ret_total_data_quarterly_10lags[i]['se'])\n",
    "    plt.pyplot.savefig(f'Data Visualizations/Retail Sales/Percent Changes/Total, Quarterly, 10 lags/{column_names_total[i]}_quarterly_10lags.png', bbox_inches='tight')\n",
    "    plt.pyplot.clf()"
   ]
  },
  {
   "cell_type": "code",
   "execution_count": 93,
   "metadata": {},
   "outputs": [
    {
     "data": {
      "text/plain": [
       "<Figure size 432x288 with 0 Axes>"
      ]
     },
     "metadata": {},
     "output_type": "display_data"
    }
   ],
   "source": [
    "#Visualizations: Granular, 5 lags \n",
    "\n",
    "quarter_list = ['Q1', 'Q2', 'Q3', 'Q4']\n",
    "\n",
    "for i in range(58):\n",
    "    plot = plt.pyplot.errorbar(x=quarter_list, y=ret_granular_data_quarterly_5lags[i]['coefficient'], yerr = ret_granular_data_quarterly_5lags[i]['se'])\n",
    "    plt.pyplot.savefig(f'Data Visualizations/Retail Sales/Percent Changes/Granular, Quarterly, 5 lags/{column_names[i]}_quarterly_5lags.png', bbox_inches='tight')\n",
    "    plt.pyplot.clf()"
   ]
  },
  {
   "cell_type": "code",
   "execution_count": 94,
   "metadata": {},
   "outputs": [
    {
     "data": {
      "text/plain": [
       "<Figure size 432x288 with 0 Axes>"
      ]
     },
     "metadata": {},
     "output_type": "display_data"
    }
   ],
   "source": [
    "#Visualizations: Granular, 10 lags \n",
    "\n",
    "quarter_list = ['Q1', 'Q2', 'Q3', 'Q4']\n",
    "\n",
    "for i in range(58):\n",
    "    plot = plt.pyplot.errorbar(x=quarter_list, y=ret_granular_data_quarterly_10lags[i]['coefficient'], yerr = ret_granular_data_quarterly_10lags[i]['se'])\n",
    "    plt.pyplot.savefig(f'Data Visualizations/Retail Sales/Percent Changes/Granular, Quarterly, 10 lags/{column_names[i]}_quarterly_10lags.png', bbox_inches='tight')\n",
    "    plt.pyplot.clf()"
   ]
  },
  {
   "cell_type": "markdown",
   "metadata": {},
   "source": [
    "Expenditure Shares"
   ]
  },
  {
   "cell_type": "code",
   "execution_count": null,
   "metadata": {},
   "outputs": [],
   "source": [
    "#Visualizations: Granular, 20 lags \n",
    "\n",
    "month_list = ['Jan', 'Feb', 'Mar', 'Apr', 'May', 'Jun', 'Jul', 'Aug', 'Sep', 'Oct', 'Nov', 'Dec']\n",
    "\n",
    "for i in range(58):\n",
    "    plot = plt.pyplot.errorbar(x=month_list, y=exp_granular_data_monthly_20lags[i]['coefficient'], yerr = exp_granular_data_monthly_20lags[i]['se'])\n",
    "    plt.pyplot.savefig(f'Data Visualizations/Retail Sales/Sales Shares/Granular, Monthly, 20 lags/{column_names[i]}_monthly_20lags.png', bbox_inches='tight')\n",
    "    plt.pyplot.clf()"
   ]
  },
  {
   "cell_type": "code",
   "execution_count": null,
   "metadata": {},
   "outputs": [],
   "source": [
    "#Visualizations: Granular, 40 lags \n",
    "\n",
    "month_list = ['Jan', 'Feb', 'Mar', 'Apr', 'May', 'Jun', 'Jul', 'Aug', 'Sep', 'Oct', 'Nov', 'Dec']\n",
    "\n",
    "for i in range(58):\n",
    "    plot = plt.pyplot.errorbar(x=month_list, y=exp_granular_data_monthly_40lags[i]['coefficient'], yerr = exp_granular_data_monthly_40lags[i]['se'])\n",
    "    plt.pyplot.savefig(f'Data Visualizations/Retail Sales/Sales Shares/Granular, Monthly, 40 lags/{column_names[i]}_monthly_40lags.png', bbox_inches='tight')\n",
    "    plt.pyplot.clf()"
   ]
  },
  {
   "cell_type": "code",
   "execution_count": 95,
   "metadata": {},
   "outputs": [
    {
     "data": {
      "text/plain": [
       "<Figure size 432x288 with 0 Axes>"
      ]
     },
     "metadata": {},
     "output_type": "display_data"
    }
   ],
   "source": [
    "#Visualizations: Total, 20 lags\n",
    "\n",
    "month_list = ['Jan', 'Feb', 'Mar', 'Apr', 'May', 'Jun', 'Jul', 'Aug', 'Sep', 'Oct', 'Nov', 'Dec']\n",
    "\n",
    "for i in range(7):\n",
    "    plot = plt.pyplot.errorbar(x=month_list, y=exp_total_data_monthly_20lags[i]['coefficient'], yerr = exp_total_data_monthly_20lags[i]['se'])\n",
    "    plt.pyplot.savefig(f'Data Visualizations/Retail Sales/Sales Shares/Total, Monthly, 20 lags/{column_names_total[i]}_monthly_20lags.png', bbox_inches='tight')\n",
    "    plt.pyplot.clf()\n"
   ]
  },
  {
   "cell_type": "code",
   "execution_count": 96,
   "metadata": {},
   "outputs": [
    {
     "data": {
      "text/plain": [
       "<Figure size 432x288 with 0 Axes>"
      ]
     },
     "metadata": {},
     "output_type": "display_data"
    }
   ],
   "source": [
    "#Visualizations: Total, 40 lags\n",
    "\n",
    "month_list = ['Jan', 'Feb', 'Mar', 'Apr', 'May', 'Jun', 'Jul', 'Aug', 'Sep', 'Oct', 'Nov', 'Dec']\n",
    "\n",
    "for i in range(7):\n",
    "    plot = plt.pyplot.errorbar(x=month_list, y=exp_total_data_monthly_40lags[i]['coefficient'], yerr = exp_total_data_monthly_40lags[i]['se'])\n",
    "    plt.pyplot.savefig(f'Data Visualizations/Retail Sales/Sales Shares/Total, Monthly, 40 lags/{column_names_total[i]}_monthly_40lags.png', bbox_inches='tight')\n",
    "    plt.pyplot.clf()\n"
   ]
  }
 ],
 "metadata": {
  "interpreter": {
   "hash": "aee8b7b246df8f9039afb4144a1f6fd8d2ca17a180786b69acc140d282b71a49"
  },
  "kernelspec": {
   "display_name": "Python 3.9.6 64-bit",
   "language": "python",
   "name": "python3"
  },
  "language_info": {
   "codemirror_mode": {
    "name": "ipython",
    "version": 3
   },
   "file_extension": ".py",
   "mimetype": "text/x-python",
   "name": "python",
   "nbconvert_exporter": "python",
   "pygments_lexer": "ipython3",
   "version": "3.9.6"
  },
  "orig_nbformat": 4
 },
 "nbformat": 4,
 "nbformat_minor": 2
}

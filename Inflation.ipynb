{
 "cells": [
  {
   "cell_type": "code",
   "execution_count": null,
   "metadata": {},
   "outputs": [],
   "source": [
    "import os \n",
    "\n",
    "os.getcwd()\n",
    "\n",
    "os.chdir('/Users/matth/Dropbox/Seasonal Macro')"
   ]
  },
  {
   "cell_type": "code",
   "execution_count": null,
   "metadata": {},
   "outputs": [],
   "source": [
    "from calendar import month\n",
    "import pandas as pd\n",
    "import numpy as np\n",
    "import matplotlib as plt\n",
    "import matplotlib.pyplot\n",
    "import statsmodels.formula.api as sm \n",
    "import os\n",
    "from datetime import datetime\n",
    "from pyspark.sql.functions import date_format\n",
    "from pandas import ExcelWriter\n",
    "import re as re\n",
    "import itertools"
   ]
  },
  {
   "cell_type": "code",
   "execution_count": null,
   "metadata": {},
   "outputs": [],
   "source": [
    "pd.set_option('display.max_rows', 10)\n",
    "pd.set_option('display.max_columns', 10)"
   ]
  },
  {
   "cell_type": "markdown",
   "metadata": {},
   "source": [
    "# Inflation Data\n"
   ]
  },
  {
   "cell_type": "markdown",
   "metadata": {},
   "source": [
    "### Cleaning"
   ]
  },
  {
   "cell_type": "code",
   "execution_count": null,
   "metadata": {},
   "outputs": [],
   "source": [
    "#Defining Useful Lists/Housekeeping\n",
    "\n",
    "\"\"\"\n",
    "We read in data from the file 'MasterInflationData.xlsx'.\n",
    "\n",
    "'data' is a LIST of DATAFRAMES, where each dataframe is read in from a corresponding SHEET_NAME in MasterInflationData\n",
    "\"\"\"\n",
    "\n",
    "data = []\n",
    "\n",
    "sheet_names = [\"All Items\", \"No Food or Energy\", \"Fuels and Utilities\",\n",
    "\"Energy\", \"Gasoline (not dropped)\", \"Gasoline (dropped)\",\n",
    "\"Apparel\", \"Commodities\", \"Durables\", \"New Vehicles\", \"Used Vehicles\", \n",
    "\"Medical Care\", \"Medical Care Services\", \"Services\", \"Education\"]\n",
    "\n",
    "sheet = pd.ExcelFile(\"Data/MasterInflationData.xlsx\")\n",
    "\n",
    "sheet_indices = range(len(sheet_names))\n"
   ]
  },
  {
   "cell_type": "code",
   "execution_count": null,
   "metadata": {},
   "outputs": [],
   "source": [
    "\n",
    "#Filling in data list with dataframes\n",
    "for i in sheet_names:\n",
    "    data.append(pd.read_excel(sheet, i, na_values=['NA'], usecols='A:D'))\n",
    "\n",
    "for i in range(len(sheet_names)):\n",
    "    data[i]['observation_date'].dt.to_pydatetime() "
   ]
  },
  {
   "cell_type": "code",
   "execution_count": null,
   "metadata": {},
   "outputs": [],
   "source": [
    "\n",
    "#Creating monthly dummies\n",
    "dummies = []\n",
    "\n",
    "for i in range(len(sheet_names)):\n",
    "    datetime_vals = data[i][\"observation_date\"].dt.to_pydatetime()\n",
    "    data[i][\"observation_date\"] = pd.Series(datetime_vals, dtype = object)\n",
    "\n",
    "for i in range(len(sheet_names)):\n",
    "    data[i][\"months\"] = pd.DatetimeIndex(data[i][\"observation_date\"]).month\n",
    "    dummies = pd.get_dummies(data[i]['months'])\n",
    "    data[i] = data[i].join(dummies)\n"
   ]
  },
  {
   "cell_type": "markdown",
   "metadata": {},
   "source": [
    "### Regressions"
   ]
  },
  {
   "cell_type": "code",
   "execution_count": null,
   "metadata": {},
   "outputs": [],
   "source": [
    "#Monthly % Change, 20 lags\n",
    "\n",
    "#Each column labeled 1,2,..,12 is a dummy for January, February, ..., December\n",
    "#data[i] gives us the table we are looking at, data[i].columns[2] is our outcome of interest (monthly % change)\n",
    "reg_summary_monthly_20lags = []\n",
    "reg_data_monthly_20lags = []\n",
    "\n",
    "for i in range(len(sheet_names)):\n",
    "    y = data[i][f\"{data[i].columns[2]}\"]\n",
    "    x_1 = data[i][1]\n",
    "    x_2 = data[i][2]\n",
    "    x_3 = data[i][3]\n",
    "    x_4 = data[i][4]\n",
    "    x_5 = data[i][5]\n",
    "    x_6 = data[i][6]\n",
    "    x_7 = data[i][7]\n",
    "    x_8 = data[i][8]\n",
    "    x_9 = data[i][9]\n",
    "    x_10 = data[i][10]\n",
    "    x_11 = data[i][11]\n",
    "    x_12 = data[i][12]\n",
    "    ols = sm.ols(formula = 'y ~ x_1 + x_2 + x_3 + x_4 + x_5 + x_6 + x_7 + x_8 + x_9 + x_10 +x_11 +x_12 -1', data=data[i]).fit(cov_type='HAC',cov_kwds={'maxlags':20})\n",
    "    reg_summary_monthly_20lags.append(ols.summary(yname = f\"{data[i].columns[2]}\", xname = ['Jan', 'Feb', 'Mar', 'Apr', 'May', 'Jun', 'Jul', 'Aug', 'Sep', 'Oct', 'Nov', 'Dec']))\n",
    "    df = pd.DataFrame\n",
    "    df = pd.concat((ols.params.rename('coefficient'), ols.bse.rename('se'), ols.tvalues.rename('t')), axis=1)\n",
    "    reg_data_monthly_20lags.append(df)\n"
   ]
  },
  {
   "cell_type": "code",
   "execution_count": null,
   "metadata": {},
   "outputs": [],
   "source": [
    "\n",
    "#Monthly % Change, 40 lags\n",
    "reg_summary_monthly_40lags = []\n",
    "reg_data_monthly_40lags = []\n",
    "\n",
    "\n",
    "for i in range(len(sheet_names)):\n",
    "    y = data[i][f\"{data[i].columns[2]}\"]\n",
    "    x_1 = data[i][1]\n",
    "    x_2 = data[i][2]\n",
    "    x_3 = data[i][3]\n",
    "    x_4 = data[i][4]\n",
    "    x_5 = data[i][5]\n",
    "    x_6 = data[i][6]\n",
    "    x_7 = data[i][7]\n",
    "    x_8 = data[i][8]\n",
    "    x_9 = data[i][9]\n",
    "    x_10 = data[i][10]\n",
    "    x_11 = data[i][11]\n",
    "    x_12 = data[i][12]\n",
    "    ols = sm.ols(formula = 'y ~ x_1 + x_2 + x_3 + x_4 + x_5 + x_6 + x_7 + x_8 + x_9 + x_10 + x_11 + x_12 -1', data = data[i]).fit(cov_type='HAC', cov_kwds={'maxlags':40})\n",
    "    reg_summary_monthly_40lags.append(ols.summary(yname=f\"{data[i].columns[2]}\", xname=['Jan', 'Feb', 'Mar', 'Apr', 'May', 'Jun', 'Jul', 'Aug', 'Sep', 'Oct', 'Nov', 'Dec']))\n",
    "    df = pd.DataFrame \n",
    "    df = pd.concat((ols.params.rename('coefficient'), ols.bse.rename('se'), ols.tvalues.rename('t')), axis=1)\n",
    "    reg_data_monthly_40lags.append(df)"
   ]
  },
  {
   "cell_type": "code",
   "execution_count": null,
   "metadata": {},
   "outputs": [],
   "source": [
    "\n",
    "#3 Month % Change, 20 lags\n",
    "reg_summary_3month_20lags = []\n",
    "reg_data_3month_20lags = []\n",
    "\n",
    "\n",
    "for i in range(len(sheet_names)):\n",
    "    y = data[i][f\"{data[i].columns[3]}\"]\n",
    "    x_1 = data[i][1]\n",
    "    x_2 = data[i][2]\n",
    "    x_3 = data[i][3]\n",
    "    x_4 = data[i][4]\n",
    "    x_5 = data[i][5]\n",
    "    x_6 = data[i][6]\n",
    "    x_7 = data[i][7]\n",
    "    x_8 = data[i][8]\n",
    "    x_9 = data[i][9]\n",
    "    x_10 = data[i][10]\n",
    "    x_11 = data[i][11]\n",
    "    x_12 = data[i][12]\n",
    "    ols = sm.ols(formula = 'y ~ x_1 + x_2 + x_3 + x_4 + x_5 + x_6 + x_7 + x_8 + x_9 + x_10 + x_11 + x_12 -1', data = data[i]).fit(cov_type='HAC', cov_kwds={'maxlags':20})\n",
    "    reg_summary_3month_20lags.append(ols.summary(yname=f\"{data[i].columns[3]}\", xname=['Jan', 'Feb', 'Mar', 'Apr', 'May', 'Jun', 'Jul', 'Aug', 'Sep', 'Oct', 'Nov', 'Dec']))\n",
    "    df = pd.DataFrame \n",
    "    df = pd.concat((ols.params.rename('coefficient'), ols.bse.rename('se'), ols.tvalues.rename('t')), axis=1)\n",
    "    reg_data_3month_20lags.append(df)"
   ]
  },
  {
   "cell_type": "code",
   "execution_count": null,
   "metadata": {},
   "outputs": [],
   "source": [
    "\n",
    "#3 Month % Change, 40 lags\n",
    "\n",
    "reg_summary_3month_40lags = []\n",
    "reg_data_3month_40lags = []\n",
    "\n",
    "\n",
    "for i in range(len(sheet_names)):\n",
    "    y = data[i][f\"{data[i].columns[3]}\"]\n",
    "    x_1 = data[i][1]\n",
    "    x_2 = data[i][2]\n",
    "    x_3 = data[i][3]\n",
    "    x_4 = data[i][4]\n",
    "    x_5 = data[i][5]\n",
    "    x_6 = data[i][6]\n",
    "    x_7 = data[i][7]\n",
    "    x_8 = data[i][8]\n",
    "    x_9 = data[i][9]\n",
    "    x_10 = data[i][10]\n",
    "    x_11 = data[i][11]\n",
    "    x_12 = data[i][12]\n",
    "    ols = sm.ols(formula = 'y ~ x_1 + x_2 + x_3 + x_4 + x_5 + x_6 + x_7 + x_8 + x_9 + x_10 + x_11 + x_12 -1', data = data[i]).fit(cov_type='HAC', cov_kwds={'maxlags':40})\n",
    "    reg_summary_3month_40lags.append(ols.summary(yname=f\"{data[i].columns[3]}\", xname=['Jan', 'Feb', 'Mar', 'Apr', 'May', 'Jun', 'Jul', 'Aug', 'Sep', 'Oct', 'Nov', 'Dec']))\n",
    "    df = pd.DataFrame \n",
    "    df = pd.concat((ols.params.rename('coefficient'), ols.bse.rename('se'), ols.tvalues.rename('t')), axis=1)\n",
    "    reg_data_3month_40lags.append(df)"
   ]
  },
  {
   "cell_type": "markdown",
   "metadata": {},
   "source": [
    "### Plots"
   ]
  },
  {
   "cell_type": "code",
   "execution_count": null,
   "metadata": {},
   "outputs": [],
   "source": [
    "\n",
    "#Visualizations: Monthly, 20 lags \n",
    "\n",
    "month_list = ['Jan', 'Feb', 'Mar', 'Apr', 'May', 'Jun', 'Jul', 'Aug', 'Sep', 'Oct', 'Nov', 'Dec']\n",
    "\n",
    "for i in range(len(sheet_names)):\n",
    "    plot = plt.pyplot.errorbar(x=month_list, y=reg_data_monthly_20lags[i]['coefficient'], yerr = reg_data_monthly_20lags[i]['se'])\n",
    "    plt.pyplot.savefig(f'Data Visualizations/Inflation/Monthly, 20 lags/{sheet_names[i]}_monthly_20lags.png', bbox_inches='tight')\n",
    "    plt.pyplot.clf()"
   ]
  },
  {
   "cell_type": "code",
   "execution_count": null,
   "metadata": {},
   "outputs": [],
   "source": [
    "#Visualizations: Monthly, 40 lags\n",
    "\n",
    "month_list = ['Jan', 'Feb', 'Mar', 'Apr', 'May', 'Jun', 'Jul', 'Aug', 'Sep', 'Oct', 'Nov', 'Dec']\n",
    "\n",
    "for i in range(len(sheet_names)):\n",
    "    plot = plt.pyplot.errorbar(x=month_list, y=reg_data_monthly_40lags[i]['coefficient'], yerr = reg_data_monthly_40lags[i]['se'])\n",
    "    plt.pyplot.savefig(f'Data Visualizations/Inflation/Monthly, 40 lags/{sheet_names[i]}_monthly_40lags.png', bbox_inches='tight')\n",
    "    plt.pyplot.clf()\n"
   ]
  },
  {
   "cell_type": "code",
   "execution_count": null,
   "metadata": {},
   "outputs": [],
   "source": [
    "#Visualizations: 3 Month, 20 lags\n",
    "\n",
    "month_list = ['Jan', 'Feb', 'Mar', 'Apr', 'May', 'Jun', 'Jul', 'Aug', 'Sep', 'Oct', 'Nov', 'Dec']\n",
    "\n",
    "for i in range(len(sheet_names)):\n",
    "    plot = plt.pyplot.errorbar(x=month_list, y=reg_data_3month_20lags[i]['coefficient'], yerr = reg_data_3month_20lags[i]['se'])\n",
    "    plt.pyplot.savefig(f'Data Visualizations/Inflation/3 month, 20 lags/{sheet_names[i]}_3month_20lags.png', bbox_inches='tight')\n",
    "    plt.pyplot.clf()\n"
   ]
  },
  {
   "cell_type": "code",
   "execution_count": null,
   "metadata": {},
   "outputs": [],
   "source": [
    "#Visualizations: 3 Month, 40 lags\n",
    "\n",
    "month_list = ['Jan', 'Feb', 'Mar', 'Apr', 'May', 'Jun', 'Jul', 'Aug', 'Sep', 'Oct', 'Nov', 'Dec']\n",
    "\n",
    "for i in range(len(sheet_names)):\n",
    "    plot = plt.pyplot.errorbar(x=month_list, y=reg_data_3month_40lags[i]['coefficient'], yerr = reg_data_3month_40lags[i]['se'])\n",
    "    plt.pyplot.savefig(f'Data Visualizations/Inflation/3 month, 40 lags/{sheet_names[i]}_3month_40lags.png', bbox_inches='tight')\n",
    "    plt.pyplot.clf()\n"
   ]
  }
 ],
 "metadata": {
  "interpreter": {
   "hash": "aee8b7b246df8f9039afb4144a1f6fd8d2ca17a180786b69acc140d282b71a49"
  },
  "kernelspec": {
   "display_name": "Python 3.9.6 64-bit",
   "language": "python",
   "name": "python3"
  },
  "language_info": {
   "codemirror_mode": {
    "name": "ipython",
    "version": 3
   },
   "file_extension": ".py",
   "mimetype": "text/x-python",
   "name": "python",
   "nbconvert_exporter": "python",
   "pygments_lexer": "ipython3",
   "version": "3.9.6"
  },
  "orig_nbformat": 4
 },
 "nbformat": 4,
 "nbformat_minor": 2
}
